{
 "cells": [
  {
   "cell_type": "code",
   "execution_count": 1,
   "metadata": {},
   "outputs": [],
   "source": [
    "import sklearn.preprocessing\n",
    "from sklearn.tree import DecisionTreeClassifier\n",
    "from sklearn.ensemble import RandomForestClassifier\n",
    "from sklearn.neighbors import KNeighborsClassifier\n",
    "from sklearn.linear_model import LogisticRegression\n",
    "from sklearn.metrics import accuracy_score, classification_report\n",
    "\n",
    "import pandas as pd\n",
    "import numpy as np\n",
    "import matplotlib.pyplot as plt\n",
    "import seaborn as sns\n",
    "\n",
    "from sklearn.preprocessing import MinMaxScaler\n",
    "\n",
    "import pandas as pd\n",
    "from prepare import telco_pipeline, telco_prep, telco_modeling, telco_modelingv2\n"
   ]
  },
  {
   "cell_type": "code",
   "execution_count": 2,
   "metadata": {},
   "outputs": [],
   "source": [
    "train_X, val_X, test_X, train_y, val_y, test_y = telco_modeling()"
   ]
  },
  {
   "cell_type": "code",
   "execution_count": 3,
   "metadata": {},
   "outputs": [
    {
     "data": {
      "text/html": [
       "<div>\n",
       "<style scoped>\n",
       "    .dataframe tbody tr th:only-of-type {\n",
       "        vertical-align: middle;\n",
       "    }\n",
       "\n",
       "    .dataframe tbody tr th {\n",
       "        vertical-align: top;\n",
       "    }\n",
       "\n",
       "    .dataframe thead th {\n",
       "        text-align: right;\n",
       "    }\n",
       "</style>\n",
       "<table border=\"1\" class=\"dataframe\">\n",
       "  <thead>\n",
       "    <tr style=\"text-align: right;\">\n",
       "      <th></th>\n",
       "      <th>tenure</th>\n",
       "      <th>monthly_charges</th>\n",
       "      <th>internet_dsl</th>\n",
       "      <th>internet_fiber_optics</th>\n",
       "      <th>internet_no_internet</th>\n",
       "      <th>payment_method_bank_transfer</th>\n",
       "      <th>payment_method_credit_card</th>\n",
       "      <th>payment_method_electronic_check</th>\n",
       "      <th>payment_method_mailed_check</th>\n",
       "    </tr>\n",
       "  </thead>\n",
       "  <tbody>\n",
       "    <tr>\n",
       "      <th>0</th>\n",
       "      <td>14</td>\n",
       "      <td>76.45</td>\n",
       "      <td>False</td>\n",
       "      <td>True</td>\n",
       "      <td>False</td>\n",
       "      <td>False</td>\n",
       "      <td>False</td>\n",
       "      <td>True</td>\n",
       "      <td>False</td>\n",
       "    </tr>\n",
       "    <tr>\n",
       "      <th>1</th>\n",
       "      <td>5</td>\n",
       "      <td>70.00</td>\n",
       "      <td>True</td>\n",
       "      <td>False</td>\n",
       "      <td>False</td>\n",
       "      <td>False</td>\n",
       "      <td>False</td>\n",
       "      <td>False</td>\n",
       "      <td>True</td>\n",
       "    </tr>\n",
       "    <tr>\n",
       "      <th>2</th>\n",
       "      <td>35</td>\n",
       "      <td>75.20</td>\n",
       "      <td>False</td>\n",
       "      <td>True</td>\n",
       "      <td>False</td>\n",
       "      <td>False</td>\n",
       "      <td>False</td>\n",
       "      <td>True</td>\n",
       "      <td>False</td>\n",
       "    </tr>\n",
       "    <tr>\n",
       "      <th>3</th>\n",
       "      <td>58</td>\n",
       "      <td>86.10</td>\n",
       "      <td>True</td>\n",
       "      <td>False</td>\n",
       "      <td>False</td>\n",
       "      <td>False</td>\n",
       "      <td>False</td>\n",
       "      <td>True</td>\n",
       "      <td>False</td>\n",
       "    </tr>\n",
       "    <tr>\n",
       "      <th>4</th>\n",
       "      <td>2</td>\n",
       "      <td>49.60</td>\n",
       "      <td>True</td>\n",
       "      <td>False</td>\n",
       "      <td>False</td>\n",
       "      <td>False</td>\n",
       "      <td>False</td>\n",
       "      <td>False</td>\n",
       "      <td>True</td>\n",
       "    </tr>\n",
       "  </tbody>\n",
       "</table>\n",
       "</div>"
      ],
      "text/plain": [
       "   tenure  monthly_charges  internet_dsl  internet_fiber_optics  \\\n",
       "0      14            76.45         False                   True   \n",
       "1       5            70.00          True                  False   \n",
       "2      35            75.20         False                   True   \n",
       "3      58            86.10          True                  False   \n",
       "4       2            49.60          True                  False   \n",
       "\n",
       "   internet_no_internet  payment_method_bank_transfer  \\\n",
       "0                 False                         False   \n",
       "1                 False                         False   \n",
       "2                 False                         False   \n",
       "3                 False                         False   \n",
       "4                 False                         False   \n",
       "\n",
       "   payment_method_credit_card  payment_method_electronic_check  \\\n",
       "0                       False                             True   \n",
       "1                       False                            False   \n",
       "2                       False                             True   \n",
       "3                       False                             True   \n",
       "4                       False                            False   \n",
       "\n",
       "   payment_method_mailed_check  \n",
       "0                        False  \n",
       "1                         True  \n",
       "2                        False  \n",
       "3                        False  \n",
       "4                         True  "
      ]
     },
     "execution_count": 3,
     "metadata": {},
     "output_type": "execute_result"
    }
   ],
   "source": [
    "train_X.head()"
   ]
  },
  {
   "cell_type": "code",
   "execution_count": 4,
   "metadata": {},
   "outputs": [
    {
     "data": {
      "text/plain": [
       "5609    False\n",
       "2209     True\n",
       "6919     True\n",
       "2284    False\n",
       "845      True\n",
       "Name: churn, dtype: bool"
      ]
     },
     "execution_count": 4,
     "metadata": {},
     "output_type": "execute_result"
    }
   ],
   "source": [
    "train_y.head()"
   ]
  },
  {
   "cell_type": "code",
   "execution_count": 5,
   "metadata": {},
   "outputs": [
    {
     "data": {
      "text/plain": [
       "((4930, 9), (1056, 9), (1057, 9), (4930,), (1056,), (1057,))"
      ]
     },
     "execution_count": 5,
     "metadata": {},
     "output_type": "execute_result"
    }
   ],
   "source": [
    "train_X.shape, val_X.shape, test_X.shape, train_y.shape, val_y.shape, test_y.shape"
   ]
  },
  {
   "cell_type": "code",
   "execution_count": 6,
   "metadata": {},
   "outputs": [
    {
     "data": {
      "text/plain": [
       "(4930,)"
      ]
     },
     "execution_count": 6,
     "metadata": {},
     "output_type": "execute_result"
    }
   ],
   "source": [
    "train_y.shape"
   ]
  },
  {
   "cell_type": "code",
   "execution_count": 7,
   "metadata": {},
   "outputs": [
    {
     "data": {
      "text/plain": [
       "0    False\n",
       "Name: churn, dtype: bool"
      ]
     },
     "execution_count": 7,
     "metadata": {},
     "output_type": "execute_result"
    }
   ],
   "source": [
    "train_y.mode()"
   ]
  },
  {
   "cell_type": "code",
   "execution_count": 8,
   "metadata": {},
   "outputs": [
    {
     "data": {
      "text/plain": [
       "0.734685598377282"
      ]
     },
     "execution_count": 8,
     "metadata": {},
     "output_type": "execute_result"
    }
   ],
   "source": [
    "#Get the baseline accuracy. Accuracy = Ratio of true predictions to the total number of predictions\n",
    "base_acc = (train_y == 0).mean()#when applying mean to a t/f df, the trues values are 1.\n",
    "base_acc"
   ]
  },
  {
   "cell_type": "code",
   "execution_count": 9,
   "metadata": {},
   "outputs": [
    {
     "name": "stdout",
     "output_type": "stream",
     "text": [
      "Decision Tree Model Results:\n",
      "Accuracy: 0.9904665314401623\n",
      "\n",
      "Classification Report:\n",
      "               precision    recall  f1-score   support\n",
      "\n",
      "       False       0.99      1.00      0.99      3622\n",
      "        True       0.99      0.97      0.98      1308\n",
      "\n",
      "    accuracy                           0.99      4930\n",
      "   macro avg       0.99      0.98      0.99      4930\n",
      "weighted avg       0.99      0.99      0.99      4930\n",
      "\n"
     ]
    }
   ],
   "source": [
    "# Instantiate the DecisionTreeClassifier\n",
    "dt = DecisionTreeClassifier(random_state=42)\n",
    "\n",
    "# Train the model\n",
    "dt.fit(train_X, train_y)\n",
    "\n",
    "# Predict on the training data\n",
    "train_predictions = dt.predict(train_X)\n",
    "\n",
    "# Evaluate the model\n",
    "accuracy = accuracy_score(train_y, train_predictions)\n",
    "classification_rep = classification_report(train_y, train_predictions)\n",
    "\n",
    "print(\"Decision Tree Model Results:\")\n",
    "print(\"Accuracy:\", accuracy)\n",
    "print(\"\\nClassification Report:\\n\", classification_rep)\n"
   ]
  },
  {
   "cell_type": "code",
   "execution_count": 10,
   "metadata": {},
   "outputs": [
    {
     "data": {
      "text/plain": [
       "0.9904665314401623"
      ]
     },
     "execution_count": 10,
     "metadata": {},
     "output_type": "execute_result"
    }
   ],
   "source": [
    "dt.score(train_X, train_y)"
   ]
  },
  {
   "cell_type": "code",
   "execution_count": 11,
   "metadata": {},
   "outputs": [
    {
     "name": "stdout",
     "output_type": "stream",
     "text": [
      "Decision Tree Model Accuracy on Training Data: 0.9904665314401623\n",
      "Decision Tree Model Accuracy on Validation Data: 0.7348484848484849\n"
     ]
    }
   ],
   "source": [
    "\n",
    "# Instantiate the DecisionTreeClassifier as 'dt'\n",
    "dt = DecisionTreeClassifier(random_state=42)\n",
    "\n",
    "# Train the model\n",
    "dt.fit(train_X, train_y)\n",
    "\n",
    "# Calculate and print the accuracy on the training data\n",
    "train_score = dt.score(train_X, train_y)\n",
    "print(\"Decision Tree Model Accuracy on Training Data:\", train_score)\n",
    "\n",
    "val_score = dt.score(val_X, val_y)\n",
    "print(\"Decision Tree Model Accuracy on Validation Data:\", val_score)"
   ]
  },
  {
   "cell_type": "code",
   "execution_count": 12,
   "metadata": {},
   "outputs": [
    {
     "data": {
      "text/html": [
       "<div>\n",
       "<style scoped>\n",
       "    .dataframe tbody tr th:only-of-type {\n",
       "        vertical-align: middle;\n",
       "    }\n",
       "\n",
       "    .dataframe tbody tr th {\n",
       "        vertical-align: top;\n",
       "    }\n",
       "\n",
       "    .dataframe thead th {\n",
       "        text-align: right;\n",
       "    }\n",
       "</style>\n",
       "<table border=\"1\" class=\"dataframe\">\n",
       "  <thead>\n",
       "    <tr style=\"text-align: right;\">\n",
       "      <th></th>\n",
       "      <th>max_depth</th>\n",
       "      <th>train_acc</th>\n",
       "      <th>val_acc</th>\n",
       "    </tr>\n",
       "  </thead>\n",
       "  <tbody>\n",
       "    <tr>\n",
       "      <th>0</th>\n",
       "      <td>1</td>\n",
       "      <td>0.734686</td>\n",
       "      <td>0.734848</td>\n",
       "    </tr>\n",
       "    <tr>\n",
       "      <th>1</th>\n",
       "      <td>2</td>\n",
       "      <td>0.791278</td>\n",
       "      <td>0.797348</td>\n",
       "    </tr>\n",
       "    <tr>\n",
       "      <th>2</th>\n",
       "      <td>3</td>\n",
       "      <td>0.791278</td>\n",
       "      <td>0.797348</td>\n",
       "    </tr>\n",
       "    <tr>\n",
       "      <th>3</th>\n",
       "      <td>4</td>\n",
       "      <td>0.793509</td>\n",
       "      <td>0.800189</td>\n",
       "    </tr>\n",
       "    <tr>\n",
       "      <th>4</th>\n",
       "      <td>5</td>\n",
       "      <td>0.803245</td>\n",
       "      <td>0.801136</td>\n",
       "    </tr>\n",
       "    <tr>\n",
       "      <th>5</th>\n",
       "      <td>6</td>\n",
       "      <td>0.811156</td>\n",
       "      <td>0.797348</td>\n",
       "    </tr>\n",
       "    <tr>\n",
       "      <th>6</th>\n",
       "      <td>7</td>\n",
       "      <td>0.818458</td>\n",
       "      <td>0.786932</td>\n",
       "    </tr>\n",
       "    <tr>\n",
       "      <th>7</th>\n",
       "      <td>8</td>\n",
       "      <td>0.831643</td>\n",
       "      <td>0.780303</td>\n",
       "    </tr>\n",
       "    <tr>\n",
       "      <th>8</th>\n",
       "      <td>9</td>\n",
       "      <td>0.845030</td>\n",
       "      <td>0.776515</td>\n",
       "    </tr>\n",
       "  </tbody>\n",
       "</table>\n",
       "</div>"
      ],
      "text/plain": [
       "   max_depth  train_acc   val_acc\n",
       "0          1   0.734686  0.734848\n",
       "1          2   0.791278  0.797348\n",
       "2          3   0.791278  0.797348\n",
       "3          4   0.793509  0.800189\n",
       "4          5   0.803245  0.801136\n",
       "5          6   0.811156  0.797348\n",
       "6          7   0.818458  0.786932\n",
       "7          8   0.831643  0.780303\n",
       "8          9   0.845030  0.776515"
      ]
     },
     "execution_count": 12,
     "metadata": {},
     "output_type": "execute_result"
    }
   ],
   "source": [
    "#Loop to \n",
    "seed = 42\n",
    "train_acc = []\n",
    "val_acc = []\n",
    "depth = []\n",
    "\n",
    "for i in range(1, 10):\n",
    "    \n",
    "    clf = DecisionTreeClassifier(max_depth = i, random_state = seed)\n",
    "    \n",
    "    clf.fit(train_X, train_y)\n",
    "    \n",
    "    depth.append(i)\n",
    "    \n",
    "    train_acc.append(clf.score(train_X, train_y))\n",
    "    \n",
    "    val_acc.append(clf.score(val_X, val_y))\n",
    "    \n",
    "trees = pd.DataFrame({'max_depth': depth,\n",
    "                      'train_acc': train_acc,\n",
    "                      'val_acc': val_acc})\n",
    "\n",
    "trees"
   ]
  },
  {
   "cell_type": "code",
   "execution_count": 13,
   "metadata": {},
   "outputs": [
    {
     "name": "stdout",
     "output_type": "stream",
     "text": [
      "Accuracy of Random Forest on train is 0.8129817444219067\n",
      "Accuracy of Random Forest on validate is 0.8058712121212122\n"
     ]
    }
   ],
   "source": [
    "def get_forest(train_X, val_X, train_y, val_y):\n",
    "    '''get random forest accuracy on train and validate data'''\n",
    "\n",
    "    # create model object and fit it to training data\n",
    "    rf = RandomForestClassifier(max_depth=7, min_samples_leaf= 10, random_state=42)\n",
    "    rf.fit(train_X,train_y)\n",
    "\n",
    "    # print result\n",
    "    print(f\"Accuracy of Random Forest on train is {rf.score(train_X, train_y)}\")\n",
    "    print(f\"Accuracy of Random Forest on validate is {rf.score(val_X, val_y)}\")\n",
    "    \n",
    "get_forest(train_X, val_X, train_y, val_y)"
   ]
  },
  {
   "cell_type": "code",
   "execution_count": 14,
   "metadata": {},
   "outputs": [],
   "source": [
    "#Test a combination of depths and min leaf settings. \n",
    "seed = 42\n",
    "train_acc = []\n",
    "val_acc = []\n",
    "depth = []\n",
    "leaf = []\n",
    "\n",
    "# Extract the target column as a Series\n",
    "train_y_array = train_y\n",
    "val_y_array = val_y\n",
    "\n",
    "for max_depth in range(10, 0, -1):  # Decreasing depth from 10 to 1\n",
    "    for min_samples_leaf in range(1, 10):  # Increasing min_samples_leaf from 1 to 5\n",
    "        rf = RandomForestClassifier(max_depth=max_depth, min_samples_leaf=min_samples_leaf, random_state=seed)\n",
    "        rf.fit(train_X, train_y)\n",
    "        \n",
    "        depth.append(max_depth)\n",
    "        leaf.append(min_samples_leaf)\n",
    "        \n",
    "        train_acc.append(rf.score(train_X, train_y))\n",
    "        val_acc.append(rf.score(val_X, val_y))"
   ]
  },
  {
   "cell_type": "code",
   "execution_count": 15,
   "metadata": {},
   "outputs": [
    {
     "data": {
      "text/html": [
       "<div>\n",
       "<style scoped>\n",
       "    .dataframe tbody tr th:only-of-type {\n",
       "        vertical-align: middle;\n",
       "    }\n",
       "\n",
       "    .dataframe tbody tr th {\n",
       "        vertical-align: top;\n",
       "    }\n",
       "\n",
       "    .dataframe thead th {\n",
       "        text-align: right;\n",
       "    }\n",
       "</style>\n",
       "<table border=\"1\" class=\"dataframe\">\n",
       "  <thead>\n",
       "    <tr style=\"text-align: right;\">\n",
       "      <th></th>\n",
       "      <th>depth</th>\n",
       "      <th>train_acc</th>\n",
       "      <th>val_acc</th>\n",
       "      <th>leaf</th>\n",
       "    </tr>\n",
       "  </thead>\n",
       "  <tbody>\n",
       "    <tr>\n",
       "      <th>35</th>\n",
       "      <td>7</td>\n",
       "      <td>0.813185</td>\n",
       "      <td>0.803977</td>\n",
       "      <td>9</td>\n",
       "    </tr>\n",
       "    <tr>\n",
       "      <th>46</th>\n",
       "      <td>5</td>\n",
       "      <td>0.803245</td>\n",
       "      <td>0.803030</td>\n",
       "      <td>2</td>\n",
       "    </tr>\n",
       "    <tr>\n",
       "      <th>34</th>\n",
       "      <td>7</td>\n",
       "      <td>0.813185</td>\n",
       "      <td>0.802083</td>\n",
       "      <td>8</td>\n",
       "    </tr>\n",
       "    <tr>\n",
       "      <th>33</th>\n",
       "      <td>7</td>\n",
       "      <td>0.812982</td>\n",
       "      <td>0.802083</td>\n",
       "      <td>7</td>\n",
       "    </tr>\n",
       "    <tr>\n",
       "      <th>45</th>\n",
       "      <td>5</td>\n",
       "      <td>0.803448</td>\n",
       "      <td>0.802083</td>\n",
       "      <td>1</td>\n",
       "    </tr>\n",
       "  </tbody>\n",
       "</table>\n",
       "</div>"
      ],
      "text/plain": [
       "    depth  train_acc   val_acc  leaf\n",
       "35      7   0.813185  0.803977     9\n",
       "46      5   0.803245  0.803030     2\n",
       "34      7   0.813185  0.802083     8\n",
       "33      7   0.812982  0.802083     7\n",
       "45      5   0.803448  0.802083     1"
      ]
     },
     "execution_count": 15,
     "metadata": {},
     "output_type": "execute_result"
    }
   ],
   "source": [
    "#Print the results\n",
    "trees = pd.DataFrame({'depth': depth,\n",
    "                      'train_acc': train_acc,\n",
    "                      'val_acc': val_acc,\n",
    "                      'leaf': leaf})\n",
    "\n",
    "trees.sort_values(by=['val_acc', 'train_acc', 'depth', 'leaf'], ascending=[False, False, True, True]).head()"
   ]
  },
  {
   "cell_type": "code",
   "execution_count": 16,
   "metadata": {},
   "outputs": [
    {
     "name": "stdout",
     "output_type": "stream",
     "text": [
      "Accuracy of Random Forest on train is 0.8016227180527383\n",
      "Accuracy of Random Forest on validate is 0.7945075757575758\n"
     ]
    }
   ],
   "source": [
    "seed = 42\n",
    "\n",
    "logreg = LogisticRegression(random_state = seed, max_iter = 100, multi_class= 'multinomial')\n",
    "\n",
    "logreg.fit(train_X, train_y)\n",
    "\n",
    "# print result\n",
    "print(f\"Accuracy of Random Forest on train is {logreg.score(train_X, train_y)}\")\n",
    "print(f\"Accuracy of Random Forest on validate is {logreg.score(val_X, val_y)}\")"
   ]
  },
  {
   "cell_type": "code",
   "execution_count": 17,
   "metadata": {},
   "outputs": [
    {
     "name": "stdout",
     "output_type": "stream",
     "text": [
      "C = 0.001, Train Score = 0.7884, Validation Score = 0.7992\n",
      "C = 0.010, Train Score = 0.7943, Validation Score = 0.8002\n",
      "C = 0.100, Train Score = 0.7980, Validation Score = 0.7992\n",
      "C = 1.000, Train Score = 0.8022, Validation Score = 0.7945\n",
      "C = 10.000, Train Score = 0.8014, Validation Score = 0.7964\n",
      "C = 100.000, Train Score = 0.8016, Validation Score = 0.7964\n",
      "\n",
      "Best C = 0.010, Best Train Score = 0.7943, Best Validation Score = 0.8002\n"
     ]
    }
   ],
   "source": [
    "\n",
    "seed = 42\n",
    "\n",
    "best_score = 0\n",
    "best_C = 0\n",
    "best_train_score = 0\n",
    "\n",
    "for C in [0.001, 0.01, 0.1, 1, 10, 100]:\n",
    "    logreg = LogisticRegression(random_state=seed, C=C, max_iter=1000)\n",
    "    logreg.fit(train_X, train_y)\n",
    "    \n",
    "    train_score = logreg.score(train_X, train_y)\n",
    "    val_score = logreg.score(val_X, val_y)\n",
    "    \n",
    "    print(f\"C = {C:.3f}, Train Score = {train_score:.4f}, Validation Score = {val_score:.4f}\")\n",
    "    \n",
    "    if val_score > best_score:\n",
    "        best_score = val_score\n",
    "        best_C = C\n",
    "        best_train_score = train_score\n",
    "\n",
    "print(f\"\\nBest C = {best_C:.3f}, Best Train Score = {best_train_score:.4f}, Best Validation Score = {best_score:.4f}\")"
   ]
  },
  {
   "cell_type": "code",
   "execution_count": 18,
   "metadata": {},
   "outputs": [
    {
     "name": "stdout",
     "output_type": "stream",
     "text": [
      "Error: Solver newton-cg supports only 'l2' or 'none' penalties, got l1 penalty.\n",
      "Error: Solver newton-cg supports only 'l2' or 'none' penalties, got l1 penalty.\n",
      "Error: Solver newton-cg supports only 'l2' or 'none' penalties, got l1 penalty.\n",
      "Error: Solver newton-cg supports only 'l2' or 'none' penalties, got l1 penalty.\n",
      "Error: Solver lbfgs supports only 'l2' or 'none' penalties, got l1 penalty.\n",
      "Error: Solver lbfgs supports only 'l2' or 'none' penalties, got l1 penalty.\n",
      "Error: Solver lbfgs supports only 'l2' or 'none' penalties, got l1 penalty.\n",
      "Error: Solver lbfgs supports only 'l2' or 'none' penalties, got l1 penalty.\n",
      "C = 0.001, Penalty = l1, Solver = liblinear, Class Weight = None, Multi-Class = ovr\n",
      "Train Score = 0.7621, Validation Score = 0.7746\n",
      "Error: Solver liblinear does not support a multinomial backend.\n",
      "C = 0.001, Penalty = l1, Solver = liblinear, Class Weight = balanced, Multi-Class = ovr\n",
      "Train Score = 0.6874, Validation Score = 0.6932\n",
      "Error: Solver liblinear does not support a multinomial backend.\n",
      "Error: Solver sag supports only 'l2' or 'none' penalties, got l1 penalty.\n",
      "Error: Solver sag supports only 'l2' or 'none' penalties, got l1 penalty.\n",
      "Error: Solver sag supports only 'l2' or 'none' penalties, got l1 penalty.\n",
      "Error: Solver sag supports only 'l2' or 'none' penalties, got l1 penalty.\n",
      "C = 0.001, Penalty = l1, Solver = saga, Class Weight = None, Multi-Class = ovr\n",
      "Train Score = 0.7878, Validation Score = 0.7992\n",
      "C = 0.001, Penalty = l1, Solver = saga, Class Weight = None, Multi-Class = multinomial\n",
      "Train Score = 0.7878, Validation Score = 0.7992\n",
      "C = 0.001, Penalty = l1, Solver = saga, Class Weight = balanced, Multi-Class = ovr\n",
      "Train Score = 0.7276, Validation Score = 0.7235\n",
      "C = 0.001, Penalty = l1, Solver = saga, Class Weight = balanced, Multi-Class = multinomial\n",
      "Train Score = 0.7276, Validation Score = 0.7235\n",
      "C = 0.001, Penalty = l2, Solver = newton-cg, Class Weight = None, Multi-Class = ovr\n",
      "Train Score = 0.7884, Validation Score = 0.7992\n",
      "C = 0.001, Penalty = l2, Solver = newton-cg, Class Weight = None, Multi-Class = multinomial\n",
      "Train Score = 0.7913, Validation Score = 0.7945\n",
      "C = 0.001, Penalty = l2, Solver = newton-cg, Class Weight = balanced, Multi-Class = ovr\n",
      "Train Score = 0.7312, Validation Score = 0.7311\n",
      "C = 0.001, Penalty = l2, Solver = newton-cg, Class Weight = balanced, Multi-Class = multinomial\n",
      "Train Score = 0.7347, Validation Score = 0.7358\n",
      "C = 0.001, Penalty = l2, Solver = lbfgs, Class Weight = None, Multi-Class = ovr\n",
      "Train Score = 0.7884, Validation Score = 0.7992\n",
      "C = 0.001, Penalty = l2, Solver = lbfgs, Class Weight = None, Multi-Class = multinomial\n",
      "Train Score = 0.7911, Validation Score = 0.7945\n",
      "C = 0.001, Penalty = l2, Solver = lbfgs, Class Weight = balanced, Multi-Class = ovr\n",
      "Train Score = 0.7312, Validation Score = 0.7311\n",
      "C = 0.001, Penalty = l2, Solver = lbfgs, Class Weight = balanced, Multi-Class = multinomial\n",
      "Train Score = 0.7347, Validation Score = 0.7358\n",
      "C = 0.001, Penalty = l2, Solver = liblinear, Class Weight = None, Multi-Class = ovr\n",
      "Train Score = 0.7933, Validation Score = 0.7917\n",
      "Error: Solver liblinear does not support a multinomial backend.\n",
      "C = 0.001, Penalty = l2, Solver = liblinear, Class Weight = balanced, Multi-Class = ovr\n",
      "Train Score = 0.7108, Validation Score = 0.7140\n",
      "Error: Solver liblinear does not support a multinomial backend.\n",
      "C = 0.001, Penalty = l2, Solver = sag, Class Weight = None, Multi-Class = ovr\n",
      "Train Score = 0.7882, Validation Score = 0.7992\n",
      "C = 0.001, Penalty = l2, Solver = sag, Class Weight = None, Multi-Class = multinomial\n",
      "Train Score = 0.7913, Validation Score = 0.7945\n",
      "C = 0.001, Penalty = l2, Solver = sag, Class Weight = balanced, Multi-Class = ovr\n",
      "Train Score = 0.7312, Validation Score = 0.7311\n",
      "C = 0.001, Penalty = l2, Solver = sag, Class Weight = balanced, Multi-Class = multinomial\n",
      "Train Score = 0.7347, Validation Score = 0.7358\n"
     ]
    },
    {
     "name": "stderr",
     "output_type": "stream",
     "text": [
      "/usr/local/anaconda3/lib/python3.10/site-packages/sklearn/linear_model/_sag.py:350: ConvergenceWarning: The max_iter was reached which means the coef_ did not converge\n",
      "  warnings.warn(\n"
     ]
    },
    {
     "name": "stdout",
     "output_type": "stream",
     "text": [
      "C = 0.001, Penalty = l2, Solver = saga, Class Weight = None, Multi-Class = ovr\n",
      "Train Score = 0.7884, Validation Score = 0.7992\n",
      "C = 0.001, Penalty = l2, Solver = saga, Class Weight = None, Multi-Class = multinomial\n",
      "Train Score = 0.7913, Validation Score = 0.7945\n",
      "C = 0.001, Penalty = l2, Solver = saga, Class Weight = balanced, Multi-Class = ovr\n",
      "Train Score = 0.7314, Validation Score = 0.7311\n",
      "C = 0.001, Penalty = l2, Solver = saga, Class Weight = balanced, Multi-Class = multinomial\n",
      "Train Score = 0.7345, Validation Score = 0.7358\n",
      "Error: Solver newton-cg supports only 'l2' or 'none' penalties, got l1 penalty.\n",
      "Error: Solver newton-cg supports only 'l2' or 'none' penalties, got l1 penalty.\n",
      "Error: Solver newton-cg supports only 'l2' or 'none' penalties, got l1 penalty.\n",
      "Error: Solver newton-cg supports only 'l2' or 'none' penalties, got l1 penalty.\n",
      "Error: Solver lbfgs supports only 'l2' or 'none' penalties, got l1 penalty.\n",
      "Error: Solver lbfgs supports only 'l2' or 'none' penalties, got l1 penalty.\n",
      "Error: Solver lbfgs supports only 'l2' or 'none' penalties, got l1 penalty.\n",
      "Error: Solver lbfgs supports only 'l2' or 'none' penalties, got l1 penalty.\n",
      "C = 0.010, Penalty = l1, Solver = liblinear, Class Weight = None, Multi-Class = ovr\n",
      "Train Score = 0.7899, Validation Score = 0.7888\n",
      "Error: Solver liblinear does not support a multinomial backend.\n",
      "C = 0.010, Penalty = l1, Solver = liblinear, Class Weight = balanced, Multi-Class = ovr\n",
      "Train Score = 0.7043, Validation Score = 0.7083\n",
      "Error: Solver liblinear does not support a multinomial backend.\n",
      "Error: Solver sag supports only 'l2' or 'none' penalties, got l1 penalty.\n",
      "Error: Solver sag supports only 'l2' or 'none' penalties, got l1 penalty.\n",
      "Error: Solver sag supports only 'l2' or 'none' penalties, got l1 penalty.\n",
      "Error: Solver sag supports only 'l2' or 'none' penalties, got l1 penalty.\n"
     ]
    },
    {
     "name": "stderr",
     "output_type": "stream",
     "text": [
      "/usr/local/anaconda3/lib/python3.10/site-packages/sklearn/linear_model/_sag.py:350: ConvergenceWarning: The max_iter was reached which means the coef_ did not converge\n",
      "  warnings.warn(\n"
     ]
    },
    {
     "name": "stdout",
     "output_type": "stream",
     "text": [
      "C = 0.010, Penalty = l1, Solver = saga, Class Weight = None, Multi-Class = ovr\n",
      "Train Score = 0.7870, Validation Score = 0.7973\n",
      "C = 0.010, Penalty = l1, Solver = saga, Class Weight = None, Multi-Class = multinomial\n",
      "Train Score = 0.7872, Validation Score = 0.7973\n",
      "C = 0.010, Penalty = l1, Solver = saga, Class Weight = balanced, Multi-Class = ovr\n",
      "Train Score = 0.7323, Validation Score = 0.7339\n",
      "C = 0.010, Penalty = l1, Solver = saga, Class Weight = balanced, Multi-Class = multinomial\n",
      "Train Score = 0.7320, Validation Score = 0.7339\n",
      "C = 0.010, Penalty = l2, Solver = newton-cg, Class Weight = None, Multi-Class = ovr\n",
      "Train Score = 0.7943, Validation Score = 0.8002\n",
      "C = 0.010, Penalty = l2, Solver = newton-cg, Class Weight = None, Multi-Class = multinomial\n",
      "Train Score = 0.7966, Validation Score = 0.8002\n",
      "C = 0.010, Penalty = l2, Solver = newton-cg, Class Weight = balanced, Multi-Class = ovr\n",
      "Train Score = 0.7406, Validation Score = 0.7443\n",
      "C = 0.010, Penalty = l2, Solver = newton-cg, Class Weight = balanced, Multi-Class = multinomial\n",
      "Train Score = 0.7422, Validation Score = 0.7509\n",
      "C = 0.010, Penalty = l2, Solver = lbfgs, Class Weight = None, Multi-Class = ovr\n",
      "Train Score = 0.7943, Validation Score = 0.8002\n",
      "C = 0.010, Penalty = l2, Solver = lbfgs, Class Weight = None, Multi-Class = multinomial\n",
      "Train Score = 0.7966, Validation Score = 0.8002\n",
      "C = 0.010, Penalty = l2, Solver = lbfgs, Class Weight = balanced, Multi-Class = ovr\n",
      "Train Score = 0.7408, Validation Score = 0.7443\n",
      "C = 0.010, Penalty = l2, Solver = lbfgs, Class Weight = balanced, Multi-Class = multinomial\n",
      "Train Score = 0.7424, Validation Score = 0.7509\n",
      "C = 0.010, Penalty = l2, Solver = liblinear, Class Weight = None, Multi-Class = ovr\n",
      "Train Score = 0.7966, Validation Score = 0.8011\n",
      "Error: Solver liblinear does not support a multinomial backend.\n",
      "C = 0.010, Penalty = l2, Solver = liblinear, Class Weight = balanced, Multi-Class = ovr\n",
      "Train Score = 0.7402, Validation Score = 0.7453\n",
      "Error: Solver liblinear does not support a multinomial backend.\n"
     ]
    },
    {
     "name": "stderr",
     "output_type": "stream",
     "text": [
      "/usr/local/anaconda3/lib/python3.10/site-packages/sklearn/linear_model/_sag.py:350: ConvergenceWarning: The max_iter was reached which means the coef_ did not converge\n",
      "  warnings.warn(\n"
     ]
    },
    {
     "name": "stdout",
     "output_type": "stream",
     "text": [
      "C = 0.010, Penalty = l2, Solver = sag, Class Weight = None, Multi-Class = ovr\n",
      "Train Score = 0.7941, Validation Score = 0.7992\n",
      "C = 0.010, Penalty = l2, Solver = sag, Class Weight = None, Multi-Class = multinomial\n",
      "Train Score = 0.7966, Validation Score = 0.8002\n",
      "C = 0.010, Penalty = l2, Solver = sag, Class Weight = balanced, Multi-Class = ovr\n",
      "Train Score = 0.7406, Validation Score = 0.7443\n",
      "C = 0.010, Penalty = l2, Solver = sag, Class Weight = balanced, Multi-Class = multinomial\n",
      "Train Score = 0.7424, Validation Score = 0.7509\n"
     ]
    },
    {
     "name": "stderr",
     "output_type": "stream",
     "text": [
      "/usr/local/anaconda3/lib/python3.10/site-packages/sklearn/linear_model/_sag.py:350: ConvergenceWarning: The max_iter was reached which means the coef_ did not converge\n",
      "  warnings.warn(\n"
     ]
    },
    {
     "name": "stdout",
     "output_type": "stream",
     "text": [
      "C = 0.010, Penalty = l2, Solver = saga, Class Weight = None, Multi-Class = ovr\n",
      "Train Score = 0.7939, Validation Score = 0.7992\n"
     ]
    },
    {
     "name": "stderr",
     "output_type": "stream",
     "text": [
      "/usr/local/anaconda3/lib/python3.10/site-packages/sklearn/linear_model/_sag.py:350: ConvergenceWarning: The max_iter was reached which means the coef_ did not converge\n",
      "  warnings.warn(\n"
     ]
    },
    {
     "name": "stdout",
     "output_type": "stream",
     "text": [
      "C = 0.010, Penalty = l2, Solver = saga, Class Weight = None, Multi-Class = multinomial\n",
      "Train Score = 0.7970, Validation Score = 0.8011\n",
      "C = 0.010, Penalty = l2, Solver = saga, Class Weight = balanced, Multi-Class = ovr\n",
      "Train Score = 0.7406, Validation Score = 0.7443\n",
      "C = 0.010, Penalty = l2, Solver = saga, Class Weight = balanced, Multi-Class = multinomial\n",
      "Train Score = 0.7424, Validation Score = 0.7509\n",
      "Error: Solver newton-cg supports only 'l2' or 'none' penalties, got l1 penalty.\n",
      "Error: Solver newton-cg supports only 'l2' or 'none' penalties, got l1 penalty.\n",
      "Error: Solver newton-cg supports only 'l2' or 'none' penalties, got l1 penalty.\n",
      "Error: Solver newton-cg supports only 'l2' or 'none' penalties, got l1 penalty.\n",
      "Error: Solver lbfgs supports only 'l2' or 'none' penalties, got l1 penalty.\n",
      "Error: Solver lbfgs supports only 'l2' or 'none' penalties, got l1 penalty.\n",
      "Error: Solver lbfgs supports only 'l2' or 'none' penalties, got l1 penalty.\n",
      "Error: Solver lbfgs supports only 'l2' or 'none' penalties, got l1 penalty.\n",
      "C = 0.100, Penalty = l1, Solver = liblinear, Class Weight = None, Multi-Class = ovr\n",
      "Train Score = 0.8016, Validation Score = 0.7964\n",
      "Error: Solver liblinear does not support a multinomial backend.\n",
      "C = 0.100, Penalty = l1, Solver = liblinear, Class Weight = balanced, Multi-Class = ovr\n",
      "Train Score = 0.7471, Validation Score = 0.7547\n",
      "Error: Solver liblinear does not support a multinomial backend.\n",
      "Error: Solver sag supports only 'l2' or 'none' penalties, got l1 penalty.\n",
      "Error: Solver sag supports only 'l2' or 'none' penalties, got l1 penalty.\n",
      "Error: Solver sag supports only 'l2' or 'none' penalties, got l1 penalty.\n",
      "Error: Solver sag supports only 'l2' or 'none' penalties, got l1 penalty.\n"
     ]
    },
    {
     "name": "stderr",
     "output_type": "stream",
     "text": [
      "/usr/local/anaconda3/lib/python3.10/site-packages/sklearn/linear_model/_sag.py:350: ConvergenceWarning: The max_iter was reached which means the coef_ did not converge\n",
      "  warnings.warn(\n"
     ]
    },
    {
     "name": "stdout",
     "output_type": "stream",
     "text": [
      "C = 0.100, Penalty = l1, Solver = saga, Class Weight = None, Multi-Class = ovr\n",
      "Train Score = 0.7974, Validation Score = 0.8011\n"
     ]
    },
    {
     "name": "stderr",
     "output_type": "stream",
     "text": [
      "/usr/local/anaconda3/lib/python3.10/site-packages/sklearn/linear_model/_sag.py:350: ConvergenceWarning: The max_iter was reached which means the coef_ did not converge\n",
      "  warnings.warn(\n"
     ]
    },
    {
     "name": "stdout",
     "output_type": "stream",
     "text": [
      "C = 0.100, Penalty = l1, Solver = saga, Class Weight = None, Multi-Class = multinomial\n",
      "Train Score = 0.7961, Validation Score = 0.8011\n"
     ]
    },
    {
     "name": "stderr",
     "output_type": "stream",
     "text": [
      "/usr/local/anaconda3/lib/python3.10/site-packages/sklearn/linear_model/_sag.py:350: ConvergenceWarning: The max_iter was reached which means the coef_ did not converge\n",
      "  warnings.warn(\n"
     ]
    },
    {
     "name": "stdout",
     "output_type": "stream",
     "text": [
      "C = 0.100, Penalty = l1, Solver = saga, Class Weight = balanced, Multi-Class = ovr\n",
      "Train Score = 0.7460, Validation Score = 0.7528\n"
     ]
    },
    {
     "name": "stderr",
     "output_type": "stream",
     "text": [
      "/usr/local/anaconda3/lib/python3.10/site-packages/sklearn/linear_model/_sag.py:350: ConvergenceWarning: The max_iter was reached which means the coef_ did not converge\n",
      "  warnings.warn(\n"
     ]
    },
    {
     "name": "stdout",
     "output_type": "stream",
     "text": [
      "C = 0.100, Penalty = l1, Solver = saga, Class Weight = balanced, Multi-Class = multinomial\n",
      "Train Score = 0.7456, Validation Score = 0.7566\n",
      "C = 0.100, Penalty = l2, Solver = newton-cg, Class Weight = None, Multi-Class = ovr\n",
      "Train Score = 0.7972, Validation Score = 0.8002\n",
      "C = 0.100, Penalty = l2, Solver = newton-cg, Class Weight = None, Multi-Class = multinomial\n",
      "Train Score = 0.7986, Validation Score = 0.7983\n",
      "C = 0.100, Penalty = l2, Solver = newton-cg, Class Weight = balanced, Multi-Class = ovr\n",
      "Train Score = 0.7458, Validation Score = 0.7557\n",
      "C = 0.100, Penalty = l2, Solver = newton-cg, Class Weight = balanced, Multi-Class = multinomial\n",
      "Train Score = 0.7493, Validation Score = 0.7557\n",
      "C = 0.100, Penalty = l2, Solver = lbfgs, Class Weight = None, Multi-Class = ovr\n",
      "Train Score = 0.7980, Validation Score = 0.7992\n",
      "C = 0.100, Penalty = l2, Solver = lbfgs, Class Weight = None, Multi-Class = multinomial\n",
      "Train Score = 0.7986, Validation Score = 0.7983\n",
      "C = 0.100, Penalty = l2, Solver = lbfgs, Class Weight = balanced, Multi-Class = ovr\n",
      "Train Score = 0.7452, Validation Score = 0.7547\n",
      "C = 0.100, Penalty = l2, Solver = lbfgs, Class Weight = balanced, Multi-Class = multinomial\n",
      "Train Score = 0.7487, Validation Score = 0.7557\n",
      "C = 0.100, Penalty = l2, Solver = liblinear, Class Weight = None, Multi-Class = ovr\n",
      "Train Score = 0.7984, Validation Score = 0.7983\n",
      "Error: Solver liblinear does not support a multinomial backend.\n",
      "C = 0.100, Penalty = l2, Solver = liblinear, Class Weight = balanced, Multi-Class = ovr\n",
      "Train Score = 0.7450, Validation Score = 0.7557\n",
      "Error: Solver liblinear does not support a multinomial backend.\n"
     ]
    },
    {
     "name": "stderr",
     "output_type": "stream",
     "text": [
      "/usr/local/anaconda3/lib/python3.10/site-packages/sklearn/linear_model/_sag.py:350: ConvergenceWarning: The max_iter was reached which means the coef_ did not converge\n",
      "  warnings.warn(\n"
     ]
    },
    {
     "name": "stdout",
     "output_type": "stream",
     "text": [
      "C = 0.100, Penalty = l2, Solver = sag, Class Weight = None, Multi-Class = ovr\n",
      "Train Score = 0.7968, Validation Score = 0.7983\n",
      "C = 0.100, Penalty = l2, Solver = sag, Class Weight = None, Multi-Class = multinomial\n",
      "Train Score = 0.7986, Validation Score = 0.7983\n"
     ]
    },
    {
     "name": "stderr",
     "output_type": "stream",
     "text": [
      "/usr/local/anaconda3/lib/python3.10/site-packages/sklearn/linear_model/_sag.py:350: ConvergenceWarning: The max_iter was reached which means the coef_ did not converge\n",
      "  warnings.warn(\n"
     ]
    },
    {
     "name": "stdout",
     "output_type": "stream",
     "text": [
      "C = 0.100, Penalty = l2, Solver = sag, Class Weight = balanced, Multi-Class = ovr\n",
      "Train Score = 0.7446, Validation Score = 0.7557\n"
     ]
    },
    {
     "name": "stderr",
     "output_type": "stream",
     "text": [
      "/usr/local/anaconda3/lib/python3.10/site-packages/sklearn/linear_model/_sag.py:350: ConvergenceWarning: The max_iter was reached which means the coef_ did not converge\n",
      "  warnings.warn(\n"
     ]
    },
    {
     "name": "stdout",
     "output_type": "stream",
     "text": [
      "C = 0.100, Penalty = l2, Solver = sag, Class Weight = balanced, Multi-Class = multinomial\n",
      "Train Score = 0.7489, Validation Score = 0.7566\n"
     ]
    },
    {
     "name": "stderr",
     "output_type": "stream",
     "text": [
      "/usr/local/anaconda3/lib/python3.10/site-packages/sklearn/linear_model/_sag.py:350: ConvergenceWarning: The max_iter was reached which means the coef_ did not converge\n",
      "  warnings.warn(\n"
     ]
    },
    {
     "name": "stdout",
     "output_type": "stream",
     "text": [
      "C = 0.100, Penalty = l2, Solver = saga, Class Weight = None, Multi-Class = ovr\n",
      "Train Score = 0.7980, Validation Score = 0.7992\n"
     ]
    },
    {
     "name": "stderr",
     "output_type": "stream",
     "text": [
      "/usr/local/anaconda3/lib/python3.10/site-packages/sklearn/linear_model/_sag.py:350: ConvergenceWarning: The max_iter was reached which means the coef_ did not converge\n",
      "  warnings.warn(\n"
     ]
    },
    {
     "name": "stdout",
     "output_type": "stream",
     "text": [
      "C = 0.100, Penalty = l2, Solver = saga, Class Weight = None, Multi-Class = multinomial\n",
      "Train Score = 0.7982, Validation Score = 0.7983\n"
     ]
    },
    {
     "name": "stderr",
     "output_type": "stream",
     "text": [
      "/usr/local/anaconda3/lib/python3.10/site-packages/sklearn/linear_model/_sag.py:350: ConvergenceWarning: The max_iter was reached which means the coef_ did not converge\n",
      "  warnings.warn(\n"
     ]
    },
    {
     "name": "stdout",
     "output_type": "stream",
     "text": [
      "C = 0.100, Penalty = l2, Solver = saga, Class Weight = balanced, Multi-Class = ovr\n",
      "Train Score = 0.7460, Validation Score = 0.7557\n"
     ]
    },
    {
     "name": "stderr",
     "output_type": "stream",
     "text": [
      "/usr/local/anaconda3/lib/python3.10/site-packages/sklearn/linear_model/_sag.py:350: ConvergenceWarning: The max_iter was reached which means the coef_ did not converge\n",
      "  warnings.warn(\n"
     ]
    },
    {
     "name": "stdout",
     "output_type": "stream",
     "text": [
      "C = 0.100, Penalty = l2, Solver = saga, Class Weight = balanced, Multi-Class = multinomial\n",
      "Train Score = 0.7479, Validation Score = 0.7557\n",
      "Error: Solver newton-cg supports only 'l2' or 'none' penalties, got l1 penalty.\n",
      "Error: Solver newton-cg supports only 'l2' or 'none' penalties, got l1 penalty.\n",
      "Error: Solver newton-cg supports only 'l2' or 'none' penalties, got l1 penalty.\n",
      "Error: Solver newton-cg supports only 'l2' or 'none' penalties, got l1 penalty.\n",
      "Error: Solver lbfgs supports only 'l2' or 'none' penalties, got l1 penalty.\n",
      "Error: Solver lbfgs supports only 'l2' or 'none' penalties, got l1 penalty.\n",
      "Error: Solver lbfgs supports only 'l2' or 'none' penalties, got l1 penalty.\n",
      "Error: Solver lbfgs supports only 'l2' or 'none' penalties, got l1 penalty.\n",
      "C = 1.000, Penalty = l1, Solver = liblinear, Class Weight = None, Multi-Class = ovr\n",
      "Train Score = 0.8014, Validation Score = 0.7955\n",
      "Error: Solver liblinear does not support a multinomial backend.\n",
      "C = 1.000, Penalty = l1, Solver = liblinear, Class Weight = balanced, Multi-Class = ovr\n",
      "Train Score = 0.7509, Validation Score = 0.7585\n",
      "Error: Solver liblinear does not support a multinomial backend.\n",
      "Error: Solver sag supports only 'l2' or 'none' penalties, got l1 penalty.\n",
      "Error: Solver sag supports only 'l2' or 'none' penalties, got l1 penalty.\n",
      "Error: Solver sag supports only 'l2' or 'none' penalties, got l1 penalty.\n",
      "Error: Solver sag supports only 'l2' or 'none' penalties, got l1 penalty.\n"
     ]
    },
    {
     "name": "stderr",
     "output_type": "stream",
     "text": [
      "/usr/local/anaconda3/lib/python3.10/site-packages/sklearn/linear_model/_sag.py:350: ConvergenceWarning: The max_iter was reached which means the coef_ did not converge\n",
      "  warnings.warn(\n"
     ]
    },
    {
     "name": "stdout",
     "output_type": "stream",
     "text": [
      "C = 1.000, Penalty = l1, Solver = saga, Class Weight = None, Multi-Class = ovr\n",
      "Train Score = 0.7980, Validation Score = 0.8002\n"
     ]
    },
    {
     "name": "stderr",
     "output_type": "stream",
     "text": [
      "/usr/local/anaconda3/lib/python3.10/site-packages/sklearn/linear_model/_sag.py:350: ConvergenceWarning: The max_iter was reached which means the coef_ did not converge\n",
      "  warnings.warn(\n"
     ]
    },
    {
     "name": "stdout",
     "output_type": "stream",
     "text": [
      "C = 1.000, Penalty = l1, Solver = saga, Class Weight = None, Multi-Class = multinomial\n",
      "Train Score = 0.8008, Validation Score = 0.7973\n"
     ]
    },
    {
     "name": "stderr",
     "output_type": "stream",
     "text": [
      "/usr/local/anaconda3/lib/python3.10/site-packages/sklearn/linear_model/_sag.py:350: ConvergenceWarning: The max_iter was reached which means the coef_ did not converge\n",
      "  warnings.warn(\n"
     ]
    },
    {
     "name": "stdout",
     "output_type": "stream",
     "text": [
      "C = 1.000, Penalty = l1, Solver = saga, Class Weight = balanced, Multi-Class = ovr\n",
      "Train Score = 0.7471, Validation Score = 0.7595\n"
     ]
    },
    {
     "name": "stderr",
     "output_type": "stream",
     "text": [
      "/usr/local/anaconda3/lib/python3.10/site-packages/sklearn/linear_model/_sag.py:350: ConvergenceWarning: The max_iter was reached which means the coef_ did not converge\n",
      "  warnings.warn(\n"
     ]
    },
    {
     "name": "stdout",
     "output_type": "stream",
     "text": [
      "C = 1.000, Penalty = l1, Solver = saga, Class Weight = balanced, Multi-Class = multinomial\n",
      "Train Score = 0.7491, Validation Score = 0.7604\n",
      "C = 1.000, Penalty = l2, Solver = newton-cg, Class Weight = None, Multi-Class = ovr\n",
      "Train Score = 0.8022, Validation Score = 0.7945\n",
      "C = 1.000, Penalty = l2, Solver = newton-cg, Class Weight = None, Multi-Class = multinomial\n",
      "Train Score = 0.8016, Validation Score = 0.7945\n",
      "C = 1.000, Penalty = l2, Solver = newton-cg, Class Weight = balanced, Multi-Class = ovr\n",
      "Train Score = 0.7511, Validation Score = 0.7566\n",
      "C = 1.000, Penalty = l2, Solver = newton-cg, Class Weight = balanced, Multi-Class = multinomial\n",
      "Train Score = 0.7515, Validation Score = 0.7557\n",
      "C = 1.000, Penalty = l2, Solver = lbfgs, Class Weight = None, Multi-Class = ovr\n",
      "Train Score = 0.8022, Validation Score = 0.7945\n",
      "C = 1.000, Penalty = l2, Solver = lbfgs, Class Weight = None, Multi-Class = multinomial\n",
      "Train Score = 0.8016, Validation Score = 0.7945\n",
      "C = 1.000, Penalty = l2, Solver = lbfgs, Class Weight = balanced, Multi-Class = ovr\n",
      "Train Score = 0.7511, Validation Score = 0.7566\n",
      "C = 1.000, Penalty = l2, Solver = lbfgs, Class Weight = balanced, Multi-Class = multinomial\n",
      "Train Score = 0.7513, Validation Score = 0.7557\n",
      "C = 1.000, Penalty = l2, Solver = liblinear, Class Weight = None, Multi-Class = ovr\n",
      "Train Score = 0.8020, Validation Score = 0.7936\n",
      "Error: Solver liblinear does not support a multinomial backend.\n",
      "C = 1.000, Penalty = l2, Solver = liblinear, Class Weight = balanced, Multi-Class = ovr\n",
      "Train Score = 0.7509, Validation Score = 0.7566\n",
      "Error: Solver liblinear does not support a multinomial backend.\n"
     ]
    },
    {
     "name": "stderr",
     "output_type": "stream",
     "text": [
      "/usr/local/anaconda3/lib/python3.10/site-packages/sklearn/linear_model/_sag.py:350: ConvergenceWarning: The max_iter was reached which means the coef_ did not converge\n",
      "  warnings.warn(\n"
     ]
    },
    {
     "name": "stdout",
     "output_type": "stream",
     "text": [
      "C = 1.000, Penalty = l2, Solver = sag, Class Weight = None, Multi-Class = ovr\n",
      "Train Score = 0.8006, Validation Score = 0.7983\n",
      "C = 1.000, Penalty = l2, Solver = sag, Class Weight = None, Multi-Class = multinomial\n",
      "Train Score = 0.8022, Validation Score = 0.7936\n"
     ]
    },
    {
     "name": "stderr",
     "output_type": "stream",
     "text": [
      "/usr/local/anaconda3/lib/python3.10/site-packages/sklearn/linear_model/_sag.py:350: ConvergenceWarning: The max_iter was reached which means the coef_ did not converge\n",
      "  warnings.warn(\n"
     ]
    },
    {
     "name": "stdout",
     "output_type": "stream",
     "text": [
      "C = 1.000, Penalty = l2, Solver = sag, Class Weight = balanced, Multi-Class = ovr\n",
      "Train Score = 0.7495, Validation Score = 0.7604\n",
      "C = 1.000, Penalty = l2, Solver = sag, Class Weight = balanced, Multi-Class = multinomial\n",
      "Train Score = 0.7513, Validation Score = 0.7566\n"
     ]
    },
    {
     "name": "stderr",
     "output_type": "stream",
     "text": [
      "/usr/local/anaconda3/lib/python3.10/site-packages/sklearn/linear_model/_sag.py:350: ConvergenceWarning: The max_iter was reached which means the coef_ did not converge\n",
      "  warnings.warn(\n"
     ]
    },
    {
     "name": "stdout",
     "output_type": "stream",
     "text": [
      "C = 1.000, Penalty = l2, Solver = saga, Class Weight = None, Multi-Class = ovr\n",
      "Train Score = 0.7982, Validation Score = 0.8011\n"
     ]
    },
    {
     "name": "stderr",
     "output_type": "stream",
     "text": [
      "/usr/local/anaconda3/lib/python3.10/site-packages/sklearn/linear_model/_sag.py:350: ConvergenceWarning: The max_iter was reached which means the coef_ did not converge\n",
      "  warnings.warn(\n"
     ]
    },
    {
     "name": "stdout",
     "output_type": "stream",
     "text": [
      "C = 1.000, Penalty = l2, Solver = saga, Class Weight = None, Multi-Class = multinomial\n",
      "Train Score = 0.8008, Validation Score = 0.7973\n"
     ]
    },
    {
     "name": "stderr",
     "output_type": "stream",
     "text": [
      "/usr/local/anaconda3/lib/python3.10/site-packages/sklearn/linear_model/_sag.py:350: ConvergenceWarning: The max_iter was reached which means the coef_ did not converge\n",
      "  warnings.warn(\n"
     ]
    },
    {
     "name": "stdout",
     "output_type": "stream",
     "text": [
      "C = 1.000, Penalty = l2, Solver = saga, Class Weight = balanced, Multi-Class = ovr\n",
      "Train Score = 0.7469, Validation Score = 0.7595\n"
     ]
    },
    {
     "name": "stderr",
     "output_type": "stream",
     "text": [
      "/usr/local/anaconda3/lib/python3.10/site-packages/sklearn/linear_model/_sag.py:350: ConvergenceWarning: The max_iter was reached which means the coef_ did not converge\n",
      "  warnings.warn(\n"
     ]
    },
    {
     "name": "stdout",
     "output_type": "stream",
     "text": [
      "C = 1.000, Penalty = l2, Solver = saga, Class Weight = balanced, Multi-Class = multinomial\n",
      "Train Score = 0.7493, Validation Score = 0.7604\n",
      "Error: Solver newton-cg supports only 'l2' or 'none' penalties, got l1 penalty.\n",
      "Error: Solver newton-cg supports only 'l2' or 'none' penalties, got l1 penalty.\n",
      "Error: Solver newton-cg supports only 'l2' or 'none' penalties, got l1 penalty.\n",
      "Error: Solver newton-cg supports only 'l2' or 'none' penalties, got l1 penalty.\n",
      "Error: Solver lbfgs supports only 'l2' or 'none' penalties, got l1 penalty.\n",
      "Error: Solver lbfgs supports only 'l2' or 'none' penalties, got l1 penalty.\n",
      "Error: Solver lbfgs supports only 'l2' or 'none' penalties, got l1 penalty.\n",
      "Error: Solver lbfgs supports only 'l2' or 'none' penalties, got l1 penalty.\n",
      "C = 10.000, Penalty = l1, Solver = liblinear, Class Weight = None, Multi-Class = ovr\n",
      "Train Score = 0.8016, Validation Score = 0.7964\n",
      "Error: Solver liblinear does not support a multinomial backend.\n",
      "C = 10.000, Penalty = l1, Solver = liblinear, Class Weight = balanced, Multi-Class = ovr\n",
      "Train Score = 0.7513, Validation Score = 0.7547\n",
      "Error: Solver liblinear does not support a multinomial backend.\n",
      "Error: Solver sag supports only 'l2' or 'none' penalties, got l1 penalty.\n",
      "Error: Solver sag supports only 'l2' or 'none' penalties, got l1 penalty.\n",
      "Error: Solver sag supports only 'l2' or 'none' penalties, got l1 penalty.\n",
      "Error: Solver sag supports only 'l2' or 'none' penalties, got l1 penalty.\n"
     ]
    },
    {
     "name": "stderr",
     "output_type": "stream",
     "text": [
      "/usr/local/anaconda3/lib/python3.10/site-packages/sklearn/linear_model/_sag.py:350: ConvergenceWarning: The max_iter was reached which means the coef_ did not converge\n",
      "  warnings.warn(\n"
     ]
    },
    {
     "name": "stdout",
     "output_type": "stream",
     "text": [
      "C = 10.000, Penalty = l1, Solver = saga, Class Weight = None, Multi-Class = ovr\n",
      "Train Score = 0.7982, Validation Score = 0.8011\n"
     ]
    },
    {
     "name": "stderr",
     "output_type": "stream",
     "text": [
      "/usr/local/anaconda3/lib/python3.10/site-packages/sklearn/linear_model/_sag.py:350: ConvergenceWarning: The max_iter was reached which means the coef_ did not converge\n",
      "  warnings.warn(\n"
     ]
    },
    {
     "name": "stdout",
     "output_type": "stream",
     "text": [
      "C = 10.000, Penalty = l1, Solver = saga, Class Weight = None, Multi-Class = multinomial\n",
      "Train Score = 0.8012, Validation Score = 0.7945\n"
     ]
    },
    {
     "name": "stderr",
     "output_type": "stream",
     "text": [
      "/usr/local/anaconda3/lib/python3.10/site-packages/sklearn/linear_model/_sag.py:350: ConvergenceWarning: The max_iter was reached which means the coef_ did not converge\n",
      "  warnings.warn(\n"
     ]
    },
    {
     "name": "stdout",
     "output_type": "stream",
     "text": [
      "C = 10.000, Penalty = l1, Solver = saga, Class Weight = balanced, Multi-Class = ovr\n",
      "Train Score = 0.7460, Validation Score = 0.7595\n"
     ]
    },
    {
     "name": "stderr",
     "output_type": "stream",
     "text": [
      "/usr/local/anaconda3/lib/python3.10/site-packages/sklearn/linear_model/_sag.py:350: ConvergenceWarning: The max_iter was reached which means the coef_ did not converge\n",
      "  warnings.warn(\n"
     ]
    },
    {
     "name": "stdout",
     "output_type": "stream",
     "text": [
      "C = 10.000, Penalty = l1, Solver = saga, Class Weight = balanced, Multi-Class = multinomial\n",
      "Train Score = 0.7499, Validation Score = 0.7604\n",
      "C = 10.000, Penalty = l2, Solver = newton-cg, Class Weight = None, Multi-Class = ovr\n",
      "Train Score = 0.8014, Validation Score = 0.7964\n",
      "C = 10.000, Penalty = l2, Solver = newton-cg, Class Weight = None, Multi-Class = multinomial\n",
      "Train Score = 0.8016, Validation Score = 0.7964\n",
      "C = 10.000, Penalty = l2, Solver = newton-cg, Class Weight = balanced, Multi-Class = ovr\n",
      "Train Score = 0.7511, Validation Score = 0.7547\n",
      "C = 10.000, Penalty = l2, Solver = newton-cg, Class Weight = balanced, Multi-Class = multinomial\n",
      "Train Score = 0.7509, Validation Score = 0.7547\n",
      "C = 10.000, Penalty = l2, Solver = lbfgs, Class Weight = None, Multi-Class = ovr\n",
      "Train Score = 0.8014, Validation Score = 0.7964\n",
      "C = 10.000, Penalty = l2, Solver = lbfgs, Class Weight = None, Multi-Class = multinomial\n",
      "Train Score = 0.8016, Validation Score = 0.7964\n",
      "C = 10.000, Penalty = l2, Solver = lbfgs, Class Weight = balanced, Multi-Class = ovr\n",
      "Train Score = 0.7511, Validation Score = 0.7547\n",
      "C = 10.000, Penalty = l2, Solver = lbfgs, Class Weight = balanced, Multi-Class = multinomial\n",
      "Train Score = 0.7507, Validation Score = 0.7547\n",
      "C = 10.000, Penalty = l2, Solver = liblinear, Class Weight = None, Multi-Class = ovr\n",
      "Train Score = 0.8012, Validation Score = 0.7964\n",
      "Error: Solver liblinear does not support a multinomial backend.\n",
      "C = 10.000, Penalty = l2, Solver = liblinear, Class Weight = balanced, Multi-Class = ovr\n",
      "Train Score = 0.7515, Validation Score = 0.7547\n",
      "Error: Solver liblinear does not support a multinomial backend.\n"
     ]
    },
    {
     "name": "stderr",
     "output_type": "stream",
     "text": [
      "/usr/local/anaconda3/lib/python3.10/site-packages/sklearn/linear_model/_sag.py:350: ConvergenceWarning: The max_iter was reached which means the coef_ did not converge\n",
      "  warnings.warn(\n"
     ]
    },
    {
     "name": "stdout",
     "output_type": "stream",
     "text": [
      "C = 10.000, Penalty = l2, Solver = sag, Class Weight = None, Multi-Class = ovr\n",
      "Train Score = 0.8012, Validation Score = 0.7945\n",
      "C = 10.000, Penalty = l2, Solver = sag, Class Weight = None, Multi-Class = multinomial\n",
      "Train Score = 0.8016, Validation Score = 0.7964\n"
     ]
    },
    {
     "name": "stderr",
     "output_type": "stream",
     "text": [
      "/usr/local/anaconda3/lib/python3.10/site-packages/sklearn/linear_model/_sag.py:350: ConvergenceWarning: The max_iter was reached which means the coef_ did not converge\n",
      "  warnings.warn(\n"
     ]
    },
    {
     "name": "stdout",
     "output_type": "stream",
     "text": [
      "C = 10.000, Penalty = l2, Solver = sag, Class Weight = balanced, Multi-Class = ovr\n",
      "Train Score = 0.7499, Validation Score = 0.7604\n",
      "C = 10.000, Penalty = l2, Solver = sag, Class Weight = balanced, Multi-Class = multinomial\n",
      "Train Score = 0.7515, Validation Score = 0.7557\n"
     ]
    },
    {
     "name": "stderr",
     "output_type": "stream",
     "text": [
      "/usr/local/anaconda3/lib/python3.10/site-packages/sklearn/linear_model/_sag.py:350: ConvergenceWarning: The max_iter was reached which means the coef_ did not converge\n",
      "  warnings.warn(\n"
     ]
    },
    {
     "name": "stdout",
     "output_type": "stream",
     "text": [
      "C = 10.000, Penalty = l2, Solver = saga, Class Weight = None, Multi-Class = ovr\n",
      "Train Score = 0.7982, Validation Score = 0.8011\n"
     ]
    },
    {
     "name": "stderr",
     "output_type": "stream",
     "text": [
      "/usr/local/anaconda3/lib/python3.10/site-packages/sklearn/linear_model/_sag.py:350: ConvergenceWarning: The max_iter was reached which means the coef_ did not converge\n",
      "  warnings.warn(\n"
     ]
    },
    {
     "name": "stdout",
     "output_type": "stream",
     "text": [
      "C = 10.000, Penalty = l2, Solver = saga, Class Weight = None, Multi-Class = multinomial\n",
      "Train Score = 0.8010, Validation Score = 0.7945\n"
     ]
    },
    {
     "name": "stderr",
     "output_type": "stream",
     "text": [
      "/usr/local/anaconda3/lib/python3.10/site-packages/sklearn/linear_model/_sag.py:350: ConvergenceWarning: The max_iter was reached which means the coef_ did not converge\n",
      "  warnings.warn(\n"
     ]
    },
    {
     "name": "stdout",
     "output_type": "stream",
     "text": [
      "C = 10.000, Penalty = l2, Solver = saga, Class Weight = balanced, Multi-Class = ovr\n",
      "Train Score = 0.7462, Validation Score = 0.7595\n"
     ]
    },
    {
     "name": "stderr",
     "output_type": "stream",
     "text": [
      "/usr/local/anaconda3/lib/python3.10/site-packages/sklearn/linear_model/_sag.py:350: ConvergenceWarning: The max_iter was reached which means the coef_ did not converge\n",
      "  warnings.warn(\n"
     ]
    },
    {
     "name": "stdout",
     "output_type": "stream",
     "text": [
      "C = 10.000, Penalty = l2, Solver = saga, Class Weight = balanced, Multi-Class = multinomial\n",
      "Train Score = 0.7499, Validation Score = 0.7604\n",
      "Error: Solver newton-cg supports only 'l2' or 'none' penalties, got l1 penalty.\n",
      "Error: Solver newton-cg supports only 'l2' or 'none' penalties, got l1 penalty.\n",
      "Error: Solver newton-cg supports only 'l2' or 'none' penalties, got l1 penalty.\n",
      "Error: Solver newton-cg supports only 'l2' or 'none' penalties, got l1 penalty.\n",
      "Error: Solver lbfgs supports only 'l2' or 'none' penalties, got l1 penalty.\n",
      "Error: Solver lbfgs supports only 'l2' or 'none' penalties, got l1 penalty.\n",
      "Error: Solver lbfgs supports only 'l2' or 'none' penalties, got l1 penalty.\n",
      "Error: Solver lbfgs supports only 'l2' or 'none' penalties, got l1 penalty.\n",
      "C = 100.000, Penalty = l1, Solver = liblinear, Class Weight = None, Multi-Class = ovr\n",
      "Train Score = 0.8016, Validation Score = 0.7964\n",
      "Error: Solver liblinear does not support a multinomial backend.\n",
      "C = 100.000, Penalty = l1, Solver = liblinear, Class Weight = balanced, Multi-Class = ovr\n",
      "Train Score = 0.7509, Validation Score = 0.7547\n",
      "Error: Solver liblinear does not support a multinomial backend.\n",
      "Error: Solver sag supports only 'l2' or 'none' penalties, got l1 penalty.\n",
      "Error: Solver sag supports only 'l2' or 'none' penalties, got l1 penalty.\n",
      "Error: Solver sag supports only 'l2' or 'none' penalties, got l1 penalty.\n",
      "Error: Solver sag supports only 'l2' or 'none' penalties, got l1 penalty.\n"
     ]
    },
    {
     "name": "stderr",
     "output_type": "stream",
     "text": [
      "/usr/local/anaconda3/lib/python3.10/site-packages/sklearn/linear_model/_sag.py:350: ConvergenceWarning: The max_iter was reached which means the coef_ did not converge\n",
      "  warnings.warn(\n"
     ]
    },
    {
     "name": "stdout",
     "output_type": "stream",
     "text": [
      "C = 100.000, Penalty = l1, Solver = saga, Class Weight = None, Multi-Class = ovr\n",
      "Train Score = 0.7982, Validation Score = 0.8011\n"
     ]
    },
    {
     "name": "stderr",
     "output_type": "stream",
     "text": [
      "/usr/local/anaconda3/lib/python3.10/site-packages/sklearn/linear_model/_sag.py:350: ConvergenceWarning: The max_iter was reached which means the coef_ did not converge\n",
      "  warnings.warn(\n"
     ]
    },
    {
     "name": "stdout",
     "output_type": "stream",
     "text": [
      "C = 100.000, Penalty = l1, Solver = saga, Class Weight = None, Multi-Class = multinomial\n",
      "Train Score = 0.8010, Validation Score = 0.7936\n"
     ]
    },
    {
     "name": "stderr",
     "output_type": "stream",
     "text": [
      "/usr/local/anaconda3/lib/python3.10/site-packages/sklearn/linear_model/_sag.py:350: ConvergenceWarning: The max_iter was reached which means the coef_ did not converge\n",
      "  warnings.warn(\n"
     ]
    },
    {
     "name": "stdout",
     "output_type": "stream",
     "text": [
      "C = 100.000, Penalty = l1, Solver = saga, Class Weight = balanced, Multi-Class = ovr\n",
      "Train Score = 0.7465, Validation Score = 0.7595\n"
     ]
    },
    {
     "name": "stderr",
     "output_type": "stream",
     "text": [
      "/usr/local/anaconda3/lib/python3.10/site-packages/sklearn/linear_model/_sag.py:350: ConvergenceWarning: The max_iter was reached which means the coef_ did not converge\n",
      "  warnings.warn(\n"
     ]
    },
    {
     "name": "stdout",
     "output_type": "stream",
     "text": [
      "C = 100.000, Penalty = l1, Solver = saga, Class Weight = balanced, Multi-Class = multinomial\n",
      "Train Score = 0.7499, Validation Score = 0.7604\n",
      "C = 100.000, Penalty = l2, Solver = newton-cg, Class Weight = None, Multi-Class = ovr\n",
      "Train Score = 0.8016, Validation Score = 0.7964\n",
      "C = 100.000, Penalty = l2, Solver = newton-cg, Class Weight = None, Multi-Class = multinomial\n",
      "Train Score = 0.8016, Validation Score = 0.7964\n",
      "C = 100.000, Penalty = l2, Solver = newton-cg, Class Weight = balanced, Multi-Class = ovr\n",
      "Train Score = 0.7507, Validation Score = 0.7547\n",
      "C = 100.000, Penalty = l2, Solver = newton-cg, Class Weight = balanced, Multi-Class = multinomial\n",
      "Train Score = 0.7507, Validation Score = 0.7547\n",
      "C = 100.000, Penalty = l2, Solver = lbfgs, Class Weight = None, Multi-Class = ovr\n",
      "Train Score = 0.8016, Validation Score = 0.7964\n",
      "C = 100.000, Penalty = l2, Solver = lbfgs, Class Weight = None, Multi-Class = multinomial\n",
      "Train Score = 0.8016, Validation Score = 0.7964\n",
      "C = 100.000, Penalty = l2, Solver = lbfgs, Class Weight = balanced, Multi-Class = ovr\n",
      "Train Score = 0.7507, Validation Score = 0.7547\n",
      "C = 100.000, Penalty = l2, Solver = lbfgs, Class Weight = balanced, Multi-Class = multinomial\n",
      "Train Score = 0.7507, Validation Score = 0.7547\n",
      "C = 100.000, Penalty = l2, Solver = liblinear, Class Weight = None, Multi-Class = ovr\n",
      "Train Score = 0.8016, Validation Score = 0.7964\n",
      "Error: Solver liblinear does not support a multinomial backend.\n",
      "C = 100.000, Penalty = l2, Solver = liblinear, Class Weight = balanced, Multi-Class = ovr\n",
      "Train Score = 0.7513, Validation Score = 0.7547\n",
      "Error: Solver liblinear does not support a multinomial backend.\n"
     ]
    },
    {
     "name": "stderr",
     "output_type": "stream",
     "text": [
      "/usr/local/anaconda3/lib/python3.10/site-packages/sklearn/linear_model/_sag.py:350: ConvergenceWarning: The max_iter was reached which means the coef_ did not converge\n",
      "  warnings.warn(\n"
     ]
    },
    {
     "name": "stdout",
     "output_type": "stream",
     "text": [
      "C = 100.000, Penalty = l2, Solver = sag, Class Weight = None, Multi-Class = ovr\n",
      "Train Score = 0.8010, Validation Score = 0.7936\n",
      "C = 100.000, Penalty = l2, Solver = sag, Class Weight = None, Multi-Class = multinomial\n",
      "Train Score = 0.8016, Validation Score = 0.7964\n"
     ]
    },
    {
     "name": "stderr",
     "output_type": "stream",
     "text": [
      "/usr/local/anaconda3/lib/python3.10/site-packages/sklearn/linear_model/_sag.py:350: ConvergenceWarning: The max_iter was reached which means the coef_ did not converge\n",
      "  warnings.warn(\n"
     ]
    },
    {
     "name": "stdout",
     "output_type": "stream",
     "text": [
      "C = 100.000, Penalty = l2, Solver = sag, Class Weight = balanced, Multi-Class = ovr\n",
      "Train Score = 0.7499, Validation Score = 0.7604\n",
      "C = 100.000, Penalty = l2, Solver = sag, Class Weight = balanced, Multi-Class = multinomial\n",
      "Train Score = 0.7515, Validation Score = 0.7557\n"
     ]
    },
    {
     "name": "stderr",
     "output_type": "stream",
     "text": [
      "/usr/local/anaconda3/lib/python3.10/site-packages/sklearn/linear_model/_sag.py:350: ConvergenceWarning: The max_iter was reached which means the coef_ did not converge\n",
      "  warnings.warn(\n"
     ]
    },
    {
     "name": "stdout",
     "output_type": "stream",
     "text": [
      "C = 100.000, Penalty = l2, Solver = saga, Class Weight = None, Multi-Class = ovr\n",
      "Train Score = 0.7982, Validation Score = 0.8011\n"
     ]
    },
    {
     "name": "stderr",
     "output_type": "stream",
     "text": [
      "/usr/local/anaconda3/lib/python3.10/site-packages/sklearn/linear_model/_sag.py:350: ConvergenceWarning: The max_iter was reached which means the coef_ did not converge\n",
      "  warnings.warn(\n"
     ]
    },
    {
     "name": "stdout",
     "output_type": "stream",
     "text": [
      "C = 100.000, Penalty = l2, Solver = saga, Class Weight = None, Multi-Class = multinomial\n",
      "Train Score = 0.8010, Validation Score = 0.7936\n"
     ]
    },
    {
     "name": "stderr",
     "output_type": "stream",
     "text": [
      "/usr/local/anaconda3/lib/python3.10/site-packages/sklearn/linear_model/_sag.py:350: ConvergenceWarning: The max_iter was reached which means the coef_ did not converge\n",
      "  warnings.warn(\n"
     ]
    },
    {
     "name": "stdout",
     "output_type": "stream",
     "text": [
      "C = 100.000, Penalty = l2, Solver = saga, Class Weight = balanced, Multi-Class = ovr\n",
      "Train Score = 0.7465, Validation Score = 0.7595\n",
      "C = 100.000, Penalty = l2, Solver = saga, Class Weight = balanced, Multi-Class = multinomial\n",
      "Train Score = 0.7499, Validation Score = 0.7604\n",
      "\n",
      "Best Hyperparameters:\n",
      "Best C = 0.010\n",
      "Best Penalty = l2\n",
      "Best Solver = liblinear\n",
      "Best Class Weight = None\n",
      "Best Multi-Class = ovr\n",
      "Best Train Score = 0.7966\n",
      "Best Validation Score = 0.8011\n"
     ]
    },
    {
     "name": "stderr",
     "output_type": "stream",
     "text": [
      "/usr/local/anaconda3/lib/python3.10/site-packages/sklearn/linear_model/_sag.py:350: ConvergenceWarning: The max_iter was reached which means the coef_ did not converge\n",
      "  warnings.warn(\n"
     ]
    }
   ],
   "source": [
    "seed = 42\n",
    "\n",
    "best_score = 0\n",
    "best_C = 0\n",
    "best_train_score = 0\n",
    "best_penalty = ''\n",
    "best_solver = ''\n",
    "best_class_weight = ''\n",
    "best_multi_class = ''\n",
    "\n",
    "penalties = ['l1', 'l2']\n",
    "solvers = ['newton-cg', 'lbfgs', 'liblinear', 'sag', 'saga']\n",
    "class_weights = [None, 'balanced']\n",
    "multi_classes = ['ovr', 'multinomial']\n",
    "\n",
    "for C in [0.001, 0.01, 0.1, 1, 10, 100]:\n",
    "    for penalty in penalties:\n",
    "        for solver in solvers:\n",
    "            for class_weight in class_weights:\n",
    "                for multi_class in multi_classes:\n",
    "                    try:\n",
    "                        logreg = LogisticRegression(\n",
    "                            random_state=seed, C=C, penalty=penalty,\n",
    "                            solver=solver, class_weight=class_weight,\n",
    "                            multi_class=multi_class, max_iter=500\n",
    "                        )\n",
    "                        logreg.fit(train_X, train_y)\n",
    "                        \n",
    "                        train_score = logreg.score(train_X, train_y)\n",
    "                        val_score = logreg.score(val_X, val_y)\n",
    "                        \n",
    "                        print(f\"C = {C:.3f}, Penalty = {penalty}, Solver = {solver}, Class Weight = {class_weight}, Multi-Class = {multi_class}\")\n",
    "                        print(f\"Train Score = {train_score:.4f}, Validation Score = {val_score:.4f}\")\n",
    "                        \n",
    "                        if val_score > best_score:\n",
    "                            best_score = val_score\n",
    "                            best_C = C\n",
    "                            best_train_score = train_score\n",
    "                            best_penalty = penalty\n",
    "                            best_solver = solver\n",
    "                            best_class_weight = class_weight\n",
    "                            best_multi_class = multi_class\n",
    "                    except ValueError as e:\n",
    "                        print(\"Error:\", e)\n",
    "                        continue\n",
    "\n",
    "print(\"\\nBest Hyperparameters:\")\n",
    "print(f\"Best C = {best_C:.3f}\")\n",
    "print(f\"Best Penalty = {best_penalty}\")\n",
    "print(f\"Best Solver = {best_solver}\")\n",
    "print(f\"Best Class Weight = {best_class_weight}\")\n",
    "print(f\"Best Multi-Class = {best_multi_class}\")\n",
    "print(f\"Best Train Score = {best_train_score:.4f}\")\n",
    "print(f\"Best Validation Score = {best_score:.4f}\")\n"
   ]
  },
  {
   "cell_type": "code",
   "execution_count": 19,
   "metadata": {},
   "outputs": [],
   "source": [
    "#Test a range of neighbors  train_X.shape, val_X.shape, test_X.shape, train_y.shape\n",
    "train_acc = []\n",
    "val_acc = []\n",
    "neighbor = []\n",
    "\n",
    "for nb_range in range(1, 100):\n",
    "    knn = KNeighborsClassifier(n_neighbors= nb_range)\n",
    "    knn.fit(train_X, train_y)\n",
    "    \n",
    "    neighbor.append(nb_range)\n",
    "    \n",
    "    train_acc.append(knn.score(train_X, train_y))\n",
    "    val_acc.append(knn.score(val_X, val_y))\n"
   ]
  },
  {
   "cell_type": "code",
   "execution_count": 20,
   "metadata": {},
   "outputs": [
    {
     "data": {
      "text/html": [
       "<div>\n",
       "<style scoped>\n",
       "    .dataframe tbody tr th:only-of-type {\n",
       "        vertical-align: middle;\n",
       "    }\n",
       "\n",
       "    .dataframe tbody tr th {\n",
       "        vertical-align: top;\n",
       "    }\n",
       "\n",
       "    .dataframe thead th {\n",
       "        text-align: right;\n",
       "    }\n",
       "</style>\n",
       "<table border=\"1\" class=\"dataframe\">\n",
       "  <thead>\n",
       "    <tr style=\"text-align: right;\">\n",
       "      <th></th>\n",
       "      <th>neighbor</th>\n",
       "      <th>train_acc</th>\n",
       "      <th>val_acc</th>\n",
       "    </tr>\n",
       "  </thead>\n",
       "  <tbody>\n",
       "    <tr>\n",
       "      <th>20</th>\n",
       "      <td>21</td>\n",
       "      <td>0.804462</td>\n",
       "      <td>0.804924</td>\n",
       "    </tr>\n",
       "    <tr>\n",
       "      <th>58</th>\n",
       "      <td>59</td>\n",
       "      <td>0.797566</td>\n",
       "      <td>0.803977</td>\n",
       "    </tr>\n",
       "    <tr>\n",
       "      <th>36</th>\n",
       "      <td>37</td>\n",
       "      <td>0.797769</td>\n",
       "      <td>0.803030</td>\n",
       "    </tr>\n",
       "    <tr>\n",
       "      <th>50</th>\n",
       "      <td>51</td>\n",
       "      <td>0.796552</td>\n",
       "      <td>0.803030</td>\n",
       "    </tr>\n",
       "    <tr>\n",
       "      <th>43</th>\n",
       "      <td>44</td>\n",
       "      <td>0.796349</td>\n",
       "      <td>0.803030</td>\n",
       "    </tr>\n",
       "  </tbody>\n",
       "</table>\n",
       "</div>"
      ],
      "text/plain": [
       "    neighbor  train_acc   val_acc\n",
       "20        21   0.804462  0.804924\n",
       "58        59   0.797566  0.803977\n",
       "36        37   0.797769  0.803030\n",
       "50        51   0.796552  0.803030\n",
       "43        44   0.796349  0.803030"
      ]
     },
     "execution_count": 20,
     "metadata": {},
     "output_type": "execute_result"
    }
   ],
   "source": [
    "knn_df = pd.DataFrame({'neighbor': neighbor,\n",
    "                      'train_acc': train_acc,\n",
    "                      'val_acc': val_acc})\n",
    "\n",
    "knn_df.sort_values(by=['val_acc', 'train_acc', 'neighbor'], ascending=[False, False, True]).head(5)"
   ]
  },
  {
   "cell_type": "code",
   "execution_count": 21,
   "metadata": {},
   "outputs": [],
   "source": [
    "def get_knn(train_X, val_X, train_y, val_y):\n",
    "\n",
    "    # create model object and fit it to the training data\n",
    "    knn = KNeighborsClassifier(n_neighbors=17, weights='distance')\n",
    "    knn.fit(train_X, train_y)\n",
    "\n",
    "    # print results\n",
    "    print(f\"Accuracy of Logistic Regression on train is {knn.score(train_X, train_y)}\")\n",
    "    print(f\"Accuracy of Logistic Regression on validate is {knn.score(val_X, val_y)}\")\n"
   ]
  },
  {
   "cell_type": "code",
   "execution_count": 22,
   "metadata": {},
   "outputs": [
    {
     "name": "stdout",
     "output_type": "stream",
     "text": [
      "Accuracy of Logistic Regression on train is 0.9904665314401623\n",
      "Accuracy of Logistic Regression on validate is 0.7727272727272727\n"
     ]
    }
   ],
   "source": [
    "get_knn(train_X, val_X, train_y, val_y)"
   ]
  },
  {
   "cell_type": "code",
   "execution_count": 23,
   "metadata": {},
   "outputs": [
    {
     "ename": "NameError",
     "evalue": "name 'GridSearchCV' is not defined",
     "output_type": "error",
     "traceback": [
      "\u001b[0;31m---------------------------------------------------------------------------\u001b[0m",
      "\u001b[0;31mNameError\u001b[0m                                 Traceback (most recent call last)",
      "Cell \u001b[0;32mIn[23], line 12\u001b[0m\n\u001b[1;32m      5\u001b[0m param_grid \u001b[39m=\u001b[39m {\n\u001b[1;32m      6\u001b[0m     \u001b[39m'\u001b[39m\u001b[39mn_neighbors\u001b[39m\u001b[39m'\u001b[39m: [\u001b[39m3\u001b[39m, \u001b[39m5\u001b[39m, \u001b[39m7\u001b[39m],\n\u001b[1;32m      7\u001b[0m     \u001b[39m'\u001b[39m\u001b[39mweights\u001b[39m\u001b[39m'\u001b[39m: [\u001b[39m'\u001b[39m\u001b[39muniform\u001b[39m\u001b[39m'\u001b[39m, \u001b[39m'\u001b[39m\u001b[39mdistance\u001b[39m\u001b[39m'\u001b[39m],\n\u001b[1;32m      8\u001b[0m     \u001b[39m'\u001b[39m\u001b[39mp\u001b[39m\u001b[39m'\u001b[39m: [\u001b[39m1\u001b[39m, \u001b[39m2\u001b[39m],\n\u001b[1;32m      9\u001b[0m }\n\u001b[1;32m     11\u001b[0m \u001b[39m# Instantiate GridSearchCV\u001b[39;00m\n\u001b[0;32m---> 12\u001b[0m grid_search \u001b[39m=\u001b[39m GridSearchCV(knn_model, param_grid, cv\u001b[39m=\u001b[39m\u001b[39m5\u001b[39m)\n\u001b[1;32m     14\u001b[0m \u001b[39m# Fit the grid search to the data\u001b[39;00m\n\u001b[1;32m     15\u001b[0m grid_search\u001b[39m.\u001b[39mfit(train_X, train_y)\n",
      "\u001b[0;31mNameError\u001b[0m: name 'GridSearchCV' is not defined"
     ]
    }
   ],
   "source": [
    "\n",
    "# Instantiate the KNeighborsClassifier model\n",
    "knn_model = KNeighborsClassifier()\n",
    "\n",
    "# Define the parameter grid\n",
    "param_grid = {\n",
    "    'n_neighbors': [3, 5, 7],\n",
    "    'weights': ['uniform', 'distance'],\n",
    "    'p': [1, 2],\n",
    "}\n",
    "\n",
    "# Instantiate GridSearchCV\n",
    "grid_search = GridSearchCV(knn_model, param_grid, cv=5)\n",
    "\n",
    "# Fit the grid search to the data\n",
    "grid_search.fit(train_X, train_y)\n",
    "\n",
    "# Get the best parameters and best score\n",
    "best_params = grid_search.best_params_\n",
    "best_score = grid_search.best_score_\n",
    "\n",
    "print(\"Best Parameters:\", best_params)\n",
    "print(\"Best Cross-Validation Score:\", best_score)\n"
   ]
  },
  {
   "cell_type": "code",
   "execution_count": null,
   "metadata": {},
   "outputs": [
    {
     "name": "stdout",
     "output_type": "stream",
     "text": [
      "Best Parameters: {'n_neighbors': 42, 'p': 1, 'weights': 'uniform'}\n",
      "Validation Accuracy: 0.7964015151515151\n"
     ]
    }
   ],
   "source": [
    "from sklearn.neighbors import KNeighborsClassifier\n",
    "from sklearn.model_selection import GridSearchCV\n",
    "from sklearn.metrics import accuracy_score\n",
    "\n",
    "def get_knn(train_X, val_X, train_y, val_y):\n",
    "    # Instantiate the KNeighborsClassifier model\n",
    "    knn_model = KNeighborsClassifier()\n",
    "\n",
    "    # Define the parameter grid\n",
    "    param_grid = {\n",
    "        'n_neighbors': list(range(1, 50)),  # Values from 1 to 20\n",
    "        'weights': ['uniform', 'distance'],\n",
    "        'p': [1, 2],\n",
    "    }\n",
    "\n",
    "    # Instantiate GridSearchCV\n",
    "    grid_search = GridSearchCV(knn_model, param_grid, cv=5)\n",
    "\n",
    "    # Fit the grid search to the training data\n",
    "    grid_search.fit(train_X, train_y)\n",
    "\n",
    "    # Get the best parameters and best estimator\n",
    "    best_params = grid_search.best_params_\n",
    "    best_estimator = grid_search.best_estimator_\n",
    "\n",
    "    # Predict on validation data using the best estimator\n",
    "    val_predictions = best_estimator.predict(val_X)\n",
    "\n",
    "    # Calculate accuracy on validation data\n",
    "    val_accuracy = accuracy_score(val_y, val_predictions)\n",
    "\n",
    "    print(\"Best Parameters:\", best_params)\n",
    "    print(\"Validation Accuracy:\", val_accuracy)\n",
    "\n",
    "# Assuming you have train_X, val_X, train_y, val_y defined\n",
    "get_knn(train_X, val_X, train_y, val_y)\n"
   ]
  },
  {
   "cell_type": "code",
   "execution_count": null,
   "metadata": {},
   "outputs": [
    {
     "name": "stdout",
     "output_type": "stream",
     "text": [
      "n_neighbors: 17, weights: uniform, p: 1\n",
      "Train Accuracy: 0.8122, Validation Accuracy: 0.8030\n",
      "\n",
      "n_neighbors: 20, weights: uniform, p: 1\n",
      "Train Accuracy: 0.8087, Validation Accuracy: 0.8021\n",
      "\n",
      "n_neighbors: 16, weights: uniform, p: 1\n",
      "Train Accuracy: 0.8077, Validation Accuracy: 0.7983\n",
      "\n",
      "n_neighbors: 19, weights: uniform, p: 1\n",
      "Train Accuracy: 0.8116, Validation Accuracy: 0.7973\n",
      "\n",
      "n_neighbors: 20, weights: uniform, p: 2\n",
      "Train Accuracy: 0.8030, Validation Accuracy: 0.7973\n",
      "\n",
      "n_neighbors: 15, weights: uniform, p: 1\n",
      "Train Accuracy: 0.8134, Validation Accuracy: 0.7964\n",
      "\n",
      "n_neighbors: 19, weights: uniform, p: 2\n",
      "Train Accuracy: 0.8037, Validation Accuracy: 0.7964\n",
      "\n",
      "n_neighbors: 18, weights: uniform, p: 1\n",
      "Train Accuracy: 0.8095, Validation Accuracy: 0.7955\n",
      "\n",
      "n_neighbors: 10, weights: uniform, p: 1\n",
      "Train Accuracy: 0.8172, Validation Accuracy: 0.7926\n",
      "\n",
      "n_neighbors: 17, weights: uniform, p: 2\n",
      "Train Accuracy: 0.8055, Validation Accuracy: 0.7917\n",
      "\n",
      "n_neighbors: 8, weights: uniform, p: 1\n",
      "Train Accuracy: 0.8247, Validation Accuracy: 0.7907\n",
      "\n",
      "n_neighbors: 16, weights: uniform, p: 2\n",
      "Train Accuracy: 0.8047, Validation Accuracy: 0.7907\n",
      "\n",
      "n_neighbors: 18, weights: uniform, p: 2\n",
      "Train Accuracy: 0.8028, Validation Accuracy: 0.7907\n",
      "\n",
      "n_neighbors: 13, weights: uniform, p: 1\n",
      "Train Accuracy: 0.8154, Validation Accuracy: 0.7898\n",
      "\n",
      "n_neighbors: 13, weights: uniform, p: 2\n",
      "Train Accuracy: 0.8108, Validation Accuracy: 0.7898\n",
      "\n",
      "n_neighbors: 10, weights: uniform, p: 2\n",
      "Train Accuracy: 0.8144, Validation Accuracy: 0.7888\n",
      "\n",
      "n_neighbors: 14, weights: uniform, p: 1\n",
      "Train Accuracy: 0.8118, Validation Accuracy: 0.7888\n",
      "\n",
      "n_neighbors: 15, weights: uniform, p: 2\n",
      "Train Accuracy: 0.8083, Validation Accuracy: 0.7888\n",
      "\n",
      "n_neighbors: 12, weights: uniform, p: 1\n",
      "Train Accuracy: 0.8136, Validation Accuracy: 0.7879\n",
      "\n",
      "n_neighbors: 11, weights: uniform, p: 2\n",
      "Train Accuracy: 0.8118, Validation Accuracy: 0.7869\n",
      "\n",
      "n_neighbors: 14, weights: uniform, p: 2\n",
      "Train Accuracy: 0.8085, Validation Accuracy: 0.7869\n",
      "\n",
      "n_neighbors: 6, weights: uniform, p: 1\n",
      "Train Accuracy: 0.8302, Validation Accuracy: 0.7841\n",
      "\n",
      "n_neighbors: 11, weights: uniform, p: 1\n",
      "Train Accuracy: 0.8168, Validation Accuracy: 0.7841\n",
      "\n",
      "n_neighbors: 7, weights: uniform, p: 1\n",
      "Train Accuracy: 0.8296, Validation Accuracy: 0.7831\n",
      "\n",
      "n_neighbors: 8, weights: uniform, p: 2\n",
      "Train Accuracy: 0.8219, Validation Accuracy: 0.7831\n",
      "\n",
      "n_neighbors: 12, weights: uniform, p: 2\n",
      "Train Accuracy: 0.8110, Validation Accuracy: 0.7822\n",
      "\n",
      "n_neighbors: 7, weights: uniform, p: 2\n",
      "Train Accuracy: 0.8268, Validation Accuracy: 0.7803\n",
      "\n",
      "n_neighbors: 9, weights: uniform, p: 2\n",
      "Train Accuracy: 0.8178, Validation Accuracy: 0.7803\n",
      "\n",
      "n_neighbors: 20, weights: distance, p: 2\n",
      "Train Accuracy: 0.9905, Validation Accuracy: 0.7803\n",
      "\n",
      "n_neighbors: 19, weights: distance, p: 1\n",
      "Train Accuracy: 0.9905, Validation Accuracy: 0.7784\n",
      "\n",
      "n_neighbors: 19, weights: distance, p: 2\n",
      "Train Accuracy: 0.9905, Validation Accuracy: 0.7784\n",
      "\n",
      "n_neighbors: 9, weights: uniform, p: 1\n",
      "Train Accuracy: 0.8243, Validation Accuracy: 0.7775\n",
      "\n",
      "n_neighbors: 16, weights: distance, p: 2\n",
      "Train Accuracy: 0.9905, Validation Accuracy: 0.7775\n",
      "\n",
      "n_neighbors: 17, weights: distance, p: 1\n",
      "Train Accuracy: 0.9905, Validation Accuracy: 0.7765\n",
      "\n",
      "n_neighbors: 18, weights: distance, p: 2\n",
      "Train Accuracy: 0.9905, Validation Accuracy: 0.7765\n",
      "\n",
      "n_neighbors: 5, weights: uniform, p: 1\n",
      "Train Accuracy: 0.8387, Validation Accuracy: 0.7746\n",
      "\n",
      "n_neighbors: 18, weights: distance, p: 1\n",
      "Train Accuracy: 0.9905, Validation Accuracy: 0.7746\n",
      "\n",
      "n_neighbors: 14, weights: distance, p: 2\n",
      "Train Accuracy: 0.9905, Validation Accuracy: 0.7737\n",
      "\n",
      "n_neighbors: 20, weights: distance, p: 1\n",
      "Train Accuracy: 0.9905, Validation Accuracy: 0.7737\n",
      "\n",
      "n_neighbors: 6, weights: uniform, p: 2\n",
      "Train Accuracy: 0.8276, Validation Accuracy: 0.7727\n",
      "\n",
      "n_neighbors: 13, weights: distance, p: 2\n",
      "Train Accuracy: 0.9905, Validation Accuracy: 0.7727\n",
      "\n",
      "n_neighbors: 17, weights: distance, p: 2\n",
      "Train Accuracy: 0.9905, Validation Accuracy: 0.7727\n",
      "\n",
      "n_neighbors: 15, weights: distance, p: 1\n",
      "Train Accuracy: 0.9905, Validation Accuracy: 0.7718\n",
      "\n",
      "n_neighbors: 12, weights: distance, p: 2\n",
      "Train Accuracy: 0.9905, Validation Accuracy: 0.7708\n",
      "\n",
      "n_neighbors: 15, weights: distance, p: 2\n",
      "Train Accuracy: 0.9905, Validation Accuracy: 0.7708\n",
      "\n",
      "n_neighbors: 16, weights: distance, p: 1\n",
      "Train Accuracy: 0.9905, Validation Accuracy: 0.7708\n",
      "\n",
      "n_neighbors: 10, weights: distance, p: 2\n",
      "Train Accuracy: 0.9905, Validation Accuracy: 0.7680\n",
      "\n",
      "n_neighbors: 7, weights: distance, p: 2\n",
      "Train Accuracy: 0.9905, Validation Accuracy: 0.7670\n",
      "\n",
      "n_neighbors: 11, weights: distance, p: 2\n",
      "Train Accuracy: 0.9905, Validation Accuracy: 0.7670\n",
      "\n",
      "n_neighbors: 14, weights: distance, p: 1\n",
      "Train Accuracy: 0.9905, Validation Accuracy: 0.7670\n",
      "\n",
      "n_neighbors: 9, weights: distance, p: 2\n",
      "Train Accuracy: 0.9905, Validation Accuracy: 0.7652\n",
      "\n",
      "n_neighbors: 13, weights: distance, p: 1\n",
      "Train Accuracy: 0.9905, Validation Accuracy: 0.7642\n",
      "\n",
      "n_neighbors: 2, weights: uniform, p: 1\n",
      "Train Accuracy: 0.8651, Validation Accuracy: 0.7633\n",
      "\n",
      "n_neighbors: 11, weights: distance, p: 1\n",
      "Train Accuracy: 0.9905, Validation Accuracy: 0.7633\n",
      "\n",
      "n_neighbors: 4, weights: uniform, p: 1\n",
      "Train Accuracy: 0.8394, Validation Accuracy: 0.7614\n",
      "\n",
      "n_neighbors: 10, weights: distance, p: 1\n",
      "Train Accuracy: 0.9905, Validation Accuracy: 0.7614\n",
      "\n",
      "n_neighbors: 12, weights: distance, p: 1\n",
      "Train Accuracy: 0.9905, Validation Accuracy: 0.7614\n",
      "\n",
      "n_neighbors: 8, weights: distance, p: 2\n",
      "Train Accuracy: 0.9905, Validation Accuracy: 0.7604\n",
      "\n",
      "n_neighbors: 4, weights: uniform, p: 2\n",
      "Train Accuracy: 0.8462, Validation Accuracy: 0.7595\n",
      "\n",
      "n_neighbors: 9, weights: distance, p: 1\n",
      "Train Accuracy: 0.9905, Validation Accuracy: 0.7595\n",
      "\n",
      "n_neighbors: 3, weights: uniform, p: 1\n",
      "Train Accuracy: 0.8619, Validation Accuracy: 0.7585\n",
      "\n",
      "n_neighbors: 5, weights: uniform, p: 2\n",
      "Train Accuracy: 0.8396, Validation Accuracy: 0.7576\n",
      "\n",
      "n_neighbors: 2, weights: uniform, p: 2\n",
      "Train Accuracy: 0.8649, Validation Accuracy: 0.7557\n",
      "\n",
      "n_neighbors: 8, weights: distance, p: 1\n",
      "Train Accuracy: 0.9905, Validation Accuracy: 0.7557\n",
      "\n",
      "n_neighbors: 7, weights: distance, p: 1\n",
      "Train Accuracy: 0.9905, Validation Accuracy: 0.7528\n",
      "\n",
      "n_neighbors: 5, weights: distance, p: 1\n",
      "Train Accuracy: 0.9905, Validation Accuracy: 0.7509\n",
      "\n",
      "n_neighbors: 6, weights: distance, p: 2\n",
      "Train Accuracy: 0.9905, Validation Accuracy: 0.7481\n",
      "\n",
      "n_neighbors: 3, weights: uniform, p: 2\n",
      "Train Accuracy: 0.8680, Validation Accuracy: 0.7472\n",
      "\n",
      "n_neighbors: 6, weights: distance, p: 1\n",
      "Train Accuracy: 0.9905, Validation Accuracy: 0.7472\n",
      "\n",
      "n_neighbors: 3, weights: distance, p: 1\n",
      "Train Accuracy: 0.9903, Validation Accuracy: 0.7434\n",
      "\n",
      "n_neighbors: 4, weights: distance, p: 2\n",
      "Train Accuracy: 0.9905, Validation Accuracy: 0.7405\n",
      "\n",
      "n_neighbors: 5, weights: distance, p: 2\n",
      "Train Accuracy: 0.9905, Validation Accuracy: 0.7405\n",
      "\n",
      "n_neighbors: 2, weights: distance, p: 1\n",
      "Train Accuracy: 0.9892, Validation Accuracy: 0.7386\n",
      "\n",
      "n_neighbors: 4, weights: distance, p: 1\n",
      "Train Accuracy: 0.9905, Validation Accuracy: 0.7386\n",
      "\n",
      "n_neighbors: 1, weights: uniform, p: 1\n",
      "Train Accuracy: 0.9897, Validation Accuracy: 0.7339\n",
      "\n",
      "n_neighbors: 1, weights: distance, p: 1\n",
      "Train Accuracy: 0.9897, Validation Accuracy: 0.7339\n",
      "\n",
      "n_neighbors: 3, weights: distance, p: 2\n",
      "Train Accuracy: 0.9903, Validation Accuracy: 0.7339\n",
      "\n",
      "n_neighbors: 2, weights: distance, p: 2\n",
      "Train Accuracy: 0.9892, Validation Accuracy: 0.7292\n",
      "\n",
      "n_neighbors: 1, weights: uniform, p: 2\n",
      "Train Accuracy: 0.9897, Validation Accuracy: 0.7263\n",
      "\n",
      "n_neighbors: 1, weights: distance, p: 2\n",
      "Train Accuracy: 0.9897, Validation Accuracy: 0.7263\n",
      "\n"
     ]
    }
   ],
   "source": [
    "from sklearn.neighbors import KNeighborsClassifier\n",
    "from sklearn.metrics import accuracy_score\n",
    "\n",
    "def get_knn(train_X, val_X, train_y, val_y):\n",
    "    best_val_accuracy = 0.0\n",
    "    results = []\n",
    "\n",
    "    for n_neighbors in range(1, 21):\n",
    "        for weights in ['uniform', 'distance']:\n",
    "            for p in [1, 2]:\n",
    "                knn_model = KNeighborsClassifier(n_neighbors=n_neighbors, weights=weights, p=p)\n",
    "                knn_model.fit(train_X, train_y)\n",
    "\n",
    "                train_predictions = knn_model.predict(train_X)\n",
    "                val_predictions = knn_model.predict(val_X)\n",
    "\n",
    "                train_accuracy = accuracy_score(train_y, train_predictions)\n",
    "                val_accuracy = accuracy_score(val_y, val_predictions)\n",
    "\n",
    "                results.append((n_neighbors, weights, p, train_accuracy, val_accuracy))\n",
    "\n",
    "                if val_accuracy > best_val_accuracy:\n",
    "                    best_val_accuracy = val_accuracy\n",
    "\n",
    "    results.sort(key=lambda x: x[4], reverse=True)\n",
    "\n",
    "    for result in results:\n",
    "        n_neighbors, weights, p, train_accuracy, val_accuracy = result\n",
    "        print(f\"n_neighbors: {n_neighbors}, weights: {weights}, p: {p}\")\n",
    "        print(f\"Train Accuracy: {train_accuracy:.4f}, Validation Accuracy: {val_accuracy:.4f}\\n\")\n",
    "\n",
    "# Assuming train_X, val_X, train_y, and val_y are available\n",
    "get_knn(train_X, val_X, train_y, val_y)\n"
   ]
  },
  {
   "cell_type": "code",
   "execution_count": null,
   "metadata": {},
   "outputs": [],
   "source": []
  },
  {
   "cell_type": "code",
   "execution_count": null,
   "metadata": {},
   "outputs": [],
   "source": []
  },
  {
   "cell_type": "code",
   "execution_count": null,
   "metadata": {},
   "outputs": [],
   "source": []
  },
  {
   "cell_type": "code",
   "execution_count": null,
   "metadata": {},
   "outputs": [],
   "source": []
  },
  {
   "cell_type": "code",
   "execution_count": null,
   "metadata": {},
   "outputs": [],
   "source": []
  }
 ],
 "metadata": {
  "kernelspec": {
   "display_name": "base",
   "language": "python",
   "name": "python3"
  },
  "language_info": {
   "codemirror_mode": {
    "name": "ipython",
    "version": 3
   },
   "file_extension": ".py",
   "mimetype": "text/x-python",
   "name": "python",
   "nbconvert_exporter": "python",
   "pygments_lexer": "ipython3",
   "version": "3.10.12"
  },
  "orig_nbformat": 4
 },
 "nbformat": 4,
 "nbformat_minor": 2
}
