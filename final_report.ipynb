{
 "cells": [
  {
   "cell_type": "markdown",
   "metadata": {},
   "source": [
    "<font size=\"5\"> Telco Churn </font> <br><br>\n",
    "Description\n",
    "In the rapidly evolving telecommunications industry, understanding and mitigating customer churn has become a critical business concern. This data science project aims to analyze customer churn patterns using historical data and build predictive models to identify customers at risk of churning. By doing so, this project aims to provide actionable insights to Telco, enabling them to implement targeted retention strategies.<br><br>\n",
    "<font size=\"5\"> Goals </font>\n",
    "<ul>\n",
    "<li>Data Collection and Preprocessing: Gather and clean Telco customer data to create a comprehensive dataset suitable for analysis.</li>\n",
    "<li>Exploratory Data Analysis: Perform exploratory analysis to identify trends, patterns, and potential correlations related to customer churn.</li>\n",
    "<li>Feature Importance Determination: Employ machine learning techniques to assess the importance of various features in predicting churn, aiding in identifying critical factors.</li>\n",
    "<li>Model Building and Evaluation: Develop predictive models for customer churn, compare their performance, and select the most effective one for accurate churn prediction.</li>\n",
    "</ul>"
   ]
  },
  {
   "cell_type": "markdown",
   "metadata": {},
   "source": [
    "<font size=\"5\"> Imports </font>"
   ]
  },
  {
   "cell_type": "code",
   "execution_count": 1,
   "metadata": {},
   "outputs": [],
   "source": [
    "# Imports of required funcitons\n",
    "import pandas as pd\n",
    "import numpy as np\n",
    "from scipy import stats\n",
    "\n",
    "import matplotlib.pyplot as plt\n",
    "import seaborn as sns\n",
    "import os\n",
    "\n",
    "from sklearn.tree import DecisionTreeClassifier\n",
    "from sklearn.ensemble import RandomForestClassifier\n",
    "from sklearn.neighbors import KNeighborsClassifier\n",
    "from sklearn.preprocessing import MinMaxScaler\n",
    "from sklearn.linear_model import LogisticRegression\n",
    "\n",
    "from sklearn.metrics import classification_report, confusion_matrix\n",
    "from prepare import telco_pipeline, telco_prep, telco_modeling\n",
    "from visuals import plot_churn_distribution, plot_churn_by_internet_service, plot_churn_vs_payment_method, plot_churn_vs_tenure_histogram, plot_churn_vs_monthly_charges_histogram\n",
    "from explore import chi2_internet_service, chi2_internet_service_type, chi2_payment_method, ttest_churn_vs_tenure, ttest_monthly_charges\n",
    "from model import get_tree, get_forest, get_logreg, get_knn, get_forest_test"
   ]
  },
  {
   "cell_type": "markdown",
   "metadata": {},
   "source": [
    "<font size=\"5\">Acquire</font>\n",
    "<br>\n",
    "<ul>\n",
    "<li>Data acquired from Codeup servers.</li>\n",
    "<li>It contained 7,043 rows and 20 columns before cleaning</li>\n",
    "<li>Each row represents a customer of Telco.</li>\n",
    "<li>Each column represents a feature of the customer's account.</li>\n",
    "</ul>\n",
    "<br>\n",
    "<font size=\"5\">Prepare</font> <br>\n",
    "<br>\n",
    "\n",
    "* Removed unnecessary columns associated with joining table IDs\n",
    "* Checked for nulls in the data\n",
    "    * Replaced new customer's total charges value from blank to 0\n",
    "    * Replaced internet service type nulls with \"No internet service\"\n",
    "* Checked that column data types were appropriate\n",
    "    * Changed data type of total charges from object to float\n",
    "* Encoded categorical variables to binary \"dummy\" variables\n",
    "    * Removed columns that did not contain useful information (duplicate info)\n",
    "* Renamed columns to promote readability\n",
    "* Split data into train, validate and test, stratifying on 'churn'\n",
    "* Outliers have not been removed for this iteration of the project\n",
    "\n",
    "\n",
    "<br>\n",
    "<font size=\"5\">Dictionary</font><br>\n",
    "<br>\n",
    "\n",
    "| Feature| Description |\n",
    "|:-------|:------------|\n",
    "| Senior Citizen| Whether the customer is a senior citizen (0 for no, 1 for yes)|\n",
    "| Tenure| Number of months the customer has been with the Telco|\n",
    "| Monthly Charges| Monthly charges incurred by the customer|\n",
    "| Total Charges| Total charges incurred by the customer over the entire period|\n",
    "| Male| Gender of the customer (True for male, False for female)|\n",
    "| Partner| Whether the customer has a partner (spouse) (True for yes, False for no)|\n",
    "| Dependents| Whether the customer has dependents (True for yes, False for no)|\n",
    "| Phone Service| Whether the customer has phone service (True for yes, False for no)|\n",
    "| Multiple Lines| Whether the customer has multiple phone lines (True for yes, False for no)|\n",
    "| Online Security| Whether the customer has online security service (True for yes, False for no)|\n",
    "| Online Backup| Whether the customer has online backup service (True for yes, False for no)|\n",
    "| Device Protection| Whether the customer has device protection service (True for yes, False for no)|\n",
    "| Tech Support| Whether the customer has technical support service (True for yes, False for no)|\n",
    "| Streaming TV| Whether the customer has streaming TV service (True for yes, False for no)|\n",
    "| Streaming Movies| Whether the customer has streaming movie service (True for yes, False for no)|\n",
    "| Paperless Billing| Whether the customer has opted for paperless billing (True for yes, False for no)|\n",
    "| Churn| Whether the customer has churned (True for churned, False for not churned)|\n",
    "| Contract Month| Whether the customer is on a month-to-month contract (True for yes, False for no)|\n",
    "| Contract One Year| Whether the customer is on a one-year contract (True for yes, False for no)|\n",
    "| Contract Two Year| Whether the customer is on a two-year contract (True for yes, False for no)|\n",
    "| Internet DSL| Whether the customer uses DSL internet service (True for yes, False for no)|\n",
    "| Internet Fiber Optic| Whether the customer uses fiber optic internet service (True for yes, False for no)|\n",
    "| Payment Bank Transfer| Whether the customer pays through bank transfer (True for yes, False for no)|\n",
    "| Payment Credit Card| Whether the customer pays through credit card (True for yes, False for no)|\n",
    "| Payment Electronic Check| Whether the customer pays through electronic check (True for yes, False for no)|\n",
    "| Payment Mailed Check| Whether the customer pays through mailed check (True for yes, False for no)|"
   ]
  },
  {
   "cell_type": "markdown",
   "metadata": {},
   "source": [
    "<font size=\"5\">A brief look at the data</font>"
   ]
  },
  {
   "cell_type": "code",
   "execution_count": 2,
   "metadata": {},
   "outputs": [
    {
     "data": {
      "text/html": [
       "<div>\n",
       "<style scoped>\n",
       "    .dataframe tbody tr th:only-of-type {\n",
       "        vertical-align: middle;\n",
       "    }\n",
       "\n",
       "    .dataframe tbody tr th {\n",
       "        vertical-align: top;\n",
       "    }\n",
       "\n",
       "    .dataframe thead th {\n",
       "        text-align: right;\n",
       "    }\n",
       "</style>\n",
       "<table border=\"1\" class=\"dataframe\">\n",
       "  <thead>\n",
       "    <tr style=\"text-align: right;\">\n",
       "      <th></th>\n",
       "      <th>gender</th>\n",
       "      <th>senior_citizen</th>\n",
       "      <th>partner</th>\n",
       "      <th>dependents</th>\n",
       "      <th>tenure</th>\n",
       "      <th>phone_service</th>\n",
       "      <th>multiple_lines</th>\n",
       "      <th>internet_service</th>\n",
       "      <th>internet_service_type</th>\n",
       "      <th>online_security</th>\n",
       "      <th>online_backup</th>\n",
       "      <th>device_protection</th>\n",
       "      <th>tech_support</th>\n",
       "      <th>streaming_tv</th>\n",
       "      <th>streaming_movies</th>\n",
       "      <th>contract</th>\n",
       "      <th>contract_type</th>\n",
       "      <th>payment_method</th>\n",
       "      <th>payment_type</th>\n",
       "      <th>paperless_billing</th>\n",
       "      <th>monthly_charges</th>\n",
       "      <th>total_charges</th>\n",
       "      <th>churn</th>\n",
       "    </tr>\n",
       "  </thead>\n",
       "  <tbody>\n",
       "    <tr>\n",
       "      <th>0</th>\n",
       "      <td>Female</td>\n",
       "      <td>No</td>\n",
       "      <td>Yes</td>\n",
       "      <td>Yes</td>\n",
       "      <td>9</td>\n",
       "      <td>Yes</td>\n",
       "      <td>No</td>\n",
       "      <td>Yes</td>\n",
       "      <td>DSL</td>\n",
       "      <td>No</td>\n",
       "      <td>Yes</td>\n",
       "      <td>No</td>\n",
       "      <td>Yes</td>\n",
       "      <td>Yes</td>\n",
       "      <td>No</td>\n",
       "      <td>Yes</td>\n",
       "      <td>One year</td>\n",
       "      <td>Mailed check</td>\n",
       "      <td>Manual</td>\n",
       "      <td>Yes</td>\n",
       "      <td>65.6</td>\n",
       "      <td>593.30</td>\n",
       "      <td>No</td>\n",
       "    </tr>\n",
       "    <tr>\n",
       "      <th>1</th>\n",
       "      <td>Male</td>\n",
       "      <td>No</td>\n",
       "      <td>No</td>\n",
       "      <td>No</td>\n",
       "      <td>9</td>\n",
       "      <td>Yes</td>\n",
       "      <td>Yes</td>\n",
       "      <td>Yes</td>\n",
       "      <td>DSL</td>\n",
       "      <td>No</td>\n",
       "      <td>No</td>\n",
       "      <td>No</td>\n",
       "      <td>No</td>\n",
       "      <td>No</td>\n",
       "      <td>Yes</td>\n",
       "      <td>No</td>\n",
       "      <td>Month-to-month</td>\n",
       "      <td>Mailed check</td>\n",
       "      <td>Manual</td>\n",
       "      <td>No</td>\n",
       "      <td>59.9</td>\n",
       "      <td>542.40</td>\n",
       "      <td>No</td>\n",
       "    </tr>\n",
       "    <tr>\n",
       "      <th>2</th>\n",
       "      <td>Male</td>\n",
       "      <td>No</td>\n",
       "      <td>No</td>\n",
       "      <td>No</td>\n",
       "      <td>4</td>\n",
       "      <td>Yes</td>\n",
       "      <td>No</td>\n",
       "      <td>Yes</td>\n",
       "      <td>Fiber optic</td>\n",
       "      <td>No</td>\n",
       "      <td>No</td>\n",
       "      <td>Yes</td>\n",
       "      <td>No</td>\n",
       "      <td>No</td>\n",
       "      <td>No</td>\n",
       "      <td>No</td>\n",
       "      <td>Month-to-month</td>\n",
       "      <td>Electronic check</td>\n",
       "      <td>Manual</td>\n",
       "      <td>Yes</td>\n",
       "      <td>73.9</td>\n",
       "      <td>280.85</td>\n",
       "      <td>Yes</td>\n",
       "    </tr>\n",
       "    <tr>\n",
       "      <th>3</th>\n",
       "      <td>Male</td>\n",
       "      <td>Yes</td>\n",
       "      <td>Yes</td>\n",
       "      <td>No</td>\n",
       "      <td>13</td>\n",
       "      <td>Yes</td>\n",
       "      <td>No</td>\n",
       "      <td>Yes</td>\n",
       "      <td>Fiber optic</td>\n",
       "      <td>No</td>\n",
       "      <td>Yes</td>\n",
       "      <td>Yes</td>\n",
       "      <td>No</td>\n",
       "      <td>Yes</td>\n",
       "      <td>Yes</td>\n",
       "      <td>No</td>\n",
       "      <td>Month-to-month</td>\n",
       "      <td>Electronic check</td>\n",
       "      <td>Manual</td>\n",
       "      <td>Yes</td>\n",
       "      <td>98.0</td>\n",
       "      <td>1237.85</td>\n",
       "      <td>Yes</td>\n",
       "    </tr>\n",
       "    <tr>\n",
       "      <th>4</th>\n",
       "      <td>Female</td>\n",
       "      <td>Yes</td>\n",
       "      <td>Yes</td>\n",
       "      <td>No</td>\n",
       "      <td>3</td>\n",
       "      <td>Yes</td>\n",
       "      <td>No</td>\n",
       "      <td>Yes</td>\n",
       "      <td>Fiber optic</td>\n",
       "      <td>No</td>\n",
       "      <td>No</td>\n",
       "      <td>No</td>\n",
       "      <td>Yes</td>\n",
       "      <td>Yes</td>\n",
       "      <td>No</td>\n",
       "      <td>No</td>\n",
       "      <td>Month-to-month</td>\n",
       "      <td>Mailed check</td>\n",
       "      <td>Manual</td>\n",
       "      <td>Yes</td>\n",
       "      <td>83.9</td>\n",
       "      <td>267.40</td>\n",
       "      <td>Yes</td>\n",
       "    </tr>\n",
       "  </tbody>\n",
       "</table>\n",
       "</div>"
      ],
      "text/plain": [
       "   gender senior_citizen partner dependents  tenure phone_service  \\\n",
       "0  Female             No     Yes        Yes       9           Yes   \n",
       "1    Male             No      No         No       9           Yes   \n",
       "2    Male             No      No         No       4           Yes   \n",
       "3    Male            Yes     Yes         No      13           Yes   \n",
       "4  Female            Yes     Yes         No       3           Yes   \n",
       "\n",
       "  multiple_lines internet_service internet_service_type online_security  \\\n",
       "0             No              Yes                   DSL              No   \n",
       "1            Yes              Yes                   DSL              No   \n",
       "2             No              Yes           Fiber optic              No   \n",
       "3             No              Yes           Fiber optic              No   \n",
       "4             No              Yes           Fiber optic              No   \n",
       "\n",
       "  online_backup device_protection tech_support streaming_tv streaming_movies  \\\n",
       "0           Yes                No          Yes          Yes               No   \n",
       "1            No                No           No           No              Yes   \n",
       "2            No               Yes           No           No               No   \n",
       "3           Yes               Yes           No          Yes              Yes   \n",
       "4            No                No          Yes          Yes               No   \n",
       "\n",
       "  contract   contract_type    payment_method payment_type paperless_billing  \\\n",
       "0      Yes        One year      Mailed check       Manual               Yes   \n",
       "1       No  Month-to-month      Mailed check       Manual                No   \n",
       "2       No  Month-to-month  Electronic check       Manual               Yes   \n",
       "3       No  Month-to-month  Electronic check       Manual               Yes   \n",
       "4       No  Month-to-month      Mailed check       Manual               Yes   \n",
       "\n",
       "   monthly_charges  total_charges churn  \n",
       "0             65.6         593.30    No  \n",
       "1             59.9         542.40    No  \n",
       "2             73.9         280.85   Yes  \n",
       "3             98.0        1237.85   Yes  \n",
       "4             83.9         267.40   Yes  "
      ]
     },
     "execution_count": 2,
     "metadata": {},
     "output_type": "execute_result"
    }
   ],
   "source": [
    "# acquiring, preparing the data\n",
    "# splitting data into train, validate, and test\n",
    "df = telco_prep()\n",
    "\n",
    "# Lets increase the max columns since we have over 20\n",
    "pd.set_option('display.max_columns', None)\n",
    "df.head()"
   ]
  },
  {
   "cell_type": "markdown",
   "metadata": {},
   "source": [
    "<font size=\"5\">A summery of the data</font>"
   ]
  },
  {
   "cell_type": "code",
   "execution_count": 3,
   "metadata": {},
   "outputs": [
    {
     "name": "stdout",
     "output_type": "stream",
     "text": [
      "            tenure  monthly_charges  total_charges\n",
      "count  7043.000000      7043.000000    7043.000000\n",
      "mean     32.371149        64.761692    2279.734304\n",
      "std      24.559481        30.090047    2266.794470\n",
      "min       0.000000        18.250000       0.000000\n",
      "25%       9.000000        35.500000     398.550000\n",
      "50%      29.000000        70.350000    1394.550000\n",
      "75%      55.000000        89.850000    3786.600000\n",
      "max      72.000000       118.750000    8684.800000\n",
      "\n",
      "(7043, 23)\n"
     ]
    }
   ],
   "source": [
    "# Print summary of data\n",
    "print(df.describe())\n",
    "print()\n",
    "print(df.shape)"
   ]
  },
  {
   "cell_type": "markdown",
   "metadata": {},
   "source": [
    "<font size=\"5\">Explore</font>"
   ]
  },
  {
   "cell_type": "code",
   "execution_count": 4,
   "metadata": {},
   "outputs": [
    {
     "data": {
      "image/png": "[encoded data removed]",
      "text/plain": [
       "<Figure size 600x400 with 1 Axes>"
      ]
     },
     "metadata": {},
     "output_type": "display_data"
    }
   ],
   "source": [
    "# Display overall churn chart\n",
    "plot_churn_distribution(df)"
   ]
  },
  {
   "cell_type": "markdown",
   "metadata": {},
   "source": [
    "<font size=\"4\">36% of our customers have churned.</font>"
   ]
  },
  {
   "cell_type": "markdown",
   "metadata": {},
   "source": [
    "<font size=\"5\">Does Internet Type Affect Churn?</font>\n",
    "\n",
    "We will compare the churn rates across different internet service types.\n",
    "\n",
    "Internet type contains three unique values: 'DSL', 'Fiber optic', and 'No internet service'."
   ]
  },
  {
   "cell_type": "code",
   "execution_count": 5,
   "metadata": {},
   "outputs": [
    {
     "data": {
      "image/png": "[encoded data removed]",
      "text/plain": [
       "<Figure size 800x400 with 1 Axes>"
      ]
     },
     "metadata": {},
     "output_type": "display_data"
    }
   ],
   "source": [
    "# Display churn rates by internet service type\n",
    "plot_churn_by_internet_service(df)"
   ]
  },
  {
   "cell_type": "markdown",
   "metadata": {},
   "source": [
    "<font size=\"4\">Churn ratio percentage is 15% higher on customers with Fiber Optic service.</font>\n",
    "\n",
    "<font size=\"5\">Hypothesis</font>\n",
    "\n",
    "Null Hypothesis (H<sub>0</sub>): The type of internet service does not have any significant effect on customer churn.<br>\n",
    "Alternative Hypothesis (H<sub>a</sub>): The type of internet service has a significant effect on customer churn.\n",
    "\n",
    "We use a chi-squared test for independence to examine the relationship between Churn and Internet Service.\n",
    "\n",
    "Chi-Square Test\n",
    "* Confidance interval of 95%\n",
    "* Alpha .05"
   ]
  },
  {
   "cell_type": "code",
   "execution_count": 6,
   "metadata": {},
   "outputs": [
    {
     "name": "stdout",
     "output_type": "stream",
     "text": [
      "Chi-Squared Value: 732.309589667794\n",
      "P-value: 0.0000\n"
     ]
    }
   ],
   "source": [
    "# Perform Chi-Test\n",
    "chi2_internet_service_type(df)"
   ]
  },
  {
   "cell_type": "markdown",
   "metadata": {},
   "source": [
    "<font size=\"5\">We have strong evidence to reject the null hypothesis</font>\n",
    "\n",
    "P value is near 0. Therefore we have evidende so support that churn and internet type are related. Based on this and the large difference in distribution, using internet service featrue in modeling will likely have a large positive impact on the model's accuracy. "
   ]
  },
  {
   "cell_type": "markdown",
   "metadata": {},
   "source": [
    "<font size=\"5\">Does payment method have an affect on churn?</font>\n",
    "\n",
    "We will compare the churn rates across different Payment Methods.\n",
    "\n",
    "Payment Methods contains four unique values: 'Electronic Check', 'Mail Check', 'Credit Card' and 'Bank Transfer'."
   ]
  },
  {
   "cell_type": "code",
   "execution_count": 7,
   "metadata": {},
   "outputs": [
    {
     "data": {
      "image/png": "[encoded data removed]",
      "text/plain": [
       "<Figure size 1000x400 with 1 Axes>"
      ]
     },
     "metadata": {},
     "output_type": "display_data"
    }
   ],
   "source": [
    "#Display churn vs payment method\n",
    "plot_churn_vs_payment_method(df)"
   ]
  },
  {
   "cell_type": "markdown",
   "metadata": {},
   "source": [
    "<font size=\"4\">Churn ratio percentage is 18% higher on customers with Electronic check.</font><br>\n",
    "\n",
    "<font size=\"5\">Hypothesis</font>\n",
    "\n",
    "Null Hypothesis (H<sub>0</sub>): The payment method does not have any significant effect on customer churn.<br>\n",
    "Alternative Hypothesis (H<sub>a</sub>): The payment method has a significant effect on customer churn. \n",
    "\n",
    "We use a chi-squared test for independence to examine the relationship between Churn and Payment Method.\n",
    "\n",
    "Chi-Square Test\n",
    "* Confidance interval of 95%\n",
    "* Alpha .05"
   ]
  },
  {
   "cell_type": "code",
   "execution_count": 8,
   "metadata": {},
   "outputs": [
    {
     "name": "stdout",
     "output_type": "stream",
     "text": [
      "Chi-Squared Value: 648.1423274814\n",
      "P-value: 0.0000\n",
      "There is a significant association between payment method and churn.\n"
     ]
    }
   ],
   "source": [
    "# Perform Chi-Test\n",
    "chi2_payment_method(df)"
   ]
  },
  {
   "cell_type": "markdown",
   "metadata": {},
   "source": [
    "<font size=\"5\">We have strong evidence to reject the null hypothesis</font>\n",
    "\n",
    "P value is near 0. Therefore we have evidende so support that churn and Payment Method are related. Based on this and the large difference in distribution, using internet service featrue in modeling will likely have a large positive impact on the model's accuracy. "
   ]
  },
  {
   "cell_type": "markdown",
   "metadata": {},
   "source": [
    "<font size=\"5\">Does Tenure have an affect on churn?</font>\n",
    "\n",
    "We will compare the churn rates vs Tenure.\n",
    "\n",
    "Tenure: In months"
   ]
  },
  {
   "cell_type": "code",
   "execution_count": 9,
   "metadata": {},
   "outputs": [
    {
     "data": {
      "image/png": "[encoded data removed]",
      "text/plain": [
       "<Figure size 1000x600 with 1 Axes>"
      ]
     },
     "metadata": {},
     "output_type": "display_data"
    }
   ],
   "source": [
    "# Display Churn vs Tenure\n",
    "plot_churn_vs_tenure_histogram(df)"
   ]
  },
  {
   "cell_type": "markdown",
   "metadata": {},
   "source": [
    "<font size=\"4\">The histogram seems to suggest that churn decreases as tenure increses</font><br>\n",
    "\n",
    "<font size=\"5\">Hypothesis</font>\n",
    "\n",
    "Null Hypothesis (H<sub>0</sub>): There is no significant relationship between tenure and churn.\n",
    "<br>\n",
    "Alternative Hypothesis (H<sub>a</sub>): There is a significant relationship between tenure and churn.\n",
    "\n",
    "Lets use the T-Test to determine whether the difference in mean tenure is statistically significant.\n",
    "\n",
    "T-Test\n",
    "* Confidance interval of 95%\n",
    "* Alpha .05"
   ]
  },
  {
   "cell_type": "code",
   "execution_count": 10,
   "metadata": {},
   "outputs": [
    {
     "name": "stdout",
     "output_type": "stream",
     "text": [
      "T-Statistic: -31.579550511353766\n",
      "P-Value: 0.0000\n",
      "\n",
      "There is a significant relationship between tenure and churn.\n"
     ]
    }
   ],
   "source": [
    "# Perform T-Test\n",
    "ttest_churn_vs_tenure(df)"
   ]
  },
  {
   "cell_type": "markdown",
   "metadata": {},
   "source": [
    "<font size=\"5\">We have strong evidence to reject the null hypothesis.</font>\n",
    "\n",
    "P value is near 0. which indicates a highly statistically significant relationship between tenure and churn. Incorporating the tenure feature in modeling is expected to  have a large positive impact on the accuracy."
   ]
  },
  {
   "cell_type": "markdown",
   "metadata": {},
   "source": [
    "<font size=\"5\">Does Monthy Charges have an affect on churn?</font>\n",
    "\n",
    "We will compare the churn rates vs Monthly Charges."
   ]
  },
  {
   "cell_type": "code",
   "execution_count": 11,
   "metadata": {},
   "outputs": [
    {
     "data": {
      "image/png": "[encoded data removed]",
      "text/plain": [
       "<Figure size 1000x600 with 1 Axes>"
      ]
     },
     "metadata": {},
     "output_type": "display_data"
    }
   ],
   "source": [
    "# Display Churn vs Monthly Charges\n",
    "plot_churn_vs_monthly_charges_histogram(df)"
   ]
  },
  {
   "cell_type": "markdown",
   "metadata": {},
   "source": [
    "<font size=\"4\">The histogram suggest that as monthly charges increase, churn increases.</font><br>\n",
    "\n",
    "<font size=\"5\">Hypothesis</font>\n",
    "\n",
    "Null Hypothesis (H<sub>0</sub>): There is no significant correlation between higher monthly charges and churned customers.\n",
    "<br>\n",
    "Alternative Hypothesis (H<sub>a</sub>):  There is a significant positive correlation between higher monthly charges and churned customers.\n",
    "\n",
    "Lets use the T-Test to determine whether the difference in mean tenure is statistically significant.\n",
    "\n",
    "T-Test\n",
    "* Confidance interval of 95%\n",
    "* Alpha .05"
   ]
  },
  {
   "cell_type": "code",
   "execution_count": 30,
   "metadata": {},
   "outputs": [
    {
     "name": "stdout",
     "output_type": "stream",
     "text": [
      "One-tailed t-test results:\n",
      "T-statistic: 16.536738015936308\n",
      "P-value: 1.3533228034442077e-60\n",
      "There is a significant relationship between monthly charges and churn.\n"
     ]
    }
   ],
   "source": [
    "# Perform T-Test\n",
    "ttest_monthly_charges(df)"
   ]
  },
  {
   "cell_type": "markdown",
   "metadata": {},
   "source": [
    "<font size=\"5\">We have strong evidence to reject the null hypothesis.</font>\n",
    "\n",
    "P value is near 0. which indicates a highly statistically significant relationship between monthly charges and churn. Incorporating the monthly charges feature in modeling is expected to  have a large positive impact on the accuracy."
   ]
  },
  {
   "cell_type": "markdown",
   "metadata": {},
   "source": [
    "<font size=\"5\">Exploration Summary</font>\n",
    "\n",
    "* A chi-squared test indicated a significant relationship between internet type and churn\n",
    "* A chi-squared test indicated a significant relationship between payment method and churn\n",
    "* A T-Test indicated a significant relationship between tenure and churn\n",
    "* A T-Test indicated a significant relationship between monthly charges and churn\n",
    "\n",
    "<font size=\"5\">Features I am moving to modeling With</font>\n",
    "\n",
    "\n",
    "* Internet Type\n",
    "* Payment Method\n",
    "* Tenure\n",
    "* Monthly Charges\n",
    "\n",
    "<font size=\"5\">Modeling</font>\n",
    "\n",
    "* I will use accuracy as my evaluation metric\n",
    "* Unchurned makeup 73% of the data\n",
    "\n",
    "\n",
    "* by guessing unchurned for every customer one could achieve an accuracy of 73.46% \n",
    "* 73.46% will be the baseline accuracy I use for this project\n",
    "* I will be evaluating models developed using four different model types and various hyperparameter configurations \n",
    "* Models will be evaluated on train and validate data \n",
    "* The model that performs the best will then be evaluated on test data"
   ]
  },
  {
   "cell_type": "code",
   "execution_count": 31,
   "metadata": {},
   "outputs": [],
   "source": [
    "#split data\n",
    "train_X, val_X, test_X, train_y, val_y, test_y = telco_modeling()"
   ]
  },
  {
   "cell_type": "markdown",
   "metadata": {},
   "source": [
    "<font size=\"5\">Decision Tree</font>"
   ]
  },
  {
   "cell_type": "code",
   "execution_count": 32,
   "metadata": {},
   "outputs": [
    {
     "name": "stdout",
     "output_type": "stream",
     "text": [
      "Decision Tree Model Accuracy on Training Data: 0.8032454361054767\n",
      "Decision Tree Model Accuracy on Validation Data: 0.8011363636363636\n"
     ]
    }
   ],
   "source": [
    "# Fit and score decicion tree\n",
    "get_tree(train_X, val_X, train_y, val_y)"
   ]
  },
  {
   "cell_type": "markdown",
   "metadata": {},
   "source": [
    "<font size=\"4\">The Decicion tree model is a slight improvement to baseline</font>"
   ]
  },
  {
   "cell_type": "markdown",
   "metadata": {},
   "source": [
    "<font size=\"5\">Random Forest</font>"
   ]
  },
  {
   "cell_type": "code",
   "execution_count": 33,
   "metadata": {},
   "outputs": [
    {
     "name": "stdout",
     "output_type": "stream",
     "text": [
      "Accuracy of Random Forest on train is 0.8129817444219067\n",
      "Accuracy of Random Forest on validate is 0.8058712121212122\n"
     ]
    }
   ],
   "source": [
    "# Fit and score random forest\n",
    "get_forest(train_X, val_X, train_y, val_y)"
   ]
  },
  {
   "cell_type": "markdown",
   "metadata": {},
   "source": [
    "<font size=\"4\">The Random Forest model is a negligible improvement over the decicion tree model</font>"
   ]
  },
  {
   "cell_type": "markdown",
   "metadata": {},
   "source": [
    "<font size=\"5\">Logistic Regression</font>"
   ]
  },
  {
   "cell_type": "code",
   "execution_count": 34,
   "metadata": {},
   "outputs": [
    {
     "name": "stdout",
     "output_type": "stream",
     "text": [
      "Accuracy of Logistic Regression on train is 0.8016227180527383\n",
      "Accuracy of Logistic Regression on validate is 0.7945075757575758\n"
     ]
    }
   ],
   "source": [
    "# Fit and score logistic regression\n",
    "get_logreg(train_X, val_X, train_y, val_y)"
   ]
  },
  {
   "cell_type": "markdown",
   "metadata": {},
   "source": [
    "<font size=\"4\">The Logistic Regression model is a negligible improvement over baseline and slighly worse than the decicion tree model</font>"
   ]
  },
  {
   "cell_type": "markdown",
   "metadata": {},
   "source": [
    "<font size=\"5\">KNN</font>"
   ]
  },
  {
   "cell_type": "code",
   "execution_count": 35,
   "metadata": {},
   "outputs": [
    {
     "name": "stdout",
     "output_type": "stream",
     "text": [
      "Accuracy of K-Nearest Neighbors on train is 0.8121703853955375\n",
      "Accuracy of K-Nearest Neighbors on validate is 0.803030303030303\n"
     ]
    }
   ],
   "source": [
    "# Fit and score k-Nearest Neighbors\n",
    "get_knn(train_X, val_X, train_y, val_y)"
   ]
  },
  {
   "cell_type": "markdown",
   "metadata": {},
   "source": [
    "<font size=\"4\">The K-Nearest Neighbors model is a negligible improvement over baseline and slighly worse than the decicion tree model</font>"
   ]
  },
  {
   "cell_type": "markdown",
   "metadata": {},
   "source": [
    "<font size=\"5\">Comparing Models</font>\n",
    "\n",
    "* Decision Tree, Random Forest, and Logistic Regression and K-Nearest Neighbors models all performed about 6% above baseline. \n",
    "* Because the results of the Decision Tree, Random Forest, and Logistic Regression and K-Nearest Neighbors models were all very similar I could proceed to test with any of these models.\n",
    "* I have chosen to move forward with the Random Forest model as it had a the most accurate validation score at 80.6%"
   ]
  },
  {
   "cell_type": "markdown",
   "metadata": {},
   "source": [
    "<font size=\"5\">Random Forest on Test Data</font>"
   ]
  },
  {
   "cell_type": "code",
   "execution_count": 36,
   "metadata": {},
   "outputs": [
    {
     "name": "stdout",
     "output_type": "stream",
     "text": [
      "Accuracy of Random Forest on train is 0.8129817444219067\n",
      "Accuracy of Random Forest on validate is 0.7738883632923368\n"
     ]
    }
   ],
   "source": [
    "# Fit and score on test data the best model (random forest)\n",
    "get_forest_test(train_X, test_X, train_y, test_y)"
   ]
  },
  {
   "cell_type": "markdown",
   "metadata": {},
   "source": [
    "<font size=\"5\">Modeling Summary</font>\n",
    "\n",
    "* Decision Tree, Random Forest, and Logistic Regression and K-Nearest Neighbors models all performed about 6% above baseline. \n",
    "* Random forest was selected as the final model and had an accuracy of about 77.4% which is only about 4% above the baseline accuracy\n",
    "\n",
    "<font size=\"5\">Conclusions</font>\n",
    "\n",
    "* Electronic Check has the highest distribution of churned customers at 45%\n",
    "* Fiber Optic internet has the second highest distribution of churned customers at 41%\n",
    "* There is a correlation between Tenure and Churn.\n",
    "* There is a correlation between Monthly Charge and Churn.\n",
    "\n",
    "<font size=\"5\">Modeling</font>\n",
    "\n",
    "The final model failed to significantly outperform the baseline. Possible reasons include:\n",
    "\n",
    "* Not enough features were included in the models\n",
    "\n",
    "<font size=\"5\">Recomendations</font>\n",
    "\n",
    "* Encourage customers to use any payment method other than Electronic Check.\n",
    "* Encourage customers to sign up for a 12 month contract\n",
    "\n",
    "<font size=\"5\">Next Steps</font>\n",
    "\n",
    "* Add more features to improve the models"
   ]
  }
 ],
 "metadata": {
  "kernelspec": {
   "display_name": "base",
   "language": "python",
   "name": "python3"
  },
  "language_info": {
   "codemirror_mode": {
    "name": "ipython",
    "version": 3
   },
   "file_extension": ".py",
   "mimetype": "text/x-python",
   "name": "python",
   "nbconvert_exporter": "python",
   "pygments_lexer": "ipython3",
   "version": "3.10.12"
  },
  "orig_nbformat": 4
 },
 "nbformat": 4,
 "nbformat_minor": 2
}
