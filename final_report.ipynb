{
 "cells": [
  {
   "cell_type": "markdown",
   "metadata": {},
   "source": [
    "<h1 style='background-color: #171738; padding-left: 40px; padding-top: 10px; padding-bottom: 5px; padding-right: 10px; color: #DFF3E4; font-size: 18px; box-sizing: border-box;'>\n",
    "Telco Churn<br><br>\n",
    "Description\n",
    "In the rapidly evolving telecommunications industry, understanding and mitigating customer churn has become a critical business concern. This data science project aims to analyze customer churn patterns using historical data and build predictive models to identify customers at risk of churning. By doing so, this project aims to provide actionable insights to Telco, enabling them to implement targeted retention strategies.<br><br>\n",
    "Goals\n",
    "<ul>\n",
    "<li>Data Collection and Preprocessing: Gather and clean Telco customer data to create a comprehensive dataset suitable for analysis.</li>\n",
    "<li>Exploratory Data Analysis: Perform exploratory analysis to identify trends, patterns, and potential correlations related to customer churn.</li>\n",
    "<li>Feature Importance Determination: Employ machine learning techniques to assess the importance of various features in predicting churn, aiding in identifying critical factors.</li>\n",
    "<li>Model Building and Evaluation: Develop predictive models for customer churn, compare their performance, and select the most effective one for accurate churn prediction.</li>\n"
   ]
  },
  {
   "cell_type": "markdown",
   "metadata": {},
   "source": [
    "<h1 style='background-color: #171738; padding-left: 40px; padding-top: 10px; padding-bottom: 10px; padding-right: 10px; color: #DFF3E4; font-size: 18px; box-sizing: border-box;'>\n",
    "Imports</h1>"
   ]
  },
  {
   "cell_type": "code",
   "execution_count": null,
   "metadata": {},
   "outputs": [],
   "source": [
    "import pandas as pd\n",
    "import numpy as np\n",
    "\n",
    "import matplotlib.pyplot as plt\n",
    "import seaborn as sns\n",
    "import os\n",
    "\n",
    "from sklearn.tree import DecisionTreeClassifier\n",
    "from sklearn.ensemble import RandomForestClassifier\n",
    "from sklearn.neighbors import KNeighborsClassifier\n",
    "from sklearn.preprocessing import MinMaxScaler\n",
    "from sklearn.linear_model import LogisticRegression\n",
    "\n",
    "from sklearn.metrics import classification_report, confusion_matrix"
   ]
  },
  {
   "cell_type": "markdown",
   "metadata": {},
   "source": [
    "<h1 style='background-color: #171738; padding-left: 40px; padding-top: 10px; padding-bottom: 10px; padding-right: 10px; color: #DFF3E4; font-size: 18px; box-sizing: border-box;'>Acquire\n",
    "<br>\n",
    "<ul>\n",
    "<li>Data acquired from Codeup servers.</li>\n",
    "<li>It contained 7,043 rows and 20 columns before cleaning</li>\n",
    "<li>Each row represents a customer of Telco.</li>\n",
    "<li>Each column represents a feature of the customer's account.</li>"
   ]
  },
  {
   "cell_type": "markdown",
   "metadata": {},
   "source": []
  }
 ],
 "metadata": {
  "kernelspec": {
   "display_name": "base",
   "language": "python",
   "name": "python3"
  },
  "language_info": {
   "name": "python",
   "version": "3.10.12"
  },
  "orig_nbformat": 4
 },
 "nbformat": 4,
 "nbformat_minor": 2
}
