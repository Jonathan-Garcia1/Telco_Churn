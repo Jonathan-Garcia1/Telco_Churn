{
 "cells": [
  {
   "cell_type": "markdown",
   "metadata": {},
   "source": [
    "<h1 style='background-color: #171738; padding-left: 40px; padding-top: 10px; padding-bottom: 5px; padding-right: 10px; color: #DFF3E4; font-size: 18px; box-sizing: border-box;'>\n",
    "Telco Churn<br><br>\n",
    "Description\n",
    "In the rapidly evolving telecommunications industry, understanding and mitigating customer churn has become a critical business concern. This data science project aims to analyze customer churn patterns using historical data and build predictive models to identify customers at risk of churning. By doing so, this project aims to provide actionable insights to Telco, enabling them to implement targeted retention strategies.<br><br>\n",
    "Goals\n",
    "<ul>\n",
    "<li>Data Collection and Preprocessing: Gather and clean Telco customer data to create a comprehensive dataset suitable for analysis.</li>\n",
    "<li>Exploratory Data Analysis: Perform exploratory analysis to identify trends, patterns, and potential correlations related to customer churn.</li>\n",
    "<li>Feature Importance Determination: Employ machine learning techniques to assess the importance of various features in predicting churn, aiding in identifying critical factors.</li>\n",
    "<li>Model Building and Evaluation: Develop predictive models for customer churn, compare their performance, and select the most effective one for accurate churn prediction.</li>\n"
   ]
  },
  {
   "cell_type": "markdown",
   "metadata": {},
   "source": [
    "<h1 style='background-color: #171738; padding-left: 40px; padding-top: 10px; padding-bottom: 10px; padding-right: 10px; color: #DFF3E4; font-size: 18px; box-sizing: border-box;'>\n",
    "Imports</h1>"
   ]
  },
  {
   "cell_type": "code",
   "execution_count": null,
   "metadata": {},
   "outputs": [],
   "source": [
    "import pandas as pd\n",
    "import numpy as np\n",
    "\n",
    "import matplotlib.pyplot as plt\n",
    "import seaborn as sns\n",
    "import os\n",
    "\n",
    "from sklearn.tree import DecisionTreeClassifier\n",
    "from sklearn.ensemble import RandomForestClassifier\n",
    "from sklearn.neighbors import KNeighborsClassifier\n",
    "from sklearn.preprocessing import MinMaxScaler\n",
    "from sklearn.linear_model import LogisticRegression\n",
    "\n",
    "from sklearn.metrics import classification_report, confusion_matrix"
   ]
  },
  {
   "cell_type": "markdown",
   "metadata": {},
   "source": [
    "<h1 style='background-color: #171738; padding-left: 40px; padding-top: 10px; padding-bottom: 10px; padding-right: 10px; color: #DFF3E4; font-size: 18px; box-sizing: border-box;'>Acquire\n",
    "<br>\n",
    "<ul>\n",
    "<li>Data acquired from Codeup servers.</li>\n",
    "<li>It contained 7,043 rows and 20 columns before cleaning</li>\n",
    "<li>Each row represents a customer of Telco.</li>\n",
    "<li>Each column represents a feature of the customer's account.</li>"
   ]
  },
  {
   "cell_type": "markdown",
   "metadata": {},
   "source": [
    "<h1 style='background-color: #171738; padding-left: 40px; padding-top: 10px; padding-bottom: 10px; padding-right: 10px; color: #DFF3E4; font-size: 18px; box-sizing: border-box;'>Prepare<br>\n",
    "<br>\n",
    "\n",
    "* Removed unnecessary columns associated with joining table IDs\n",
    "* Checked for nulls in the data\n",
    "    * Replaced new customer's total charges value from blank to 0\n",
    "    * Replaced internet service type nulls with \"No internet service\"\n",
    "* Checked that column data types were appropriate\n",
    "    * Changed data type of total charges from object to float\n",
    "* Encoded categorical variables to binary \"dummy\" variables\n",
    "    * Removed columns that did not contain useful information (duplicate info)\n",
    "* Renamed columns to promote readability\n",
    "* Split data into train, validate and test, stratifying on 'churn'\n",
    "* Outliers have not been removed for this iteration of the project"
   ]
  },
  {
   "cell_type": "markdown",
   "metadata": {},
   "source": [
    "<h1 style='background-color: #171738; padding-left: 40px; padding-top: 10px; padding-bottom: 10px; padding-right: 10px; color: #DFF3E4; font-size: 18px; box-sizing: border-box;'>Dictionary<br><br>\n",
    "\n",
    "| Feature| Description |\n",
    "|:-------|:------------|\n",
    "| Senior Citizen| Whether the customer is a senior citizen (0 for no, 1 for yes)|\n",
    "| Tenure| Number of months the customer has been with the Telco|\n",
    "| Monthly Charges| Monthly charges incurred by the customer|\n",
    "| Total Charges| Total charges incurred by the customer over the entire period|\n",
    "| Male| Gender of the customer (True for male, False for female)|\n",
    "| Partner| Whether the customer has a partner (spouse) (True for yes, False for no)|\n",
    "| Dependents| Whether the customer has dependents (True for yes, False for no)|\n",
    "| Phone Service| Whether the customer has phone service (True for yes, False for no)|\n",
    "| Multiple Lines| Whether the customer has multiple phone lines (True for yes, False for no)|\n",
    "| Online Security| Whether the customer has online security service (True for yes, False for no)|\n",
    "| Online Backup| Whether the customer has online backup service (True for yes, False for no)|\n",
    "| Device Protection| Whether the customer has device protection service (True for yes, False for no)|\n",
    "| Tech Support| Whether the customer has technical support service (True for yes, False for no)|\n",
    "| Streaming TV| Whether the customer has streaming TV service (True for yes, False for no)|\n",
    "| Streaming Movies| Whether the customer has streaming movie service (True for yes, False for no)|\n",
    "| Paperless Billing| Whether the customer has opted for paperless billing (True for yes, False for no)|\n",
    "| Churn| Whether the customer has churned (True for churned, False for not churned)|\n",
    "| Contract Month| Whether the customer is on a month-to-month contract (True for yes, False for no)|\n",
    "| Contract One Year| Whether the customer is on a one-year contract (True for yes, False for no)|\n",
    "| Contract Two Year| Whether the customer is on a two-year contract (True for yes, False for no)|\n",
    "| Internet DSL| Whether the customer uses DSL internet service (True for yes, False for no)|\n",
    "| Internet Fiber Optic| Whether the customer uses fiber optic internet service (True for yes, False for no)|\n",
    "| Payment Bank Transfer| Whether the customer pays through bank transfer (True for yes, False for no)|\n",
    "| Payment Credit Card| Whether the customer pays through credit card (True for yes, False for no)|\n",
    "| Payment Electronic Check| Whether the customer pays through electronic check (True for yes, False for no)|\n",
    "| Payment Mailed Check| Whether the customer pays through mailed check (True for yes, False for no)|"
   ]
  },
  {
   "cell_type": "markdown",
   "metadata": {},
   "source": []
  }
 ],
 "metadata": {
  "kernelspec": {
   "display_name": "base",
   "language": "python",
   "name": "python3"
  },
  "language_info": {
   "name": "python",
   "version": "3.10.12"
  },
  "orig_nbformat": 4
 },
 "nbformat": 4,
 "nbformat_minor": 2
}
