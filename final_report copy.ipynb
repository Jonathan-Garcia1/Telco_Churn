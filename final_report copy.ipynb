{
 "cells": [
  {
   "cell_type": "markdown",
   "metadata": {},
   "source": [
    "<div style='background-color: #171738; padding-left: 40px; padding-top: 10px; padding-bottom: 5px; padding-right: 10px; color: #DFF3E4; font-size: 18px; box-sizing: border-box;'>\n",
    "\n",
    "<font size=\"5\"> Telco Churn </font> <br><br>\n",
    "Description\n",
    "In the rapidly evolving telecommunications industry, understanding and mitigating customer churn has become a critical business concern. This data science project aims to analyze customer churn patterns using historical data and build predictive models to identify customers at risk of churning. By doing so, this project aims to provide actionable insights to Telco, enabling them to implement targeted retention strategies.<br><br>\n",
    "<font size=\"5\"> Goals </font>\n",
    "<ul>\n",
    "<li>Data Collection and Preprocessing: Gather and clean Telco customer data to create a comprehensive dataset suitable for analysis.</li>\n",
    "<li>Exploratory Data Analysis: Perform exploratory analysis to identify trends, patterns, and potential correlations related to customer churn.</li>\n",
    "<li>Feature Importance Determination: Employ machine learning techniques to assess the importance of various features in predicting churn, aiding in identifying critical factors.</li>\n",
    "<li>Model Building and Evaluation: Develop predictive models for customer churn, compare their performance, and select the most effective one for accurate churn prediction.</li>\n",
    "</ul>\n",
    "</div>"
   ]
  },
  {
   "cell_type": "markdown",
   "metadata": {},
   "source": [
    "<div style='background-color: #171738; padding-left: 40px; padding-top: 10px; padding-bottom: 5px; padding-right: 10px; color: #DFF3E4; font-size: 18px; box-sizing: border-box;'><font size=\"5\"> Imports </font></div>"
   ]
  },
  {
   "cell_type": "markdown",
   "metadata": {},
   "source": [
    "<div style='background-color: #171738; padding-left: 40px; padding-top: 10px; padding-bottom: 10px; padding-right: 10px; color: #DFF3E4; font-size: 18px; box-sizing: border-box;'><font size=\"5\">Acquire</font>\n",
    "<br>\n",
    "<ul>\n",
    "<li>Data acquired from Codeup servers.</li>\n",
    "<li>It contained 7,043 rows and 20 columns before cleaning</li>\n",
    "<li>Each row represents a customer of Telco.</li>\n",
    "<li>Each column represents a feature of the customer's account.</li>\n",
    "</ul>\n",
    "<br>\n",
    "<font size=\"5\">Prepare</font> <br>\n",
    "<br>\n",
    "\n",
    "* Removed unnecessary columns associated with joining table IDs\n",
    "* Checked for nulls in the data\n",
    "    * Replaced new customer's total charges value from blank to 0\n",
    "    * Replaced internet service type nulls with \"No internet service\"\n",
    "* Checked that column data types were appropriate\n",
    "    * Changed data type of total charges from object to float\n",
    "* Encoded categorical variables to binary \"dummy\" variables\n",
    "    * Removed columns that did not contain useful information (duplicate info)\n",
    "* Renamed columns to promote readability\n",
    "* Split data into train, validate and test, stratifying on 'churn'\n",
    "* Outliers have not been removed for this iteration of the project\n",
    "\n",
    "\n",
    "<br>\n",
    "<font size=\"5\">Dictionary</font><br>\n",
    "<br>\n",
    "</div>"
   ]
  },
  {
   "cell_type": "markdown",
   "metadata": {},
   "source": [
    "<div style='background-color: #171738; padding-left: 40px; padding-top: 10px; padding-bottom: 5px; padding-right: 10px; color: #DFF3E4; font-size: 18px; box-sizing: border-box;'><font size=\"5\">A brief look at the data</font></div>"
   ]
  },
  {
   "cell_type": "markdown",
   "metadata": {},
   "source": [
    "<div style='background-color: #171738; padding-left: 40px; padding-top: 10px; padding-bottom: 10px; padding-right: 10px; color: #DFF3E4; font-size: 24px; box-sizing: border-box;'><font size=\"5\">A summery of the data</font> </div>"
   ]
  },
  {
   "cell_type": "markdown",
   "metadata": {},
   "source": [
    "<div style='background-color: #171738; padding-left: 40px; padding-top: 10px; padding-bottom: 10px; padding-right: 10px; color: #DFF3E4; font-size: 24px; box-sizing: border-box;'>Explore</div>"
   ]
  },
  {
   "cell_type": "markdown",
   "metadata": {},
   "source": [
    "<div style='background-color: #171738; padding-left: 40px; padding-top: 10px; padding-bottom: 10px; padding-right: 10px; color: #DFF3E4; font-size: 18px; box-sizing: border-box;'>36% of our customers have churned."
   ]
  }
 ],
 "metadata": {
  "kernelspec": {
   "display_name": "base",
   "language": "python",
   "name": "python3"
  },
  "language_info": {
   "codemirror_mode": {
    "name": "ipython",
    "version": 3
   },
   "file_extension": ".py",
   "mimetype": "text/x-python",
   "name": "python",
   "nbconvert_exporter": "python",
   "pygments_lexer": "ipython3",
   "version": "3.10.12"
  },
  "orig_nbformat": 4
 },
 "nbformat": 4,
 "nbformat_minor": 2
}
