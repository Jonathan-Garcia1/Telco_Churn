{
 "cells": [
  {
   "cell_type": "code",
   "execution_count": 1,
   "metadata": {},
   "outputs": [],
   "source": [
    "import sklearn.preprocessing\n",
    "from sklearn.tree import DecisionTreeClassifier\n",
    "from sklearn.ensemble import RandomForestClassifier\n",
    "from sklearn.neighbors import KNeighborsClassifier\n",
    "from sklearn.linear_model import LogisticRegression\n",
    "from sklearn.metrics import accuracy_score, classification_report\n",
    "\n",
    "import pandas as pd\n",
    "import numpy as np\n",
    "import matplotlib.pyplot as plt\n",
    "import seaborn as sns\n",
    "\n",
    "from sklearn.preprocessing import MinMaxScaler\n",
    "\n",
    "import pandas as pd\n",
    "from prepare import telco_pipeline, telco_prep, telco_modeling, telco_modelingv2\n",
    "from model import get_tree, get_forest, get_logreg, get_knn, get_forest_test\n"
   ]
  },
  {
   "cell_type": "code",
   "execution_count": 2,
   "metadata": {},
   "outputs": [],
   "source": [
    "train_X, val_X, test_X, train_y, val_y, test_y = telco_modelingv2()"
   ]
  },
  {
   "cell_type": "code",
   "execution_count": 8,
   "metadata": {},
   "outputs": [
    {
     "data": {
      "text/html": [
       "<div>\n",
       "<style scoped>\n",
       "    .dataframe tbody tr th:only-of-type {\n",
       "        vertical-align: middle;\n",
       "    }\n",
       "\n",
       "    .dataframe tbody tr th {\n",
       "        vertical-align: top;\n",
       "    }\n",
       "\n",
       "    .dataframe thead th {\n",
       "        text-align: right;\n",
       "    }\n",
       "</style>\n",
       "<table border=\"1\" class=\"dataframe\">\n",
       "  <thead>\n",
       "    <tr style=\"text-align: right;\">\n",
       "      <th></th>\n",
       "      <th>tenure</th>\n",
       "      <th>monthly_charges</th>\n",
       "      <th>gender</th>\n",
       "      <th>senior_citizen</th>\n",
       "      <th>partner</th>\n",
       "      <th>dependents</th>\n",
       "      <th>phone_service</th>\n",
       "      <th>multiple_lines</th>\n",
       "      <th>internet_service</th>\n",
       "      <th>internet_dsl</th>\n",
       "      <th>...</th>\n",
       "      <th>contract</th>\n",
       "      <th>contract_type_one_year</th>\n",
       "      <th>contract_type_two_year</th>\n",
       "      <th>payment_method_bank_transfer</th>\n",
       "      <th>payment_method_credit_card</th>\n",
       "      <th>payment_method_electronic_check</th>\n",
       "      <th>payment_method_mailed_check</th>\n",
       "      <th>payment_type_automatic</th>\n",
       "      <th>payment_type_manual</th>\n",
       "      <th>paperless_billing</th>\n",
       "    </tr>\n",
       "  </thead>\n",
       "  <tbody>\n",
       "    <tr>\n",
       "      <th>0</th>\n",
       "      <td>14</td>\n",
       "      <td>76.45</td>\n",
       "      <td>True</td>\n",
       "      <td>False</td>\n",
       "      <td>False</td>\n",
       "      <td>False</td>\n",
       "      <td>True</td>\n",
       "      <td>False</td>\n",
       "      <td>True</td>\n",
       "      <td>False</td>\n",
       "      <td>...</td>\n",
       "      <td>False</td>\n",
       "      <td>False</td>\n",
       "      <td>False</td>\n",
       "      <td>False</td>\n",
       "      <td>False</td>\n",
       "      <td>True</td>\n",
       "      <td>False</td>\n",
       "      <td>False</td>\n",
       "      <td>True</td>\n",
       "      <td>False</td>\n",
       "    </tr>\n",
       "    <tr>\n",
       "      <th>1</th>\n",
       "      <td>5</td>\n",
       "      <td>70.00</td>\n",
       "      <td>True</td>\n",
       "      <td>False</td>\n",
       "      <td>False</td>\n",
       "      <td>False</td>\n",
       "      <td>True</td>\n",
       "      <td>False</td>\n",
       "      <td>True</td>\n",
       "      <td>True</td>\n",
       "      <td>...</td>\n",
       "      <td>True</td>\n",
       "      <td>True</td>\n",
       "      <td>False</td>\n",
       "      <td>False</td>\n",
       "      <td>False</td>\n",
       "      <td>False</td>\n",
       "      <td>True</td>\n",
       "      <td>False</td>\n",
       "      <td>True</td>\n",
       "      <td>True</td>\n",
       "    </tr>\n",
       "    <tr>\n",
       "      <th>2</th>\n",
       "      <td>35</td>\n",
       "      <td>75.20</td>\n",
       "      <td>True</td>\n",
       "      <td>False</td>\n",
       "      <td>True</td>\n",
       "      <td>False</td>\n",
       "      <td>True</td>\n",
       "      <td>True</td>\n",
       "      <td>True</td>\n",
       "      <td>False</td>\n",
       "      <td>...</td>\n",
       "      <td>False</td>\n",
       "      <td>False</td>\n",
       "      <td>False</td>\n",
       "      <td>False</td>\n",
       "      <td>False</td>\n",
       "      <td>True</td>\n",
       "      <td>False</td>\n",
       "      <td>False</td>\n",
       "      <td>True</td>\n",
       "      <td>True</td>\n",
       "    </tr>\n",
       "    <tr>\n",
       "      <th>3</th>\n",
       "      <td>58</td>\n",
       "      <td>86.10</td>\n",
       "      <td>True</td>\n",
       "      <td>False</td>\n",
       "      <td>True</td>\n",
       "      <td>False</td>\n",
       "      <td>True</td>\n",
       "      <td>True</td>\n",
       "      <td>True</td>\n",
       "      <td>True</td>\n",
       "      <td>...</td>\n",
       "      <td>True</td>\n",
       "      <td>False</td>\n",
       "      <td>True</td>\n",
       "      <td>False</td>\n",
       "      <td>False</td>\n",
       "      <td>True</td>\n",
       "      <td>False</td>\n",
       "      <td>False</td>\n",
       "      <td>True</td>\n",
       "      <td>True</td>\n",
       "    </tr>\n",
       "    <tr>\n",
       "      <th>4</th>\n",
       "      <td>2</td>\n",
       "      <td>49.60</td>\n",
       "      <td>False</td>\n",
       "      <td>False</td>\n",
       "      <td>False</td>\n",
       "      <td>False</td>\n",
       "      <td>True</td>\n",
       "      <td>False</td>\n",
       "      <td>True</td>\n",
       "      <td>True</td>\n",
       "      <td>...</td>\n",
       "      <td>False</td>\n",
       "      <td>False</td>\n",
       "      <td>False</td>\n",
       "      <td>False</td>\n",
       "      <td>False</td>\n",
       "      <td>False</td>\n",
       "      <td>True</td>\n",
       "      <td>False</td>\n",
       "      <td>True</td>\n",
       "      <td>True</td>\n",
       "    </tr>\n",
       "  </tbody>\n",
       "</table>\n",
       "<p>5 rows × 23 columns</p>\n",
       "</div>"
      ],
      "text/plain": [
       "   tenure  monthly_charges  gender  senior_citizen  partner  dependents  \\\n",
       "0      14            76.45    True           False    False       False   \n",
       "1       5            70.00    True           False    False       False   \n",
       "2      35            75.20    True           False     True       False   \n",
       "3      58            86.10    True           False     True       False   \n",
       "4       2            49.60   False           False    False       False   \n",
       "\n",
       "   phone_service  multiple_lines  internet_service  internet_dsl  ...  \\\n",
       "0           True           False              True         False  ...   \n",
       "1           True           False              True          True  ...   \n",
       "2           True            True              True         False  ...   \n",
       "3           True            True              True          True  ...   \n",
       "4           True           False              True          True  ...   \n",
       "\n",
       "   contract  contract_type_one_year  contract_type_two_year  \\\n",
       "0     False                   False                   False   \n",
       "1      True                    True                   False   \n",
       "2     False                   False                   False   \n",
       "3      True                   False                    True   \n",
       "4     False                   False                   False   \n",
       "\n",
       "   payment_method_bank_transfer  payment_method_credit_card  \\\n",
       "0                         False                       False   \n",
       "1                         False                       False   \n",
       "2                         False                       False   \n",
       "3                         False                       False   \n",
       "4                         False                       False   \n",
       "\n",
       "   payment_method_electronic_check  payment_method_mailed_check  \\\n",
       "0                             True                        False   \n",
       "1                            False                         True   \n",
       "2                             True                        False   \n",
       "3                             True                        False   \n",
       "4                            False                         True   \n",
       "\n",
       "   payment_type_automatic  payment_type_manual  paperless_billing  \n",
       "0                   False                 True              False  \n",
       "1                   False                 True               True  \n",
       "2                   False                 True               True  \n",
       "3                   False                 True               True  \n",
       "4                   False                 True               True  \n",
       "\n",
       "[5 rows x 23 columns]"
      ]
     },
     "execution_count": 8,
     "metadata": {},
     "output_type": "execute_result"
    }
   ],
   "source": [
    "train_X.head()"
   ]
  },
  {
   "cell_type": "code",
   "execution_count": 4,
   "metadata": {},
   "outputs": [
    {
     "name": "stdout",
     "output_type": "stream",
     "text": [
      "Decision Tree Model Accuracy on Training Data: 0.8006085192697768\n",
      "Decision Tree Model Accuracy on Validation Data: 0.8058712121212122\n"
     ]
    }
   ],
   "source": [
    "get_tree(train_X, val_X, train_y, val_y)"
   ]
  },
  {
   "cell_type": "code",
   "execution_count": 5,
   "metadata": {},
   "outputs": [
    {
     "data": {
      "text/html": [
       "<div>\n",
       "<style scoped>\n",
       "    .dataframe tbody tr th:only-of-type {\n",
       "        vertical-align: middle;\n",
       "    }\n",
       "\n",
       "    .dataframe tbody tr th {\n",
       "        vertical-align: top;\n",
       "    }\n",
       "\n",
       "    .dataframe thead th {\n",
       "        text-align: right;\n",
       "    }\n",
       "</style>\n",
       "<table border=\"1\" class=\"dataframe\">\n",
       "  <thead>\n",
       "    <tr style=\"text-align: right;\">\n",
       "      <th></th>\n",
       "      <th>max_depth</th>\n",
       "      <th>train_acc</th>\n",
       "      <th>val_acc</th>\n",
       "    </tr>\n",
       "  </thead>\n",
       "  <tbody>\n",
       "    <tr>\n",
       "      <th>0</th>\n",
       "      <td>1</td>\n",
       "      <td>0.734686</td>\n",
       "      <td>0.734848</td>\n",
       "    </tr>\n",
       "    <tr>\n",
       "      <th>1</th>\n",
       "      <td>2</td>\n",
       "      <td>0.762475</td>\n",
       "      <td>0.773674</td>\n",
       "    </tr>\n",
       "    <tr>\n",
       "      <th>2</th>\n",
       "      <td>3</td>\n",
       "      <td>0.792292</td>\n",
       "      <td>0.796402</td>\n",
       "    </tr>\n",
       "    <tr>\n",
       "      <th>3</th>\n",
       "      <td>4</td>\n",
       "      <td>0.794929</td>\n",
       "      <td>0.800189</td>\n",
       "    </tr>\n",
       "  </tbody>\n",
       "</table>\n",
       "</div>"
      ],
      "text/plain": [
       "   max_depth  train_acc   val_acc\n",
       "0          1   0.734686  0.734848\n",
       "1          2   0.762475  0.773674\n",
       "2          3   0.792292  0.796402\n",
       "3          4   0.794929  0.800189"
      ]
     },
     "execution_count": 5,
     "metadata": {},
     "output_type": "execute_result"
    }
   ],
   "source": [
    "#Loop to \n",
    "seed = 42\n",
    "train_acc = []\n",
    "val_acc = []\n",
    "depth = []\n",
    "\n",
    "for i in range(1, 5):\n",
    "    \n",
    "    clf = DecisionTreeClassifier(max_depth = i, random_state = seed)\n",
    "    \n",
    "    clf.fit(train_X, train_y)\n",
    "    \n",
    "    depth.append(i)\n",
    "    \n",
    "    train_acc.append(clf.score(train_X, train_y))\n",
    "    \n",
    "    val_acc.append(clf.score(val_X, val_y))\n",
    "    \n",
    "trees = pd.DataFrame({'max_depth': depth,\n",
    "                      'train_acc': train_acc,\n",
    "                      'val_acc': val_acc})\n",
    "\n",
    "trees"
   ]
  },
  {
   "cell_type": "code",
   "execution_count": 9,
   "metadata": {},
   "outputs": [
    {
     "data": {
      "text/html": [
       "<div>\n",
       "<style scoped>\n",
       "    .dataframe tbody tr th:only-of-type {\n",
       "        vertical-align: middle;\n",
       "    }\n",
       "\n",
       "    .dataframe tbody tr th {\n",
       "        vertical-align: top;\n",
       "    }\n",
       "\n",
       "    .dataframe thead th {\n",
       "        text-align: right;\n",
       "    }\n",
       "</style>\n",
       "<table border=\"1\" class=\"dataframe\">\n",
       "  <thead>\n",
       "    <tr style=\"text-align: right;\">\n",
       "      <th></th>\n",
       "      <th>tenure</th>\n",
       "      <th>monthly_charges</th>\n",
       "      <th>gender</th>\n",
       "      <th>senior_citizen</th>\n",
       "      <th>partner</th>\n",
       "      <th>dependents</th>\n",
       "      <th>phone_service</th>\n",
       "      <th>multiple_lines</th>\n",
       "      <th>internet_service</th>\n",
       "      <th>internet_dsl</th>\n",
       "      <th>...</th>\n",
       "      <th>contract</th>\n",
       "      <th>contract_type_one_year</th>\n",
       "      <th>contract_type_two_year</th>\n",
       "      <th>payment_method_bank_transfer</th>\n",
       "      <th>payment_method_credit_card</th>\n",
       "      <th>payment_method_electronic_check</th>\n",
       "      <th>payment_method_mailed_check</th>\n",
       "      <th>payment_type_automatic</th>\n",
       "      <th>payment_type_manual</th>\n",
       "      <th>paperless_billing</th>\n",
       "    </tr>\n",
       "  </thead>\n",
       "  <tbody>\n",
       "    <tr>\n",
       "      <th>0</th>\n",
       "      <td>5</td>\n",
       "      <td>104.10</td>\n",
       "      <td>True</td>\n",
       "      <td>False</td>\n",
       "      <td>False</td>\n",
       "      <td>False</td>\n",
       "      <td>True</td>\n",
       "      <td>True</td>\n",
       "      <td>True</td>\n",
       "      <td>False</td>\n",
       "      <td>...</td>\n",
       "      <td>False</td>\n",
       "      <td>False</td>\n",
       "      <td>False</td>\n",
       "      <td>False</td>\n",
       "      <td>False</td>\n",
       "      <td>False</td>\n",
       "      <td>True</td>\n",
       "      <td>False</td>\n",
       "      <td>True</td>\n",
       "      <td>False</td>\n",
       "    </tr>\n",
       "    <tr>\n",
       "      <th>1</th>\n",
       "      <td>38</td>\n",
       "      <td>20.05</td>\n",
       "      <td>False</td>\n",
       "      <td>False</td>\n",
       "      <td>False</td>\n",
       "      <td>False</td>\n",
       "      <td>True</td>\n",
       "      <td>False</td>\n",
       "      <td>False</td>\n",
       "      <td>False</td>\n",
       "      <td>...</td>\n",
       "      <td>True</td>\n",
       "      <td>True</td>\n",
       "      <td>False</td>\n",
       "      <td>False</td>\n",
       "      <td>False</td>\n",
       "      <td>False</td>\n",
       "      <td>True</td>\n",
       "      <td>False</td>\n",
       "      <td>True</td>\n",
       "      <td>False</td>\n",
       "    </tr>\n",
       "    <tr>\n",
       "      <th>2</th>\n",
       "      <td>4</td>\n",
       "      <td>48.25</td>\n",
       "      <td>False</td>\n",
       "      <td>False</td>\n",
       "      <td>False</td>\n",
       "      <td>False</td>\n",
       "      <td>False</td>\n",
       "      <td>False</td>\n",
       "      <td>True</td>\n",
       "      <td>True</td>\n",
       "      <td>...</td>\n",
       "      <td>False</td>\n",
       "      <td>False</td>\n",
       "      <td>False</td>\n",
       "      <td>False</td>\n",
       "      <td>False</td>\n",
       "      <td>False</td>\n",
       "      <td>True</td>\n",
       "      <td>False</td>\n",
       "      <td>True</td>\n",
       "      <td>False</td>\n",
       "    </tr>\n",
       "    <tr>\n",
       "      <th>3</th>\n",
       "      <td>21</td>\n",
       "      <td>64.85</td>\n",
       "      <td>False</td>\n",
       "      <td>False</td>\n",
       "      <td>False</td>\n",
       "      <td>True</td>\n",
       "      <td>True</td>\n",
       "      <td>False</td>\n",
       "      <td>True</td>\n",
       "      <td>True</td>\n",
       "      <td>...</td>\n",
       "      <td>True</td>\n",
       "      <td>True</td>\n",
       "      <td>False</td>\n",
       "      <td>False</td>\n",
       "      <td>False</td>\n",
       "      <td>False</td>\n",
       "      <td>True</td>\n",
       "      <td>False</td>\n",
       "      <td>True</td>\n",
       "      <td>False</td>\n",
       "    </tr>\n",
       "    <tr>\n",
       "      <th>4</th>\n",
       "      <td>36</td>\n",
       "      <td>40.65</td>\n",
       "      <td>False</td>\n",
       "      <td>False</td>\n",
       "      <td>True</td>\n",
       "      <td>True</td>\n",
       "      <td>False</td>\n",
       "      <td>False</td>\n",
       "      <td>True</td>\n",
       "      <td>True</td>\n",
       "      <td>...</td>\n",
       "      <td>True</td>\n",
       "      <td>False</td>\n",
       "      <td>True</td>\n",
       "      <td>False</td>\n",
       "      <td>True</td>\n",
       "      <td>False</td>\n",
       "      <td>False</td>\n",
       "      <td>True</td>\n",
       "      <td>False</td>\n",
       "      <td>False</td>\n",
       "    </tr>\n",
       "  </tbody>\n",
       "</table>\n",
       "<p>5 rows × 23 columns</p>\n",
       "</div>"
      ],
      "text/plain": [
       "   tenure  monthly_charges  gender  senior_citizen  partner  dependents  \\\n",
       "0       5           104.10    True           False    False       False   \n",
       "1      38            20.05   False           False    False       False   \n",
       "2       4            48.25   False           False    False       False   \n",
       "3      21            64.85   False           False    False        True   \n",
       "4      36            40.65   False           False     True        True   \n",
       "\n",
       "   phone_service  multiple_lines  internet_service  internet_dsl  ...  \\\n",
       "0           True            True              True         False  ...   \n",
       "1           True           False             False         False  ...   \n",
       "2          False           False              True          True  ...   \n",
       "3           True           False              True          True  ...   \n",
       "4          False           False              True          True  ...   \n",
       "\n",
       "   contract  contract_type_one_year  contract_type_two_year  \\\n",
       "0     False                   False                   False   \n",
       "1      True                    True                   False   \n",
       "2     False                   False                   False   \n",
       "3      True                    True                   False   \n",
       "4      True                   False                    True   \n",
       "\n",
       "   payment_method_bank_transfer  payment_method_credit_card  \\\n",
       "0                         False                       False   \n",
       "1                         False                       False   \n",
       "2                         False                       False   \n",
       "3                         False                       False   \n",
       "4                         False                        True   \n",
       "\n",
       "   payment_method_electronic_check  payment_method_mailed_check  \\\n",
       "0                            False                         True   \n",
       "1                            False                         True   \n",
       "2                            False                         True   \n",
       "3                            False                         True   \n",
       "4                            False                        False   \n",
       "\n",
       "   payment_type_automatic  payment_type_manual  paperless_billing  \n",
       "0                   False                 True              False  \n",
       "1                   False                 True              False  \n",
       "2                   False                 True              False  \n",
       "3                   False                 True              False  \n",
       "4                    True                False              False  \n",
       "\n",
       "[5 rows x 23 columns]"
      ]
     },
     "execution_count": 9,
     "metadata": {},
     "output_type": "execute_result"
    }
   ],
   "source": [
    "test_X.head()"
   ]
  },
  {
   "cell_type": "code",
   "execution_count": 11,
   "metadata": {},
   "outputs": [
    {
     "data": {
      "text/plain": [
       "1628     True\n",
       "3829    False\n",
       "833     False\n",
       "2956    False\n",
       "5446    False\n",
       "Name: churn, dtype: bool"
      ]
     },
     "execution_count": 11,
     "metadata": {},
     "output_type": "execute_result"
    }
   ],
   "source": [
    "test_y.head()"
   ]
  },
  {
   "cell_type": "code",
   "execution_count": 13,
   "metadata": {},
   "outputs": [],
   "source": [
    "import pandas as pd\n",
    "from sklearn.ensemble import RandomForestClassifier\n",
    "\n",
    "def get_forest_test(train_X, test_X, train_y, test_y):\n",
    "    '''get random forest accuracy on train and validate data'''\n",
    "    \n",
    "    # create model object and fit it to training data\n",
    "    rf = RandomForestClassifier(max_depth=7, min_samples_leaf=10, random_state=42)\n",
    "    rf.fit(train_X, train_y)\n",
    "\n",
    "    # Predict churn labels and probabilities on test data\n",
    "    y_pred = rf.predict(test_X)\n",
    "    y_proba = rf.predict_proba(test_X)[:, 1]  # Probabilities of churn\n",
    "\n",
    "    # Extract customer IDs from the index of test_X\n",
    "    customer_ids = test_X.index\n",
    "\n",
    "    # Create DataFrame\n",
    "    result_df = pd.DataFrame({\n",
    "        'customer_id': customer_ids,\n",
    "        'probability_of_churn': y_proba,\n",
    "        'prediction_of_churn': y_pred\n",
    "    })\n",
    "\n",
    "    # Convert boolean predictions to 0 and 1\n",
    "    result_df['prediction_of_churn'] = result_df['prediction_of_churn'].astype(int)\n",
    "\n",
    "    # Write DataFrame to CSV\n",
    "    result_df.to_csv('churn_predictions.csv', index=False)\n",
    "\n",
    "# Assuming train_X, test_X, train_y, and test_y are available\n",
    "get_forest_test(train_X, test_X, train_y, test_y)\n"
   ]
  },
  {
   "cell_type": "code",
   "execution_count": 12,
   "metadata": {},
   "outputs": [
    {
     "data": {
      "text/plain": [
       "((4930, 23), (1056, 23), (1057, 23), (4930,), (1056,), (1057,))"
      ]
     },
     "execution_count": 12,
     "metadata": {},
     "output_type": "execute_result"
    }
   ],
   "source": [
    "train_X.shape, val_X.shape, test_X.shape, train_y.shape, val_y.shape, test_y.shape"
   ]
  },
  {
   "cell_type": "code",
   "execution_count": null,
   "metadata": {},
   "outputs": [],
   "source": [
    "#Test a combination of depths and min leaf settings. \n",
    "seed = 42\n",
    "train_acc = []\n",
    "val_acc = []\n",
    "depth = []\n",
    "leaf = []\n",
    "\n",
    "# Extract the target column as a Series\n",
    "train_y_array = train_y\n",
    "val_y_array = val_y\n",
    "\n",
    "for max_depth in range(10, 0, -1):  # Decreasing depth from 10 to 1\n",
    "    for min_samples_leaf in range(1, 10):  # Increasing min_samples_leaf from 1 to 5\n",
    "        rf = RandomForestClassifier(max_depth=max_depth, min_samples_leaf=min_samples_leaf, random_state=seed)\n",
    "        rf.fit(train_X, train_y)\n",
    "        \n",
    "        depth.append(max_depth)\n",
    "        leaf.append(min_samples_leaf)\n",
    "        \n",
    "        train_acc.append(rf.score(train_X, train_y))\n",
    "        val_acc.append(rf.score(val_X, val_y))"
   ]
  },
  {
   "cell_type": "code",
   "execution_count": null,
   "metadata": {},
   "outputs": [
    {
     "data": {
      "text/html": [
       "<div>\n",
       "<style scoped>\n",
       "    .dataframe tbody tr th:only-of-type {\n",
       "        vertical-align: middle;\n",
       "    }\n",
       "\n",
       "    .dataframe tbody tr th {\n",
       "        vertical-align: top;\n",
       "    }\n",
       "\n",
       "    .dataframe thead th {\n",
       "        text-align: right;\n",
       "    }\n",
       "</style>\n",
       "<table border=\"1\" class=\"dataframe\">\n",
       "  <thead>\n",
       "    <tr style=\"text-align: right;\">\n",
       "      <th></th>\n",
       "      <th>depth</th>\n",
       "      <th>train_acc</th>\n",
       "      <th>val_acc</th>\n",
       "      <th>leaf</th>\n",
       "    </tr>\n",
       "  </thead>\n",
       "  <tbody>\n",
       "    <tr>\n",
       "      <th>8</th>\n",
       "      <td>10</td>\n",
       "      <td>0.822921</td>\n",
       "      <td>0.813447</td>\n",
       "      <td>9</td>\n",
       "    </tr>\n",
       "    <tr>\n",
       "      <th>35</th>\n",
       "      <td>7</td>\n",
       "      <td>0.816430</td>\n",
       "      <td>0.811553</td>\n",
       "      <td>9</td>\n",
       "    </tr>\n",
       "    <tr>\n",
       "      <th>37</th>\n",
       "      <td>6</td>\n",
       "      <td>0.810751</td>\n",
       "      <td>0.810606</td>\n",
       "      <td>2</td>\n",
       "    </tr>\n",
       "    <tr>\n",
       "      <th>38</th>\n",
       "      <td>6</td>\n",
       "      <td>0.810345</td>\n",
       "      <td>0.810606</td>\n",
       "      <td>3</td>\n",
       "    </tr>\n",
       "    <tr>\n",
       "      <th>22</th>\n",
       "      <td>8</td>\n",
       "      <td>0.822718</td>\n",
       "      <td>0.809659</td>\n",
       "      <td>5</td>\n",
       "    </tr>\n",
       "  </tbody>\n",
       "</table>\n",
       "</div>"
      ],
      "text/plain": [
       "    depth  train_acc   val_acc  leaf\n",
       "8      10   0.822921  0.813447     9\n",
       "35      7   0.816430  0.811553     9\n",
       "37      6   0.810751  0.810606     2\n",
       "38      6   0.810345  0.810606     3\n",
       "22      8   0.822718  0.809659     5"
      ]
     },
     "execution_count": 9,
     "metadata": {},
     "output_type": "execute_result"
    }
   ],
   "source": [
    "#Print the results\n",
    "trees = pd.DataFrame({'depth': depth,\n",
    "                      'train_acc': train_acc,\n",
    "                      'val_acc': val_acc,\n",
    "                      'leaf': leaf})\n",
    "\n",
    "trees.sort_values(by=['val_acc', 'train_acc', 'depth', 'leaf'], ascending=[False, False, True, True]).head()"
   ]
  },
  {
   "cell_type": "code",
   "execution_count": 25,
   "metadata": {},
   "outputs": [],
   "source": [
    "def get_forest_test(train_X, test_X, train_y, test_y):\n",
    "    '''get random forest accuracy on train and validate data'''\n",
    "\n",
    "    # create model object and fit it to training data\n",
    "    rf = RandomForestClassifier(max_depth=10, min_samples_leaf= 9, random_state=42)\n",
    "    rf.fit(train_X,train_y)\n",
    "\n",
    "    # print result\n",
    "    print(f\"Accuracy of Random Forest on train is {rf.score(train_X, train_y)}\")\n",
    "    print(f\"Accuracy of Random Forest on validate is {rf.score(test_X, test_y)}\")"
   ]
  },
  {
   "cell_type": "code",
   "execution_count": 24,
   "metadata": {},
   "outputs": [
    {
     "name": "stdout",
     "output_type": "stream",
     "text": [
      "Accuracy of Random Forest on train is 0.8115618661257606\n",
      "Accuracy of Random Forest on validate is 0.78240302743614\n"
     ]
    }
   ],
   "source": [
    "get_forest_test(train_X, test_X, train_y, test_y)"
   ]
  },
  {
   "cell_type": "code",
   "execution_count": null,
   "metadata": {},
   "outputs": [
    {
     "name": "stdout",
     "output_type": "stream",
     "text": [
      "C = 0.001, Train Score = 0.7933, Validation Score = 0.7983\n",
      "C = 0.010, Train Score = 0.8004, Validation Score = 0.7973\n",
      "C = 0.100, Train Score = 0.8041, Validation Score = 0.8002\n",
      "C = 1.000, Train Score = 0.8049, Validation Score = 0.8011\n",
      "C = 10.000, Train Score = 0.8049, Validation Score = 0.8011\n",
      "C = 100.000, Train Score = 0.8049, Validation Score = 0.8011\n",
      "\n",
      "Best C = 1.000, Best Train Score = 0.8049, Best Validation Score = 0.8011\n"
     ]
    }
   ],
   "source": [
    "\n",
    "seed = 42\n",
    "\n",
    "best_score = 0\n",
    "best_C = 0\n",
    "best_train_score = 0\n",
    "\n",
    "for C in [0.001, 0.01, 0.1, 1, 10, 100]:\n",
    "    logreg = LogisticRegression(random_state=seed, C=C, max_iter=1000)\n",
    "    logreg.fit(train_X, train_y)\n",
    "    \n",
    "    train_score = logreg.score(train_X, train_y)\n",
    "    val_score = logreg.score(val_X, val_y)\n",
    "    \n",
    "    print(f\"C = {C:.3f}, Train Score = {train_score:.4f}, Validation Score = {val_score:.4f}\")\n",
    "    \n",
    "    if val_score > best_score:\n",
    "        best_score = val_score\n",
    "        best_C = C\n",
    "        best_train_score = train_score\n",
    "\n",
    "print(f\"\\nBest C = {best_C:.3f}, Best Train Score = {best_train_score:.4f}, Best Validation Score = {best_score:.4f}\")"
   ]
  },
  {
   "cell_type": "code",
   "execution_count": null,
   "metadata": {},
   "outputs": [
    {
     "name": "stdout",
     "output_type": "stream",
     "text": [
      "Error: Solver newton-cg supports only 'l2' or 'none' penalties, got l1 penalty.\n",
      "Error: Solver newton-cg supports only 'l2' or 'none' penalties, got l1 penalty.\n",
      "Error: Solver newton-cg supports only 'l2' or 'none' penalties, got l1 penalty.\n",
      "Error: Solver newton-cg supports only 'l2' or 'none' penalties, got l1 penalty.\n",
      "Error: Solver lbfgs supports only 'l2' or 'none' penalties, got l1 penalty.\n",
      "Error: Solver lbfgs supports only 'l2' or 'none' penalties, got l1 penalty.\n",
      "Error: Solver lbfgs supports only 'l2' or 'none' penalties, got l1 penalty.\n",
      "Error: Solver lbfgs supports only 'l2' or 'none' penalties, got l1 penalty.\n",
      "C = 0.001, Penalty = l1, Solver = liblinear, Class Weight = None, Multi-Class = ovr\n",
      "Train Score = 0.7621, Validation Score = 0.7746\n",
      "Error: Solver liblinear does not support a multinomial backend.\n",
      "C = 0.001, Penalty = l1, Solver = liblinear, Class Weight = balanced, Multi-Class = ovr\n",
      "Train Score = 0.6874, Validation Score = 0.6932\n",
      "Error: Solver liblinear does not support a multinomial backend.\n",
      "Error: Solver sag supports only 'l2' or 'none' penalties, got l1 penalty.\n",
      "Error: Solver sag supports only 'l2' or 'none' penalties, got l1 penalty.\n",
      "Error: Solver sag supports only 'l2' or 'none' penalties, got l1 penalty.\n",
      "Error: Solver sag supports only 'l2' or 'none' penalties, got l1 penalty.\n",
      "C = 0.001, Penalty = l1, Solver = saga, Class Weight = None, Multi-Class = ovr\n",
      "Train Score = 0.7878, Validation Score = 0.7992\n",
      "C = 0.001, Penalty = l1, Solver = saga, Class Weight = None, Multi-Class = multinomial\n",
      "Train Score = 0.7878, Validation Score = 0.7992\n",
      "C = 0.001, Penalty = l1, Solver = saga, Class Weight = balanced, Multi-Class = ovr\n",
      "Train Score = 0.7276, Validation Score = 0.7235\n",
      "C = 0.001, Penalty = l1, Solver = saga, Class Weight = balanced, Multi-Class = multinomial\n",
      "Train Score = 0.7276, Validation Score = 0.7235\n",
      "C = 0.001, Penalty = l2, Solver = newton-cg, Class Weight = None, Multi-Class = ovr\n",
      "Train Score = 0.7933, Validation Score = 0.7983\n",
      "C = 0.001, Penalty = l2, Solver = newton-cg, Class Weight = None, Multi-Class = multinomial\n",
      "Train Score = 0.7945, Validation Score = 0.7983\n",
      "C = 0.001, Penalty = l2, Solver = newton-cg, Class Weight = balanced, Multi-Class = ovr\n",
      "Train Score = 0.7424, Validation Score = 0.7386\n",
      "C = 0.001, Penalty = l2, Solver = newton-cg, Class Weight = balanced, Multi-Class = multinomial\n",
      "Train Score = 0.7487, Validation Score = 0.7509\n",
      "C = 0.001, Penalty = l2, Solver = lbfgs, Class Weight = None, Multi-Class = ovr\n",
      "Train Score = 0.7933, Validation Score = 0.7983\n",
      "C = 0.001, Penalty = l2, Solver = lbfgs, Class Weight = None, Multi-Class = multinomial\n",
      "Train Score = 0.7945, Validation Score = 0.7983\n",
      "C = 0.001, Penalty = l2, Solver = lbfgs, Class Weight = balanced, Multi-Class = ovr\n",
      "Train Score = 0.7426, Validation Score = 0.7386\n",
      "C = 0.001, Penalty = l2, Solver = lbfgs, Class Weight = balanced, Multi-Class = multinomial\n",
      "Train Score = 0.7487, Validation Score = 0.7509\n",
      "C = 0.001, Penalty = l2, Solver = liblinear, Class Weight = None, Multi-Class = ovr\n",
      "Train Score = 0.7982, Validation Score = 0.7907\n",
      "Error: Solver liblinear does not support a multinomial backend.\n",
      "C = 0.001, Penalty = l2, Solver = liblinear, Class Weight = balanced, Multi-Class = ovr\n",
      "Train Score = 0.7256, Validation Score = 0.7225\n",
      "Error: Solver liblinear does not support a multinomial backend.\n",
      "C = 0.001, Penalty = l2, Solver = sag, Class Weight = None, Multi-Class = ovr\n",
      "Train Score = 0.7931, Validation Score = 0.7983\n",
      "C = 0.001, Penalty = l2, Solver = sag, Class Weight = None, Multi-Class = multinomial\n",
      "Train Score = 0.7945, Validation Score = 0.7983\n",
      "C = 0.001, Penalty = l2, Solver = sag, Class Weight = balanced, Multi-Class = ovr\n",
      "Train Score = 0.7426, Validation Score = 0.7386\n",
      "C = 0.001, Penalty = l2, Solver = sag, Class Weight = balanced, Multi-Class = multinomial\n",
      "Train Score = 0.7489, Validation Score = 0.7509\n"
     ]
    },
    {
     "name": "stderr",
     "output_type": "stream",
     "text": [
      "/usr/local/anaconda3/lib/python3.10/site-packages/sklearn/linear_model/_sag.py:350: ConvergenceWarning: The max_iter was reached which means the coef_ did not converge\n",
      "  warnings.warn(\n"
     ]
    },
    {
     "name": "stdout",
     "output_type": "stream",
     "text": [
      "C = 0.001, Penalty = l2, Solver = saga, Class Weight = None, Multi-Class = ovr\n",
      "Train Score = 0.7933, Validation Score = 0.7983\n",
      "C = 0.001, Penalty = l2, Solver = saga, Class Weight = None, Multi-Class = multinomial\n",
      "Train Score = 0.7945, Validation Score = 0.7983\n",
      "C = 0.001, Penalty = l2, Solver = saga, Class Weight = balanced, Multi-Class = ovr\n",
      "Train Score = 0.7422, Validation Score = 0.7386\n",
      "C = 0.001, Penalty = l2, Solver = saga, Class Weight = balanced, Multi-Class = multinomial\n",
      "Train Score = 0.7483, Validation Score = 0.7519\n",
      "Error: Solver newton-cg supports only 'l2' or 'none' penalties, got l1 penalty.\n",
      "Error: Solver newton-cg supports only 'l2' or 'none' penalties, got l1 penalty.\n",
      "Error: Solver newton-cg supports only 'l2' or 'none' penalties, got l1 penalty.\n",
      "Error: Solver newton-cg supports only 'l2' or 'none' penalties, got l1 penalty.\n",
      "Error: Solver lbfgs supports only 'l2' or 'none' penalties, got l1 penalty.\n",
      "Error: Solver lbfgs supports only 'l2' or 'none' penalties, got l1 penalty.\n",
      "Error: Solver lbfgs supports only 'l2' or 'none' penalties, got l1 penalty.\n",
      "Error: Solver lbfgs supports only 'l2' or 'none' penalties, got l1 penalty.\n",
      "C = 0.010, Penalty = l1, Solver = liblinear, Class Weight = None, Multi-Class = ovr\n",
      "Train Score = 0.7947, Validation Score = 0.7926\n",
      "Error: Solver liblinear does not support a multinomial backend.\n",
      "C = 0.010, Penalty = l1, Solver = liblinear, Class Weight = balanced, Multi-Class = ovr\n",
      "Train Score = 0.7154, Validation Score = 0.7169\n",
      "Error: Solver liblinear does not support a multinomial backend.\n",
      "Error: Solver sag supports only 'l2' or 'none' penalties, got l1 penalty.\n",
      "Error: Solver sag supports only 'l2' or 'none' penalties, got l1 penalty.\n",
      "Error: Solver sag supports only 'l2' or 'none' penalties, got l1 penalty.\n",
      "Error: Solver sag supports only 'l2' or 'none' penalties, got l1 penalty.\n"
     ]
    },
    {
     "name": "stderr",
     "output_type": "stream",
     "text": [
      "/usr/local/anaconda3/lib/python3.10/site-packages/sklearn/linear_model/_sag.py:350: ConvergenceWarning: The max_iter was reached which means the coef_ did not converge\n",
      "  warnings.warn(\n"
     ]
    },
    {
     "name": "stdout",
     "output_type": "stream",
     "text": [
      "C = 0.010, Penalty = l1, Solver = saga, Class Weight = None, Multi-Class = ovr\n",
      "Train Score = 0.7897, Validation Score = 0.7945\n",
      "C = 0.010, Penalty = l1, Solver = saga, Class Weight = None, Multi-Class = multinomial\n",
      "Train Score = 0.7897, Validation Score = 0.7936\n",
      "C = 0.010, Penalty = l1, Solver = saga, Class Weight = balanced, Multi-Class = ovr\n",
      "Train Score = 0.7424, Validation Score = 0.7443\n",
      "C = 0.010, Penalty = l1, Solver = saga, Class Weight = balanced, Multi-Class = multinomial\n",
      "Train Score = 0.7428, Validation Score = 0.7443\n",
      "C = 0.010, Penalty = l2, Solver = newton-cg, Class Weight = None, Multi-Class = ovr\n",
      "Train Score = 0.8002, Validation Score = 0.7973\n",
      "C = 0.010, Penalty = l2, Solver = newton-cg, Class Weight = None, Multi-Class = multinomial\n",
      "Train Score = 0.8010, Validation Score = 0.8002\n",
      "C = 0.010, Penalty = l2, Solver = newton-cg, Class Weight = balanced, Multi-Class = ovr\n",
      "Train Score = 0.7552, Validation Score = 0.7500\n",
      "C = 0.010, Penalty = l2, Solver = newton-cg, Class Weight = balanced, Multi-Class = multinomial\n",
      "Train Score = 0.7542, Validation Score = 0.7491\n",
      "C = 0.010, Penalty = l2, Solver = lbfgs, Class Weight = None, Multi-Class = ovr\n",
      "Train Score = 0.8004, Validation Score = 0.7973\n",
      "C = 0.010, Penalty = l2, Solver = lbfgs, Class Weight = None, Multi-Class = multinomial\n",
      "Train Score = 0.8010, Validation Score = 0.8002\n",
      "C = 0.010, Penalty = l2, Solver = lbfgs, Class Weight = balanced, Multi-Class = ovr\n",
      "Train Score = 0.7552, Validation Score = 0.7500\n",
      "C = 0.010, Penalty = l2, Solver = lbfgs, Class Weight = balanced, Multi-Class = multinomial\n",
      "Train Score = 0.7544, Validation Score = 0.7491\n",
      "C = 0.010, Penalty = l2, Solver = liblinear, Class Weight = None, Multi-Class = ovr\n",
      "Train Score = 0.8006, Validation Score = 0.8021\n",
      "Error: Solver liblinear does not support a multinomial backend.\n",
      "C = 0.010, Penalty = l2, Solver = liblinear, Class Weight = balanced, Multi-Class = ovr\n",
      "Train Score = 0.7540, Validation Score = 0.7500\n",
      "Error: Solver liblinear does not support a multinomial backend.\n"
     ]
    },
    {
     "name": "stderr",
     "output_type": "stream",
     "text": [
      "/usr/local/anaconda3/lib/python3.10/site-packages/sklearn/linear_model/_sag.py:350: ConvergenceWarning: The max_iter was reached which means the coef_ did not converge\n",
      "  warnings.warn(\n"
     ]
    },
    {
     "name": "stdout",
     "output_type": "stream",
     "text": [
      "C = 0.010, Penalty = l2, Solver = sag, Class Weight = None, Multi-Class = ovr\n",
      "Train Score = 0.8004, Validation Score = 0.7973\n"
     ]
    },
    {
     "name": "stderr",
     "output_type": "stream",
     "text": [
      "/usr/local/anaconda3/lib/python3.10/site-packages/sklearn/linear_model/_sag.py:350: ConvergenceWarning: The max_iter was reached which means the coef_ did not converge\n",
      "  warnings.warn(\n"
     ]
    },
    {
     "name": "stdout",
     "output_type": "stream",
     "text": [
      "C = 0.010, Penalty = l2, Solver = sag, Class Weight = None, Multi-Class = multinomial\n",
      "Train Score = 0.8010, Validation Score = 0.8011\n",
      "C = 0.010, Penalty = l2, Solver = sag, Class Weight = balanced, Multi-Class = ovr\n",
      "Train Score = 0.7550, Validation Score = 0.7500\n",
      "C = 0.010, Penalty = l2, Solver = sag, Class Weight = balanced, Multi-Class = multinomial\n",
      "Train Score = 0.7544, Validation Score = 0.7491\n"
     ]
    },
    {
     "name": "stderr",
     "output_type": "stream",
     "text": [
      "/usr/local/anaconda3/lib/python3.10/site-packages/sklearn/linear_model/_sag.py:350: ConvergenceWarning: The max_iter was reached which means the coef_ did not converge\n",
      "  warnings.warn(\n"
     ]
    },
    {
     "name": "stdout",
     "output_type": "stream",
     "text": [
      "C = 0.010, Penalty = l2, Solver = saga, Class Weight = None, Multi-Class = ovr\n",
      "Train Score = 0.7992, Validation Score = 0.8002\n"
     ]
    },
    {
     "name": "stderr",
     "output_type": "stream",
     "text": [
      "/usr/local/anaconda3/lib/python3.10/site-packages/sklearn/linear_model/_sag.py:350: ConvergenceWarning: The max_iter was reached which means the coef_ did not converge\n",
      "  warnings.warn(\n"
     ]
    },
    {
     "name": "stdout",
     "output_type": "stream",
     "text": [
      "C = 0.010, Penalty = l2, Solver = saga, Class Weight = None, Multi-Class = multinomial\n",
      "Train Score = 0.8016, Validation Score = 0.8002\n",
      "C = 0.010, Penalty = l2, Solver = saga, Class Weight = balanced, Multi-Class = ovr\n",
      "Train Score = 0.7550, Validation Score = 0.7500\n",
      "C = 0.010, Penalty = l2, Solver = saga, Class Weight = balanced, Multi-Class = multinomial\n",
      "Train Score = 0.7540, Validation Score = 0.7491\n",
      "Error: Solver newton-cg supports only 'l2' or 'none' penalties, got l1 penalty.\n",
      "Error: Solver newton-cg supports only 'l2' or 'none' penalties, got l1 penalty.\n",
      "Error: Solver newton-cg supports only 'l2' or 'none' penalties, got l1 penalty.\n",
      "Error: Solver newton-cg supports only 'l2' or 'none' penalties, got l1 penalty.\n",
      "Error: Solver lbfgs supports only 'l2' or 'none' penalties, got l1 penalty.\n",
      "Error: Solver lbfgs supports only 'l2' or 'none' penalties, got l1 penalty.\n",
      "Error: Solver lbfgs supports only 'l2' or 'none' penalties, got l1 penalty.\n",
      "Error: Solver lbfgs supports only 'l2' or 'none' penalties, got l1 penalty.\n",
      "C = 0.100, Penalty = l1, Solver = liblinear, Class Weight = None, Multi-Class = ovr\n",
      "Train Score = 0.8069, Validation Score = 0.8030\n",
      "Error: Solver liblinear does not support a multinomial backend.\n",
      "C = 0.100, Penalty = l1, Solver = liblinear, Class Weight = balanced, Multi-Class = ovr\n",
      "Train Score = 0.7505, Validation Score = 0.7538\n",
      "Error: Solver liblinear does not support a multinomial backend.\n",
      "Error: Solver sag supports only 'l2' or 'none' penalties, got l1 penalty.\n",
      "Error: Solver sag supports only 'l2' or 'none' penalties, got l1 penalty.\n",
      "Error: Solver sag supports only 'l2' or 'none' penalties, got l1 penalty.\n",
      "Error: Solver sag supports only 'l2' or 'none' penalties, got l1 penalty.\n"
     ]
    },
    {
     "name": "stderr",
     "output_type": "stream",
     "text": [
      "/usr/local/anaconda3/lib/python3.10/site-packages/sklearn/linear_model/_sag.py:350: ConvergenceWarning: The max_iter was reached which means the coef_ did not converge\n",
      "  warnings.warn(\n"
     ]
    },
    {
     "name": "stdout",
     "output_type": "stream",
     "text": [
      "C = 0.100, Penalty = l1, Solver = saga, Class Weight = None, Multi-Class = ovr\n",
      "Train Score = 0.8063, Validation Score = 0.8011\n"
     ]
    },
    {
     "name": "stderr",
     "output_type": "stream",
     "text": [
      "/usr/local/anaconda3/lib/python3.10/site-packages/sklearn/linear_model/_sag.py:350: ConvergenceWarning: The max_iter was reached which means the coef_ did not converge\n",
      "  warnings.warn(\n"
     ]
    },
    {
     "name": "stdout",
     "output_type": "stream",
     "text": [
      "C = 0.100, Penalty = l1, Solver = saga, Class Weight = None, Multi-Class = multinomial\n",
      "Train Score = 0.8067, Validation Score = 0.8011\n"
     ]
    },
    {
     "name": "stderr",
     "output_type": "stream",
     "text": [
      "/usr/local/anaconda3/lib/python3.10/site-packages/sklearn/linear_model/_sag.py:350: ConvergenceWarning: The max_iter was reached which means the coef_ did not converge\n",
      "  warnings.warn(\n"
     ]
    },
    {
     "name": "stdout",
     "output_type": "stream",
     "text": [
      "C = 0.100, Penalty = l1, Solver = saga, Class Weight = balanced, Multi-Class = ovr\n",
      "Train Score = 0.7513, Validation Score = 0.7538\n"
     ]
    },
    {
     "name": "stderr",
     "output_type": "stream",
     "text": [
      "/usr/local/anaconda3/lib/python3.10/site-packages/sklearn/linear_model/_sag.py:350: ConvergenceWarning: The max_iter was reached which means the coef_ did not converge\n",
      "  warnings.warn(\n"
     ]
    },
    {
     "name": "stdout",
     "output_type": "stream",
     "text": [
      "C = 0.100, Penalty = l1, Solver = saga, Class Weight = balanced, Multi-Class = multinomial\n",
      "Train Score = 0.7517, Validation Score = 0.7528\n",
      "C = 0.100, Penalty = l2, Solver = newton-cg, Class Weight = None, Multi-Class = ovr\n",
      "Train Score = 0.8041, Validation Score = 0.8002\n",
      "C = 0.100, Penalty = l2, Solver = newton-cg, Class Weight = None, Multi-Class = multinomial\n",
      "Train Score = 0.8053, Validation Score = 0.8011\n",
      "C = 0.100, Penalty = l2, Solver = newton-cg, Class Weight = balanced, Multi-Class = ovr\n",
      "Train Score = 0.7501, Validation Score = 0.7509\n",
      "C = 0.100, Penalty = l2, Solver = newton-cg, Class Weight = balanced, Multi-Class = multinomial\n",
      "Train Score = 0.7501, Validation Score = 0.7519\n",
      "C = 0.100, Penalty = l2, Solver = lbfgs, Class Weight = None, Multi-Class = ovr\n",
      "Train Score = 0.8041, Validation Score = 0.8002\n",
      "C = 0.100, Penalty = l2, Solver = lbfgs, Class Weight = None, Multi-Class = multinomial\n",
      "Train Score = 0.8051, Validation Score = 0.8021\n",
      "C = 0.100, Penalty = l2, Solver = lbfgs, Class Weight = balanced, Multi-Class = ovr\n",
      "Train Score = 0.7499, Validation Score = 0.7500\n",
      "C = 0.100, Penalty = l2, Solver = lbfgs, Class Weight = balanced, Multi-Class = multinomial\n",
      "Train Score = 0.7495, Validation Score = 0.7519\n",
      "C = 0.100, Penalty = l2, Solver = liblinear, Class Weight = None, Multi-Class = ovr\n",
      "Train Score = 0.8051, Validation Score = 0.8030\n",
      "Error: Solver liblinear does not support a multinomial backend.\n",
      "C = 0.100, Penalty = l2, Solver = liblinear, Class Weight = balanced, Multi-Class = ovr\n",
      "Train Score = 0.7501, Validation Score = 0.7500\n",
      "Error: Solver liblinear does not support a multinomial backend.\n"
     ]
    },
    {
     "name": "stderr",
     "output_type": "stream",
     "text": [
      "/usr/local/anaconda3/lib/python3.10/site-packages/sklearn/linear_model/_sag.py:350: ConvergenceWarning: The max_iter was reached which means the coef_ did not converge\n",
      "  warnings.warn(\n"
     ]
    },
    {
     "name": "stdout",
     "output_type": "stream",
     "text": [
      "C = 0.100, Penalty = l2, Solver = sag, Class Weight = None, Multi-Class = ovr\n",
      "Train Score = 0.8043, Validation Score = 0.8002\n"
     ]
    },
    {
     "name": "stderr",
     "output_type": "stream",
     "text": [
      "/usr/local/anaconda3/lib/python3.10/site-packages/sklearn/linear_model/_sag.py:350: ConvergenceWarning: The max_iter was reached which means the coef_ did not converge\n",
      "  warnings.warn(\n"
     ]
    },
    {
     "name": "stdout",
     "output_type": "stream",
     "text": [
      "C = 0.100, Penalty = l2, Solver = sag, Class Weight = None, Multi-Class = multinomial\n",
      "Train Score = 0.8055, Validation Score = 0.8021\n",
      "C = 0.100, Penalty = l2, Solver = sag, Class Weight = balanced, Multi-Class = ovr\n",
      "Train Score = 0.7499, Validation Score = 0.7500\n",
      "C = 0.100, Penalty = l2, Solver = sag, Class Weight = balanced, Multi-Class = multinomial\n",
      "Train Score = 0.7497, Validation Score = 0.7509\n"
     ]
    },
    {
     "name": "stderr",
     "output_type": "stream",
     "text": [
      "/usr/local/anaconda3/lib/python3.10/site-packages/sklearn/linear_model/_sag.py:350: ConvergenceWarning: The max_iter was reached which means the coef_ did not converge\n",
      "  warnings.warn(\n"
     ]
    },
    {
     "name": "stdout",
     "output_type": "stream",
     "text": [
      "C = 0.100, Penalty = l2, Solver = saga, Class Weight = None, Multi-Class = ovr\n",
      "Train Score = 0.8043, Validation Score = 0.8002\n"
     ]
    },
    {
     "name": "stderr",
     "output_type": "stream",
     "text": [
      "/usr/local/anaconda3/lib/python3.10/site-packages/sklearn/linear_model/_sag.py:350: ConvergenceWarning: The max_iter was reached which means the coef_ did not converge\n",
      "  warnings.warn(\n"
     ]
    },
    {
     "name": "stdout",
     "output_type": "stream",
     "text": [
      "C = 0.100, Penalty = l2, Solver = saga, Class Weight = None, Multi-Class = multinomial\n",
      "Train Score = 0.8055, Validation Score = 0.8021\n"
     ]
    },
    {
     "name": "stderr",
     "output_type": "stream",
     "text": [
      "/usr/local/anaconda3/lib/python3.10/site-packages/sklearn/linear_model/_sag.py:350: ConvergenceWarning: The max_iter was reached which means the coef_ did not converge\n",
      "  warnings.warn(\n"
     ]
    },
    {
     "name": "stdout",
     "output_type": "stream",
     "text": [
      "C = 0.100, Penalty = l2, Solver = saga, Class Weight = balanced, Multi-Class = ovr\n",
      "Train Score = 0.7499, Validation Score = 0.7509\n",
      "C = 0.100, Penalty = l2, Solver = saga, Class Weight = balanced, Multi-Class = multinomial\n",
      "Train Score = 0.7495, Validation Score = 0.7509\n",
      "Error: Solver newton-cg supports only 'l2' or 'none' penalties, got l1 penalty.\n",
      "Error: Solver newton-cg supports only 'l2' or 'none' penalties, got l1 penalty.\n",
      "Error: Solver newton-cg supports only 'l2' or 'none' penalties, got l1 penalty.\n",
      "Error: Solver newton-cg supports only 'l2' or 'none' penalties, got l1 penalty.\n",
      "Error: Solver lbfgs supports only 'l2' or 'none' penalties, got l1 penalty.\n",
      "Error: Solver lbfgs supports only 'l2' or 'none' penalties, got l1 penalty.\n",
      "Error: Solver lbfgs supports only 'l2' or 'none' penalties, got l1 penalty.\n",
      "Error: Solver lbfgs supports only 'l2' or 'none' penalties, got l1 penalty.\n",
      "C = 1.000, Penalty = l1, Solver = liblinear, Class Weight = None, Multi-Class = ovr\n",
      "Train Score = 0.8051, Validation Score = 0.8011\n",
      "Error: Solver liblinear does not support a multinomial backend.\n",
      "C = 1.000, Penalty = l1, Solver = liblinear, Class Weight = balanced, Multi-Class = ovr\n",
      "Train Score = 0.7495, Validation Score = 0.7528\n",
      "Error: Solver liblinear does not support a multinomial backend.\n",
      "Error: Solver sag supports only 'l2' or 'none' penalties, got l1 penalty.\n",
      "Error: Solver sag supports only 'l2' or 'none' penalties, got l1 penalty.\n",
      "Error: Solver sag supports only 'l2' or 'none' penalties, got l1 penalty.\n",
      "Error: Solver sag supports only 'l2' or 'none' penalties, got l1 penalty.\n"
     ]
    },
    {
     "name": "stderr",
     "output_type": "stream",
     "text": [
      "/usr/local/anaconda3/lib/python3.10/site-packages/sklearn/linear_model/_sag.py:350: ConvergenceWarning: The max_iter was reached which means the coef_ did not converge\n",
      "  warnings.warn(\n"
     ]
    },
    {
     "name": "stdout",
     "output_type": "stream",
     "text": [
      "C = 1.000, Penalty = l1, Solver = saga, Class Weight = None, Multi-Class = ovr\n",
      "Train Score = 0.8045, Validation Score = 0.8011\n"
     ]
    },
    {
     "name": "stderr",
     "output_type": "stream",
     "text": [
      "/usr/local/anaconda3/lib/python3.10/site-packages/sklearn/linear_model/_sag.py:350: ConvergenceWarning: The max_iter was reached which means the coef_ did not converge\n",
      "  warnings.warn(\n"
     ]
    },
    {
     "name": "stdout",
     "output_type": "stream",
     "text": [
      "C = 1.000, Penalty = l1, Solver = saga, Class Weight = None, Multi-Class = multinomial\n",
      "Train Score = 0.8051, Validation Score = 0.8011\n"
     ]
    },
    {
     "name": "stderr",
     "output_type": "stream",
     "text": [
      "/usr/local/anaconda3/lib/python3.10/site-packages/sklearn/linear_model/_sag.py:350: ConvergenceWarning: The max_iter was reached which means the coef_ did not converge\n",
      "  warnings.warn(\n"
     ]
    },
    {
     "name": "stdout",
     "output_type": "stream",
     "text": [
      "C = 1.000, Penalty = l1, Solver = saga, Class Weight = balanced, Multi-Class = ovr\n",
      "Train Score = 0.7505, Validation Score = 0.7509\n"
     ]
    },
    {
     "name": "stderr",
     "output_type": "stream",
     "text": [
      "/usr/local/anaconda3/lib/python3.10/site-packages/sklearn/linear_model/_sag.py:350: ConvergenceWarning: The max_iter was reached which means the coef_ did not converge\n",
      "  warnings.warn(\n"
     ]
    },
    {
     "name": "stdout",
     "output_type": "stream",
     "text": [
      "C = 1.000, Penalty = l1, Solver = saga, Class Weight = balanced, Multi-Class = multinomial\n",
      "Train Score = 0.7495, Validation Score = 0.7519\n",
      "C = 1.000, Penalty = l2, Solver = newton-cg, Class Weight = None, Multi-Class = ovr\n",
      "Train Score = 0.8049, Validation Score = 0.8011\n",
      "C = 1.000, Penalty = l2, Solver = newton-cg, Class Weight = None, Multi-Class = multinomial\n",
      "Train Score = 0.8049, Validation Score = 0.8011\n",
      "C = 1.000, Penalty = l2, Solver = newton-cg, Class Weight = balanced, Multi-Class = ovr\n",
      "Train Score = 0.7497, Validation Score = 0.7528\n",
      "C = 1.000, Penalty = l2, Solver = newton-cg, Class Weight = balanced, Multi-Class = multinomial\n",
      "Train Score = 0.7495, Validation Score = 0.7528\n",
      "C = 1.000, Penalty = l2, Solver = lbfgs, Class Weight = None, Multi-Class = ovr\n",
      "Train Score = 0.8049, Validation Score = 0.8011\n",
      "C = 1.000, Penalty = l2, Solver = lbfgs, Class Weight = None, Multi-Class = multinomial\n",
      "Train Score = 0.8051, Validation Score = 0.8021\n",
      "C = 1.000, Penalty = l2, Solver = lbfgs, Class Weight = balanced, Multi-Class = ovr\n",
      "Train Score = 0.7497, Validation Score = 0.7528\n",
      "C = 1.000, Penalty = l2, Solver = lbfgs, Class Weight = balanced, Multi-Class = multinomial\n",
      "Train Score = 0.7497, Validation Score = 0.7528\n",
      "C = 1.000, Penalty = l2, Solver = liblinear, Class Weight = None, Multi-Class = ovr\n",
      "Train Score = 0.8047, Validation Score = 0.8021\n",
      "Error: Solver liblinear does not support a multinomial backend.\n",
      "C = 1.000, Penalty = l2, Solver = liblinear, Class Weight = balanced, Multi-Class = ovr\n",
      "Train Score = 0.7499, Validation Score = 0.7528\n",
      "Error: Solver liblinear does not support a multinomial backend.\n"
     ]
    },
    {
     "name": "stderr",
     "output_type": "stream",
     "text": [
      "/usr/local/anaconda3/lib/python3.10/site-packages/sklearn/linear_model/_sag.py:350: ConvergenceWarning: The max_iter was reached which means the coef_ did not converge\n",
      "  warnings.warn(\n"
     ]
    },
    {
     "name": "stdout",
     "output_type": "stream",
     "text": [
      "C = 1.000, Penalty = l2, Solver = sag, Class Weight = None, Multi-Class = ovr\n",
      "Train Score = 0.8045, Validation Score = 0.8021\n",
      "C = 1.000, Penalty = l2, Solver = sag, Class Weight = None, Multi-Class = multinomial\n",
      "Train Score = 0.8049, Validation Score = 0.8011\n"
     ]
    },
    {
     "name": "stderr",
     "output_type": "stream",
     "text": [
      "/usr/local/anaconda3/lib/python3.10/site-packages/sklearn/linear_model/_sag.py:350: ConvergenceWarning: The max_iter was reached which means the coef_ did not converge\n",
      "  warnings.warn(\n"
     ]
    },
    {
     "name": "stdout",
     "output_type": "stream",
     "text": [
      "C = 1.000, Penalty = l2, Solver = sag, Class Weight = balanced, Multi-Class = ovr\n",
      "Train Score = 0.7493, Validation Score = 0.7519\n",
      "C = 1.000, Penalty = l2, Solver = sag, Class Weight = balanced, Multi-Class = multinomial\n",
      "Train Score = 0.7495, Validation Score = 0.7528\n"
     ]
    },
    {
     "name": "stderr",
     "output_type": "stream",
     "text": [
      "/usr/local/anaconda3/lib/python3.10/site-packages/sklearn/linear_model/_sag.py:350: ConvergenceWarning: The max_iter was reached which means the coef_ did not converge\n",
      "  warnings.warn(\n"
     ]
    },
    {
     "name": "stdout",
     "output_type": "stream",
     "text": [
      "C = 1.000, Penalty = l2, Solver = saga, Class Weight = None, Multi-Class = ovr\n",
      "Train Score = 0.8047, Validation Score = 0.8011\n"
     ]
    },
    {
     "name": "stderr",
     "output_type": "stream",
     "text": [
      "/usr/local/anaconda3/lib/python3.10/site-packages/sklearn/linear_model/_sag.py:350: ConvergenceWarning: The max_iter was reached which means the coef_ did not converge\n",
      "  warnings.warn(\n"
     ]
    },
    {
     "name": "stdout",
     "output_type": "stream",
     "text": [
      "C = 1.000, Penalty = l2, Solver = saga, Class Weight = None, Multi-Class = multinomial\n",
      "Train Score = 0.8049, Validation Score = 0.8021\n"
     ]
    },
    {
     "name": "stderr",
     "output_type": "stream",
     "text": [
      "/usr/local/anaconda3/lib/python3.10/site-packages/sklearn/linear_model/_sag.py:350: ConvergenceWarning: The max_iter was reached which means the coef_ did not converge\n",
      "  warnings.warn(\n"
     ]
    },
    {
     "name": "stdout",
     "output_type": "stream",
     "text": [
      "C = 1.000, Penalty = l2, Solver = saga, Class Weight = balanced, Multi-Class = ovr\n",
      "Train Score = 0.7507, Validation Score = 0.7509\n"
     ]
    },
    {
     "name": "stderr",
     "output_type": "stream",
     "text": [
      "/usr/local/anaconda3/lib/python3.10/site-packages/sklearn/linear_model/_sag.py:350: ConvergenceWarning: The max_iter was reached which means the coef_ did not converge\n",
      "  warnings.warn(\n"
     ]
    },
    {
     "name": "stdout",
     "output_type": "stream",
     "text": [
      "C = 1.000, Penalty = l2, Solver = saga, Class Weight = balanced, Multi-Class = multinomial\n",
      "Train Score = 0.7495, Validation Score = 0.7528\n",
      "Error: Solver newton-cg supports only 'l2' or 'none' penalties, got l1 penalty.\n",
      "Error: Solver newton-cg supports only 'l2' or 'none' penalties, got l1 penalty.\n",
      "Error: Solver newton-cg supports only 'l2' or 'none' penalties, got l1 penalty.\n",
      "Error: Solver newton-cg supports only 'l2' or 'none' penalties, got l1 penalty.\n",
      "Error: Solver lbfgs supports only 'l2' or 'none' penalties, got l1 penalty.\n",
      "Error: Solver lbfgs supports only 'l2' or 'none' penalties, got l1 penalty.\n",
      "Error: Solver lbfgs supports only 'l2' or 'none' penalties, got l1 penalty.\n",
      "Error: Solver lbfgs supports only 'l2' or 'none' penalties, got l1 penalty.\n",
      "C = 10.000, Penalty = l1, Solver = liblinear, Class Weight = None, Multi-Class = ovr\n",
      "Train Score = 0.8047, Validation Score = 0.8011\n",
      "Error: Solver liblinear does not support a multinomial backend.\n",
      "C = 10.000, Penalty = l1, Solver = liblinear, Class Weight = balanced, Multi-Class = ovr\n",
      "Train Score = 0.7495, Validation Score = 0.7528\n",
      "Error: Solver liblinear does not support a multinomial backend.\n",
      "Error: Solver sag supports only 'l2' or 'none' penalties, got l1 penalty.\n",
      "Error: Solver sag supports only 'l2' or 'none' penalties, got l1 penalty.\n",
      "Error: Solver sag supports only 'l2' or 'none' penalties, got l1 penalty.\n",
      "Error: Solver sag supports only 'l2' or 'none' penalties, got l1 penalty.\n"
     ]
    },
    {
     "name": "stderr",
     "output_type": "stream",
     "text": [
      "/usr/local/anaconda3/lib/python3.10/site-packages/sklearn/linear_model/_sag.py:350: ConvergenceWarning: The max_iter was reached which means the coef_ did not converge\n",
      "  warnings.warn(\n"
     ]
    },
    {
     "name": "stdout",
     "output_type": "stream",
     "text": [
      "C = 10.000, Penalty = l1, Solver = saga, Class Weight = None, Multi-Class = ovr\n",
      "Train Score = 0.8045, Validation Score = 0.8011\n"
     ]
    },
    {
     "name": "stderr",
     "output_type": "stream",
     "text": [
      "/usr/local/anaconda3/lib/python3.10/site-packages/sklearn/linear_model/_sag.py:350: ConvergenceWarning: The max_iter was reached which means the coef_ did not converge\n",
      "  warnings.warn(\n"
     ]
    },
    {
     "name": "stdout",
     "output_type": "stream",
     "text": [
      "C = 10.000, Penalty = l1, Solver = saga, Class Weight = None, Multi-Class = multinomial\n",
      "Train Score = 0.8047, Validation Score = 0.8011\n"
     ]
    },
    {
     "name": "stderr",
     "output_type": "stream",
     "text": [
      "/usr/local/anaconda3/lib/python3.10/site-packages/sklearn/linear_model/_sag.py:350: ConvergenceWarning: The max_iter was reached which means the coef_ did not converge\n",
      "  warnings.warn(\n"
     ]
    },
    {
     "name": "stdout",
     "output_type": "stream",
     "text": [
      "C = 10.000, Penalty = l1, Solver = saga, Class Weight = balanced, Multi-Class = ovr\n",
      "Train Score = 0.7503, Validation Score = 0.7509\n"
     ]
    },
    {
     "name": "stderr",
     "output_type": "stream",
     "text": [
      "/usr/local/anaconda3/lib/python3.10/site-packages/sklearn/linear_model/_sag.py:350: ConvergenceWarning: The max_iter was reached which means the coef_ did not converge\n",
      "  warnings.warn(\n"
     ]
    },
    {
     "name": "stdout",
     "output_type": "stream",
     "text": [
      "C = 10.000, Penalty = l1, Solver = saga, Class Weight = balanced, Multi-Class = multinomial\n",
      "Train Score = 0.7495, Validation Score = 0.7528\n",
      "C = 10.000, Penalty = l2, Solver = newton-cg, Class Weight = None, Multi-Class = ovr\n",
      "Train Score = 0.8047, Validation Score = 0.8011\n",
      "C = 10.000, Penalty = l2, Solver = newton-cg, Class Weight = None, Multi-Class = multinomial\n",
      "Train Score = 0.8047, Validation Score = 0.8011\n",
      "C = 10.000, Penalty = l2, Solver = newton-cg, Class Weight = balanced, Multi-Class = ovr\n",
      "Train Score = 0.7495, Validation Score = 0.7528\n",
      "C = 10.000, Penalty = l2, Solver = newton-cg, Class Weight = balanced, Multi-Class = multinomial\n",
      "Train Score = 0.7495, Validation Score = 0.7528\n",
      "C = 10.000, Penalty = l2, Solver = lbfgs, Class Weight = None, Multi-Class = ovr\n",
      "Train Score = 0.8049, Validation Score = 0.8011\n",
      "C = 10.000, Penalty = l2, Solver = lbfgs, Class Weight = None, Multi-Class = multinomial\n",
      "Train Score = 0.8047, Validation Score = 0.8011\n",
      "C = 10.000, Penalty = l2, Solver = lbfgs, Class Weight = balanced, Multi-Class = ovr\n",
      "Train Score = 0.7495, Validation Score = 0.7528\n",
      "C = 10.000, Penalty = l2, Solver = lbfgs, Class Weight = balanced, Multi-Class = multinomial\n",
      "Train Score = 0.7495, Validation Score = 0.7528\n",
      "C = 10.000, Penalty = l2, Solver = liblinear, Class Weight = None, Multi-Class = ovr\n",
      "Train Score = 0.8047, Validation Score = 0.8011\n",
      "Error: Solver liblinear does not support a multinomial backend.\n",
      "C = 10.000, Penalty = l2, Solver = liblinear, Class Weight = balanced, Multi-Class = ovr\n",
      "Train Score = 0.7493, Validation Score = 0.7528\n",
      "Error: Solver liblinear does not support a multinomial backend.\n"
     ]
    },
    {
     "name": "stderr",
     "output_type": "stream",
     "text": [
      "/usr/local/anaconda3/lib/python3.10/site-packages/sklearn/linear_model/_sag.py:350: ConvergenceWarning: The max_iter was reached which means the coef_ did not converge\n",
      "  warnings.warn(\n"
     ]
    },
    {
     "name": "stdout",
     "output_type": "stream",
     "text": [
      "C = 10.000, Penalty = l2, Solver = sag, Class Weight = None, Multi-Class = ovr\n",
      "Train Score = 0.8047, Validation Score = 0.8011\n",
      "C = 10.000, Penalty = l2, Solver = sag, Class Weight = None, Multi-Class = multinomial\n",
      "Train Score = 0.8047, Validation Score = 0.8011\n"
     ]
    },
    {
     "name": "stderr",
     "output_type": "stream",
     "text": [
      "/usr/local/anaconda3/lib/python3.10/site-packages/sklearn/linear_model/_sag.py:350: ConvergenceWarning: The max_iter was reached which means the coef_ did not converge\n",
      "  warnings.warn(\n"
     ]
    },
    {
     "name": "stdout",
     "output_type": "stream",
     "text": [
      "C = 10.000, Penalty = l2, Solver = sag, Class Weight = balanced, Multi-Class = ovr\n",
      "Train Score = 0.7495, Validation Score = 0.7528\n",
      "C = 10.000, Penalty = l2, Solver = sag, Class Weight = balanced, Multi-Class = multinomial\n",
      "Train Score = 0.7493, Validation Score = 0.7528\n"
     ]
    },
    {
     "name": "stderr",
     "output_type": "stream",
     "text": [
      "/usr/local/anaconda3/lib/python3.10/site-packages/sklearn/linear_model/_sag.py:350: ConvergenceWarning: The max_iter was reached which means the coef_ did not converge\n",
      "  warnings.warn(\n"
     ]
    },
    {
     "name": "stdout",
     "output_type": "stream",
     "text": [
      "C = 10.000, Penalty = l2, Solver = saga, Class Weight = None, Multi-Class = ovr\n",
      "Train Score = 0.8045, Validation Score = 0.8011\n"
     ]
    },
    {
     "name": "stderr",
     "output_type": "stream",
     "text": [
      "/usr/local/anaconda3/lib/python3.10/site-packages/sklearn/linear_model/_sag.py:350: ConvergenceWarning: The max_iter was reached which means the coef_ did not converge\n",
      "  warnings.warn(\n"
     ]
    },
    {
     "name": "stdout",
     "output_type": "stream",
     "text": [
      "C = 10.000, Penalty = l2, Solver = saga, Class Weight = None, Multi-Class = multinomial\n",
      "Train Score = 0.8047, Validation Score = 0.8011\n"
     ]
    },
    {
     "name": "stderr",
     "output_type": "stream",
     "text": [
      "/usr/local/anaconda3/lib/python3.10/site-packages/sklearn/linear_model/_sag.py:350: ConvergenceWarning: The max_iter was reached which means the coef_ did not converge\n",
      "  warnings.warn(\n"
     ]
    },
    {
     "name": "stdout",
     "output_type": "stream",
     "text": [
      "C = 10.000, Penalty = l2, Solver = saga, Class Weight = balanced, Multi-Class = ovr\n",
      "Train Score = 0.7505, Validation Score = 0.7509\n"
     ]
    },
    {
     "name": "stderr",
     "output_type": "stream",
     "text": [
      "/usr/local/anaconda3/lib/python3.10/site-packages/sklearn/linear_model/_sag.py:350: ConvergenceWarning: The max_iter was reached which means the coef_ did not converge\n",
      "  warnings.warn(\n"
     ]
    },
    {
     "name": "stdout",
     "output_type": "stream",
     "text": [
      "C = 10.000, Penalty = l2, Solver = saga, Class Weight = balanced, Multi-Class = multinomial\n",
      "Train Score = 0.7493, Validation Score = 0.7528\n",
      "Error: Solver newton-cg supports only 'l2' or 'none' penalties, got l1 penalty.\n",
      "Error: Solver newton-cg supports only 'l2' or 'none' penalties, got l1 penalty.\n",
      "Error: Solver newton-cg supports only 'l2' or 'none' penalties, got l1 penalty.\n",
      "Error: Solver newton-cg supports only 'l2' or 'none' penalties, got l1 penalty.\n",
      "Error: Solver lbfgs supports only 'l2' or 'none' penalties, got l1 penalty.\n",
      "Error: Solver lbfgs supports only 'l2' or 'none' penalties, got l1 penalty.\n",
      "Error: Solver lbfgs supports only 'l2' or 'none' penalties, got l1 penalty.\n",
      "Error: Solver lbfgs supports only 'l2' or 'none' penalties, got l1 penalty.\n",
      "C = 100.000, Penalty = l1, Solver = liblinear, Class Weight = None, Multi-Class = ovr\n",
      "Train Score = 0.8047, Validation Score = 0.8011\n",
      "Error: Solver liblinear does not support a multinomial backend.\n",
      "C = 100.000, Penalty = l1, Solver = liblinear, Class Weight = balanced, Multi-Class = ovr\n",
      "Train Score = 0.7495, Validation Score = 0.7528\n",
      "Error: Solver liblinear does not support a multinomial backend.\n",
      "Error: Solver sag supports only 'l2' or 'none' penalties, got l1 penalty.\n",
      "Error: Solver sag supports only 'l2' or 'none' penalties, got l1 penalty.\n",
      "Error: Solver sag supports only 'l2' or 'none' penalties, got l1 penalty.\n",
      "Error: Solver sag supports only 'l2' or 'none' penalties, got l1 penalty.\n"
     ]
    },
    {
     "name": "stderr",
     "output_type": "stream",
     "text": [
      "/usr/local/anaconda3/lib/python3.10/site-packages/sklearn/linear_model/_sag.py:350: ConvergenceWarning: The max_iter was reached which means the coef_ did not converge\n",
      "  warnings.warn(\n"
     ]
    },
    {
     "name": "stdout",
     "output_type": "stream",
     "text": [
      "C = 100.000, Penalty = l1, Solver = saga, Class Weight = None, Multi-Class = ovr\n",
      "Train Score = 0.8045, Validation Score = 0.8011\n"
     ]
    },
    {
     "name": "stderr",
     "output_type": "stream",
     "text": [
      "/usr/local/anaconda3/lib/python3.10/site-packages/sklearn/linear_model/_sag.py:350: ConvergenceWarning: The max_iter was reached which means the coef_ did not converge\n",
      "  warnings.warn(\n"
     ]
    },
    {
     "name": "stdout",
     "output_type": "stream",
     "text": [
      "C = 100.000, Penalty = l1, Solver = saga, Class Weight = None, Multi-Class = multinomial\n",
      "Train Score = 0.8047, Validation Score = 0.8011\n"
     ]
    },
    {
     "name": "stderr",
     "output_type": "stream",
     "text": [
      "/usr/local/anaconda3/lib/python3.10/site-packages/sklearn/linear_model/_sag.py:350: ConvergenceWarning: The max_iter was reached which means the coef_ did not converge\n",
      "  warnings.warn(\n"
     ]
    },
    {
     "name": "stdout",
     "output_type": "stream",
     "text": [
      "C = 100.000, Penalty = l1, Solver = saga, Class Weight = balanced, Multi-Class = ovr\n",
      "Train Score = 0.7505, Validation Score = 0.7509\n"
     ]
    },
    {
     "name": "stderr",
     "output_type": "stream",
     "text": [
      "/usr/local/anaconda3/lib/python3.10/site-packages/sklearn/linear_model/_sag.py:350: ConvergenceWarning: The max_iter was reached which means the coef_ did not converge\n",
      "  warnings.warn(\n"
     ]
    },
    {
     "name": "stdout",
     "output_type": "stream",
     "text": [
      "C = 100.000, Penalty = l1, Solver = saga, Class Weight = balanced, Multi-Class = multinomial\n",
      "Train Score = 0.7493, Validation Score = 0.7528\n",
      "C = 100.000, Penalty = l2, Solver = newton-cg, Class Weight = None, Multi-Class = ovr\n",
      "Train Score = 0.8047, Validation Score = 0.8011\n",
      "C = 100.000, Penalty = l2, Solver = newton-cg, Class Weight = None, Multi-Class = multinomial\n",
      "Train Score = 0.8047, Validation Score = 0.8011\n",
      "C = 100.000, Penalty = l2, Solver = newton-cg, Class Weight = balanced, Multi-Class = ovr\n",
      "Train Score = 0.7495, Validation Score = 0.7528\n",
      "C = 100.000, Penalty = l2, Solver = newton-cg, Class Weight = balanced, Multi-Class = multinomial\n",
      "Train Score = 0.7495, Validation Score = 0.7528\n",
      "C = 100.000, Penalty = l2, Solver = lbfgs, Class Weight = None, Multi-Class = ovr\n",
      "Train Score = 0.8049, Validation Score = 0.8011\n",
      "C = 100.000, Penalty = l2, Solver = lbfgs, Class Weight = None, Multi-Class = multinomial\n",
      "Train Score = 0.8049, Validation Score = 0.8011\n",
      "C = 100.000, Penalty = l2, Solver = lbfgs, Class Weight = balanced, Multi-Class = ovr\n",
      "Train Score = 0.7489, Validation Score = 0.7528\n",
      "C = 100.000, Penalty = l2, Solver = lbfgs, Class Weight = balanced, Multi-Class = multinomial\n",
      "Train Score = 0.7495, Validation Score = 0.7528\n",
      "C = 100.000, Penalty = l2, Solver = liblinear, Class Weight = None, Multi-Class = ovr\n",
      "Train Score = 0.8049, Validation Score = 0.8011\n",
      "Error: Solver liblinear does not support a multinomial backend.\n",
      "C = 100.000, Penalty = l2, Solver = liblinear, Class Weight = balanced, Multi-Class = ovr\n",
      "Train Score = 0.7495, Validation Score = 0.7528\n",
      "Error: Solver liblinear does not support a multinomial backend.\n"
     ]
    },
    {
     "name": "stderr",
     "output_type": "stream",
     "text": [
      "/usr/local/anaconda3/lib/python3.10/site-packages/sklearn/linear_model/_sag.py:350: ConvergenceWarning: The max_iter was reached which means the coef_ did not converge\n",
      "  warnings.warn(\n"
     ]
    },
    {
     "name": "stdout",
     "output_type": "stream",
     "text": [
      "C = 100.000, Penalty = l2, Solver = sag, Class Weight = None, Multi-Class = ovr\n",
      "Train Score = 0.8047, Validation Score = 0.8011\n",
      "C = 100.000, Penalty = l2, Solver = sag, Class Weight = None, Multi-Class = multinomial\n",
      "Train Score = 0.8047, Validation Score = 0.8011\n"
     ]
    },
    {
     "name": "stderr",
     "output_type": "stream",
     "text": [
      "/usr/local/anaconda3/lib/python3.10/site-packages/sklearn/linear_model/_sag.py:350: ConvergenceWarning: The max_iter was reached which means the coef_ did not converge\n",
      "  warnings.warn(\n"
     ]
    },
    {
     "name": "stdout",
     "output_type": "stream",
     "text": [
      "C = 100.000, Penalty = l2, Solver = sag, Class Weight = balanced, Multi-Class = ovr\n",
      "Train Score = 0.7491, Validation Score = 0.7528\n",
      "C = 100.000, Penalty = l2, Solver = sag, Class Weight = balanced, Multi-Class = multinomial\n",
      "Train Score = 0.7493, Validation Score = 0.7528\n"
     ]
    },
    {
     "name": "stderr",
     "output_type": "stream",
     "text": [
      "/usr/local/anaconda3/lib/python3.10/site-packages/sklearn/linear_model/_sag.py:350: ConvergenceWarning: The max_iter was reached which means the coef_ did not converge\n",
      "  warnings.warn(\n"
     ]
    },
    {
     "name": "stdout",
     "output_type": "stream",
     "text": [
      "C = 100.000, Penalty = l2, Solver = saga, Class Weight = None, Multi-Class = ovr\n",
      "Train Score = 0.8045, Validation Score = 0.8011\n"
     ]
    },
    {
     "name": "stderr",
     "output_type": "stream",
     "text": [
      "/usr/local/anaconda3/lib/python3.10/site-packages/sklearn/linear_model/_sag.py:350: ConvergenceWarning: The max_iter was reached which means the coef_ did not converge\n",
      "  warnings.warn(\n"
     ]
    },
    {
     "name": "stdout",
     "output_type": "stream",
     "text": [
      "C = 100.000, Penalty = l2, Solver = saga, Class Weight = None, Multi-Class = multinomial\n",
      "Train Score = 0.8047, Validation Score = 0.8011\n"
     ]
    },
    {
     "name": "stderr",
     "output_type": "stream",
     "text": [
      "/usr/local/anaconda3/lib/python3.10/site-packages/sklearn/linear_model/_sag.py:350: ConvergenceWarning: The max_iter was reached which means the coef_ did not converge\n",
      "  warnings.warn(\n"
     ]
    },
    {
     "name": "stdout",
     "output_type": "stream",
     "text": [
      "C = 100.000, Penalty = l2, Solver = saga, Class Weight = balanced, Multi-Class = ovr\n",
      "Train Score = 0.7505, Validation Score = 0.7509\n",
      "C = 100.000, Penalty = l2, Solver = saga, Class Weight = balanced, Multi-Class = multinomial\n",
      "Train Score = 0.7491, Validation Score = 0.7528\n",
      "\n",
      "Best Hyperparameters:\n",
      "Best C = 0.100\n",
      "Best Penalty = l1\n",
      "Best Solver = liblinear\n",
      "Best Class Weight = None\n",
      "Best Multi-Class = ovr\n",
      "Best Train Score = 0.8069\n",
      "Best Validation Score = 0.8030\n"
     ]
    },
    {
     "name": "stderr",
     "output_type": "stream",
     "text": [
      "/usr/local/anaconda3/lib/python3.10/site-packages/sklearn/linear_model/_sag.py:350: ConvergenceWarning: The max_iter was reached which means the coef_ did not converge\n",
      "  warnings.warn(\n"
     ]
    }
   ],
   "source": [
    "seed = 42\n",
    "\n",
    "best_score = 0\n",
    "best_C = 0\n",
    "best_train_score = 0\n",
    "best_penalty = ''\n",
    "best_solver = ''\n",
    "best_class_weight = ''\n",
    "best_multi_class = ''\n",
    "\n",
    "penalties = ['l1', 'l2']\n",
    "solvers = ['newton-cg', 'lbfgs', 'liblinear', 'sag', 'saga']\n",
    "class_weights = [None, 'balanced']\n",
    "multi_classes = ['ovr', 'multinomial']\n",
    "\n",
    "for C in [0.001, 0.01, 0.1, 1, 10, 100]:\n",
    "    for penalty in penalties:\n",
    "        for solver in solvers:\n",
    "            for class_weight in class_weights:\n",
    "                for multi_class in multi_classes:\n",
    "                    try:\n",
    "                        logreg = LogisticRegression(\n",
    "                            random_state=seed, C=C, penalty=penalty,\n",
    "                            solver=solver, class_weight=class_weight,\n",
    "                            multi_class=multi_class, max_iter=500\n",
    "                        )\n",
    "                        logreg.fit(train_X, train_y)\n",
    "                        \n",
    "                        train_score = logreg.score(train_X, train_y)\n",
    "                        val_score = logreg.score(val_X, val_y)\n",
    "                        \n",
    "                        print(f\"C = {C:.3f}, Penalty = {penalty}, Solver = {solver}, Class Weight = {class_weight}, Multi-Class = {multi_class}\")\n",
    "                        print(f\"Train Score = {train_score:.4f}, Validation Score = {val_score:.4f}\")\n",
    "                        \n",
    "                        if val_score > best_score:\n",
    "                            best_score = val_score\n",
    "                            best_C = C\n",
    "                            best_train_score = train_score\n",
    "                            best_penalty = penalty\n",
    "                            best_solver = solver\n",
    "                            best_class_weight = class_weight\n",
    "                            best_multi_class = multi_class\n",
    "                    except ValueError as e:\n",
    "                        print(\"Error:\", e)\n",
    "                        continue\n",
    "\n",
    "print(\"\\nBest Hyperparameters:\")\n",
    "print(f\"Best C = {best_C:.3f}\")\n",
    "print(f\"Best Penalty = {best_penalty}\")\n",
    "print(f\"Best Solver = {best_solver}\")\n",
    "print(f\"Best Class Weight = {best_class_weight}\")\n",
    "print(f\"Best Multi-Class = {best_multi_class}\")\n",
    "print(f\"Best Train Score = {best_train_score:.4f}\")\n",
    "print(f\"Best Validation Score = {best_score:.4f}\")\n"
   ]
  },
  {
   "cell_type": "code",
   "execution_count": null,
   "metadata": {},
   "outputs": [
    {
     "ename": "AttributeError",
     "evalue": "'Flags' object has no attribute 'c_contiguous'",
     "output_type": "error",
     "traceback": [
      "\u001b[0;31m---------------------------------------------------------------------------\u001b[0m",
      "\u001b[0;31mAttributeError\u001b[0m                            Traceback (most recent call last)",
      "Cell \u001b[0;32mIn[14], line 33\u001b[0m\n\u001b[1;32m     30\u001b[0m         \u001b[39mprint\u001b[39m(\u001b[39mf\u001b[39m\u001b[39m\"\u001b[39m\u001b[39mTrain Accuracy: \u001b[39m\u001b[39m{\u001b[39;00mtrain_accuracy\u001b[39m:\u001b[39;00m\u001b[39m.4f\u001b[39m\u001b[39m}\u001b[39;00m\u001b[39m, Validation Accuracy: \u001b[39m\u001b[39m{\u001b[39;00mval_accuracy\u001b[39m:\u001b[39;00m\u001b[39m.4f\u001b[39m\u001b[39m}\u001b[39;00m\u001b[39m\\n\u001b[39;00m\u001b[39m\"\u001b[39m)\n\u001b[1;32m     32\u001b[0m \u001b[39m# Assuming train_X, val_X, train_y, and val_y are available\u001b[39;00m\n\u001b[0;32m---> 33\u001b[0m get_knn(train_X, val_X, train_y, val_y)\n",
      "Cell \u001b[0;32mIn[14], line 14\u001b[0m, in \u001b[0;36mget_knn\u001b[0;34m(train_X, val_X, train_y, val_y)\u001b[0m\n\u001b[1;32m     11\u001b[0m knn_model \u001b[39m=\u001b[39m KNeighborsClassifier(n_neighbors\u001b[39m=\u001b[39mn_neighbors, weights\u001b[39m=\u001b[39mweights, p\u001b[39m=\u001b[39mp)\n\u001b[1;32m     12\u001b[0m knn_model\u001b[39m.\u001b[39mfit(train_X, train_y)\n\u001b[0;32m---> 14\u001b[0m train_predictions \u001b[39m=\u001b[39m knn_model\u001b[39m.\u001b[39;49mpredict(train_X)\n\u001b[1;32m     15\u001b[0m val_predictions \u001b[39m=\u001b[39m knn_model\u001b[39m.\u001b[39mpredict(val_X)\n\u001b[1;32m     17\u001b[0m train_accuracy \u001b[39m=\u001b[39m accuracy_score(train_y, train_predictions)\n",
      "File \u001b[0;32m/usr/local/anaconda3/lib/python3.10/site-packages/sklearn/neighbors/_classification.py:246\u001b[0m, in \u001b[0;36mKNeighborsClassifier.predict\u001b[0;34m(self, X)\u001b[0m\n\u001b[1;32m    244\u001b[0m check_is_fitted(\u001b[39mself\u001b[39m, \u001b[39m\"\u001b[39m\u001b[39m_fit_method\u001b[39m\u001b[39m\"\u001b[39m)\n\u001b[1;32m    245\u001b[0m \u001b[39mif\u001b[39;00m \u001b[39mself\u001b[39m\u001b[39m.\u001b[39mweights \u001b[39m==\u001b[39m \u001b[39m\"\u001b[39m\u001b[39muniform\u001b[39m\u001b[39m\"\u001b[39m:\n\u001b[0;32m--> 246\u001b[0m     \u001b[39mif\u001b[39;00m \u001b[39mself\u001b[39m\u001b[39m.\u001b[39m_fit_method \u001b[39m==\u001b[39m \u001b[39m\"\u001b[39m\u001b[39mbrute\u001b[39m\u001b[39m\"\u001b[39m \u001b[39mand\u001b[39;00m ArgKminClassMode\u001b[39m.\u001b[39;49mis_usable_for(\n\u001b[1;32m    247\u001b[0m         X, \u001b[39mself\u001b[39;49m\u001b[39m.\u001b[39;49m_fit_X, \u001b[39mself\u001b[39;49m\u001b[39m.\u001b[39;49mmetric\n\u001b[1;32m    248\u001b[0m     ):\n\u001b[1;32m    249\u001b[0m         probabilities \u001b[39m=\u001b[39m \u001b[39mself\u001b[39m\u001b[39m.\u001b[39mpredict_proba(X)\n\u001b[1;32m    250\u001b[0m         \u001b[39mif\u001b[39;00m \u001b[39mself\u001b[39m\u001b[39m.\u001b[39moutputs_2d_:\n",
      "File \u001b[0;32m/usr/local/anaconda3/lib/python3.10/site-packages/sklearn/metrics/_pairwise_distances_reduction/_dispatcher.py:471\u001b[0m, in \u001b[0;36mArgKminClassMode.is_usable_for\u001b[0;34m(cls, X, Y, metric)\u001b[0m\n\u001b[1;32m    448\u001b[0m \u001b[39m@classmethod\u001b[39m\n\u001b[1;32m    449\u001b[0m \u001b[39mdef\u001b[39;00m \u001b[39mis_usable_for\u001b[39m(\u001b[39mcls\u001b[39m, X, Y, metric) \u001b[39m-\u001b[39m\u001b[39m>\u001b[39m \u001b[39mbool\u001b[39m:\n\u001b[1;32m    450\u001b[0m \u001b[39m    \u001b[39m\u001b[39m\"\"\"Return True if the dispatcher can be used for the given parameters.\u001b[39;00m\n\u001b[1;32m    451\u001b[0m \n\u001b[1;32m    452\u001b[0m \u001b[39m    Parameters\u001b[39;00m\n\u001b[0;32m   (...)\u001b[0m\n\u001b[1;32m    468\u001b[0m \u001b[39m    True if the PairwiseDistancesReduction can be used, else False.\u001b[39;00m\n\u001b[1;32m    469\u001b[0m \u001b[39m    \"\"\"\u001b[39;00m\n\u001b[1;32m    470\u001b[0m     \u001b[39mreturn\u001b[39;00m (\n\u001b[0;32m--> 471\u001b[0m         ArgKmin\u001b[39m.\u001b[39;49mis_usable_for(X, Y, metric)\n\u001b[1;32m    472\u001b[0m         \u001b[39m# TODO: Support CSR matrices.\u001b[39;00m\n\u001b[1;32m    473\u001b[0m         \u001b[39mand\u001b[39;00m \u001b[39mnot\u001b[39;00m issparse(X)\n\u001b[1;32m    474\u001b[0m         \u001b[39mand\u001b[39;00m \u001b[39mnot\u001b[39;00m issparse(Y)\n\u001b[1;32m    475\u001b[0m         \u001b[39m# TODO: implement Euclidean specialization with GEMM.\u001b[39;00m\n\u001b[1;32m    476\u001b[0m         \u001b[39mand\u001b[39;00m metric \u001b[39mnot\u001b[39;00m \u001b[39min\u001b[39;00m (\u001b[39m\"\u001b[39m\u001b[39meuclidean\u001b[39m\u001b[39m\"\u001b[39m, \u001b[39m\"\u001b[39m\u001b[39msqeuclidean\u001b[39m\u001b[39m\"\u001b[39m)\n\u001b[1;32m    477\u001b[0m     )\n",
      "File \u001b[0;32m/usr/local/anaconda3/lib/python3.10/site-packages/sklearn/metrics/_pairwise_distances_reduction/_dispatcher.py:115\u001b[0m, in \u001b[0;36mBaseDistancesReductionDispatcher.is_usable_for\u001b[0;34m(cls, X, Y, metric)\u001b[0m\n\u001b[1;32m    101\u001b[0m \u001b[39mdef\u001b[39;00m \u001b[39mis_valid_sparse_matrix\u001b[39m(X):\n\u001b[1;32m    102\u001b[0m     \u001b[39mreturn\u001b[39;00m (\n\u001b[1;32m    103\u001b[0m         isspmatrix_csr(X)\n\u001b[1;32m    104\u001b[0m         \u001b[39mand\u001b[39;00m\n\u001b[0;32m   (...)\u001b[0m\n\u001b[1;32m    110\u001b[0m         X\u001b[39m.\u001b[39mindices\u001b[39m.\u001b[39mdtype \u001b[39m==\u001b[39m X\u001b[39m.\u001b[39mindptr\u001b[39m.\u001b[39mdtype \u001b[39m==\u001b[39m np\u001b[39m.\u001b[39mint32\n\u001b[1;32m    111\u001b[0m     )\n\u001b[1;32m    113\u001b[0m is_usable \u001b[39m=\u001b[39m (\n\u001b[1;32m    114\u001b[0m     get_config()\u001b[39m.\u001b[39mget(\u001b[39m\"\u001b[39m\u001b[39menable_cython_pairwise_dist\u001b[39m\u001b[39m\"\u001b[39m, \u001b[39mTrue\u001b[39;00m)\n\u001b[0;32m--> 115\u001b[0m     \u001b[39mand\u001b[39;00m (is_numpy_c_ordered(X) \u001b[39mor\u001b[39;00m is_valid_sparse_matrix(X))\n\u001b[1;32m    116\u001b[0m     \u001b[39mand\u001b[39;00m (is_numpy_c_ordered(Y) \u001b[39mor\u001b[39;00m is_valid_sparse_matrix(Y))\n\u001b[1;32m    117\u001b[0m     \u001b[39mand\u001b[39;00m X\u001b[39m.\u001b[39mdtype \u001b[39m==\u001b[39m Y\u001b[39m.\u001b[39mdtype\n\u001b[1;32m    118\u001b[0m     \u001b[39mand\u001b[39;00m X\u001b[39m.\u001b[39mdtype \u001b[39min\u001b[39;00m (np\u001b[39m.\u001b[39mfloat32, np\u001b[39m.\u001b[39mfloat64)\n\u001b[1;32m    119\u001b[0m     \u001b[39mand\u001b[39;00m metric \u001b[39min\u001b[39;00m \u001b[39mcls\u001b[39m\u001b[39m.\u001b[39mvalid_metrics()\n\u001b[1;32m    120\u001b[0m )\n\u001b[1;32m    122\u001b[0m \u001b[39mreturn\u001b[39;00m is_usable\n",
      "File \u001b[0;32m/usr/local/anaconda3/lib/python3.10/site-packages/sklearn/metrics/_pairwise_distances_reduction/_dispatcher.py:99\u001b[0m, in \u001b[0;36mBaseDistancesReductionDispatcher.is_usable_for.<locals>.is_numpy_c_ordered\u001b[0;34m(X)\u001b[0m\n\u001b[1;32m     98\u001b[0m \u001b[39mdef\u001b[39;00m \u001b[39mis_numpy_c_ordered\u001b[39m(X):\n\u001b[0;32m---> 99\u001b[0m     \u001b[39mreturn\u001b[39;00m \u001b[39mhasattr\u001b[39m(X, \u001b[39m\"\u001b[39m\u001b[39mflags\u001b[39m\u001b[39m\"\u001b[39m) \u001b[39mand\u001b[39;00m X\u001b[39m.\u001b[39;49mflags\u001b[39m.\u001b[39;49mc_contiguous\n",
      "\u001b[0;31mAttributeError\u001b[0m: 'Flags' object has no attribute 'c_contiguous'"
     ]
    }
   ],
   "source": [
    "from sklearn.neighbors import KNeighborsClassifier\n",
    "from sklearn.metrics import accuracy_score\n",
    "\n",
    "def get_knn(train_X, val_X, train_y, val_y):\n",
    "    best_val_accuracy = 0.0\n",
    "    results = []\n",
    "\n",
    "    for n_neighbors in range(1, 21):\n",
    "        for weights in ['uniform', 'distance']:\n",
    "            for p in [1, 2]:\n",
    "                knn_model = KNeighborsClassifier(n_neighbors=n_neighbors, weights=weights, p=p)\n",
    "                knn_model.fit(train_X, train_y)\n",
    "\n",
    "                train_predictions = knn_model.predict(train_X)\n",
    "                val_predictions = knn_model.predict(val_X)\n",
    "\n",
    "                train_accuracy = accuracy_score(train_y, train_predictions)\n",
    "                val_accuracy = accuracy_score(val_y, val_predictions)\n",
    "\n",
    "                results.append((n_neighbors, weights, p, train_accuracy, val_accuracy))\n",
    "\n",
    "                if val_accuracy > best_val_accuracy:\n",
    "                    best_val_accuracy = val_accuracy\n",
    "\n",
    "    results.sort(key=lambda x: x[4], reverse=True)\n",
    "\n",
    "    for result in results:\n",
    "        n_neighbors, weights, p, train_accuracy, val_accuracy = result\n",
    "        print(f\"n_neighbors: {n_neighbors}, weights: {weights}, p: {p}\")\n",
    "        print(f\"Train Accuracy: {train_accuracy:.4f}, Validation Accuracy: {val_accuracy:.4f}\\n\")\n",
    "\n",
    "# Assuming train_X, val_X, train_y, and val_y are available\n",
    "get_knn(train_X, val_X, train_y, val_y)\n"
   ]
  }
 ],
 "metadata": {
  "kernelspec": {
   "display_name": "base",
   "language": "python",
   "name": "python3"
  },
  "language_info": {
   "codemirror_mode": {
    "name": "ipython",
    "version": 3
   },
   "file_extension": ".py",
   "mimetype": "text/x-python",
   "name": "python",
   "nbconvert_exporter": "python",
   "pygments_lexer": "ipython3",
   "version": "3.10.12"
  },
  "orig_nbformat": 4
 },
 "nbformat": 4,
 "nbformat_minor": 2
}
